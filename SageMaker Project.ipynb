{
 "cells": [
  {
   "cell_type": "markdown",
   "metadata": {},
   "source": [
    "# Creating a Sentiment Analysis Web App\n",
    "## Using PyTorch and SageMaker\n",
    "\n",
    "_Deep Learning Nanodegree Program | Deployment_\n",
    "\n",
    "---\n",
    "\n",
    "Now that we have a basic understanding of how SageMaker works we will try to use it to construct a complete project from end to end. Our goal will be to have a simple web page which a user can use to enter a movie review. The web page will then send the review off to our deployed model which will predict the sentiment of the entered review.\n",
    "\n",
    "## Instructions\n",
    "\n",
    "Some template code has already been provided for you, and you will need to implement additional functionality to successfully complete this notebook. You will not need to modify the included code beyond what is requested. Sections that begin with '**TODO**' in the header indicate that you need to complete or implement some portion within them. Instructions will be provided for each section and the specifics of the implementation are marked in the code block with a `# TODO: ...` comment. Please be sure to read the instructions carefully!\n",
    "\n",
    "In addition to implementing code, there will be questions for you to answer which relate to the task and your implementation. Each section where you will answer a question is preceded by a '**Question:**' header. Carefully read each question and provide your answer below the '**Answer:**' header by editing the Markdown cell.\n",
    "\n",
    "> **Note**: Code and Markdown cells can be executed using the **Shift+Enter** keyboard shortcut. In addition, a cell can be edited by typically clicking it (double-click for Markdown cells) or by pressing **Enter** while it is highlighted.\n",
    "\n",
    "## General Outline\n",
    "\n",
    "Recall the general outline for SageMaker projects using a notebook instance.\n",
    "\n",
    "1. Download or otherwise retrieve the data.\n",
    "2. Process / Prepare the data.\n",
    "3. Upload the processed data to S3.\n",
    "4. Train a chosen model.\n",
    "5. Test the trained model (typically using a batch transform job).\n",
    "6. Deploy the trained model.\n",
    "7. Use the deployed model.\n",
    "\n",
    "For this project, you will be following the steps in the general outline with some modifications. \n",
    "\n",
    "First, you will not be testing the model in its own step. You will still be testing the model, however, you will do it by deploying your model and then using the deployed model by sending the test data to it. One of the reasons for doing this is so that you can make sure that your deployed model is working correctly before moving forward.\n",
    "\n",
    "In addition, you will deploy and use your trained model a second time. In the second iteration you will customize the way that your trained model is deployed by including some of your own code. In addition, your newly deployed model will be used in the sentiment analysis web app."
   ]
  },
  {
   "cell_type": "markdown",
   "metadata": {},
   "source": [
    "## Step 1: Downloading the data\n",
    "\n",
    "As in the XGBoost in SageMaker notebook, we will be using the [IMDb dataset](http://ai.stanford.edu/~amaas/data/sentiment/)\n",
    "\n",
    "> Maas, Andrew L., et al. [Learning Word Vectors for Sentiment Analysis](http://ai.stanford.edu/~amaas/data/sentiment/). In _Proceedings of the 49th Annual Meeting of the Association for Computational Linguistics: Human Language Technologies_. Association for Computational Linguistics, 2011."
   ]
  },
  {
   "cell_type": "code",
   "execution_count": 190,
   "metadata": {},
   "outputs": [
    {
     "name": "stdout",
     "output_type": "stream",
     "text": [
      "mkdir: cannot create directory ‘../data’: File exists\n",
      "--2019-08-16 16:10:03--  http://ai.stanford.edu/~amaas/data/sentiment/aclImdb_v1.tar.gz\n",
      "Resolving ai.stanford.edu (ai.stanford.edu)... 171.64.68.10\n",
      "Connecting to ai.stanford.edu (ai.stanford.edu)|171.64.68.10|:80... connected.\n",
      "HTTP request sent, awaiting response... 200 OK\n",
      "Length: 84125825 (80M) [application/x-gzip]\n",
      "Saving to: ‘../data/aclImdb_v1.tar.gz’\n",
      "\n",
      "../data/aclImdb_v1. 100%[===================>]  80.23M  24.4MB/s    in 4.3s    \n",
      "\n",
      "2019-08-16 16:10:08 (18.6 MB/s) - ‘../data/aclImdb_v1.tar.gz’ saved [84125825/84125825]\n",
      "\n"
     ]
    }
   ],
   "source": [
    "%mkdir ../data\n",
    "!wget -O ../data/aclImdb_v1.tar.gz http://ai.stanford.edu/~amaas/data/sentiment/aclImdb_v1.tar.gz\n",
    "!tar -zxf ../data/aclImdb_v1.tar.gz -C ../data"
   ]
  },
  {
   "cell_type": "markdown",
   "metadata": {},
   "source": [
    "## Step 2: Preparing and Processing the data\n",
    "\n",
    "Also, as in the XGBoost notebook, we will be doing some initial data processing. The first few steps are the same as in the XGBoost example. To begin with, we will read in each of the reviews and combine them into a single input structure. Then, we will split the dataset into a training set and a testing set."
   ]
  },
  {
   "cell_type": "code",
   "execution_count": 191,
   "metadata": {},
   "outputs": [],
   "source": [
    "import os\n",
    "import glob\n",
    "\n",
    "def read_imdb_data(data_dir='../data/aclImdb'):\n",
    "    data = {}\n",
    "    labels = {}\n",
    "    \n",
    "    for data_type in ['train', 'test']:\n",
    "        data[data_type] = {}\n",
    "        labels[data_type] = {}\n",
    "        \n",
    "        for sentiment in ['pos', 'neg']:\n",
    "            data[data_type][sentiment] = []\n",
    "            labels[data_type][sentiment] = []\n",
    "            \n",
    "            path = os.path.join(data_dir, data_type, sentiment, '*.txt')\n",
    "            files = glob.glob(path)\n",
    "            \n",
    "            for f in files:\n",
    "                with open(f) as review:\n",
    "                    data[data_type][sentiment].append(review.read())\n",
    "                    # Here we represent a positive review by '1' and a negative review by '0'\n",
    "                    labels[data_type][sentiment].append(1 if sentiment == 'pos' else 0)\n",
    "                    \n",
    "            assert len(data[data_type][sentiment]) == len(labels[data_type][sentiment]), \\\n",
    "                    \"{}/{} data size does not match labels size\".format(data_type, sentiment)\n",
    "                \n",
    "    return data, labels"
   ]
  },
  {
   "cell_type": "code",
   "execution_count": 192,
   "metadata": {},
   "outputs": [
    {
     "name": "stdout",
     "output_type": "stream",
     "text": [
      "IMDB reviews: train = 12500 pos / 12500 neg, test = 12500 pos / 12500 neg\n"
     ]
    }
   ],
   "source": [
    "data, labels = read_imdb_data()\n",
    "print(\"IMDB reviews: train = {} pos / {} neg, test = {} pos / {} neg\".format(\n",
    "            len(data['train']['pos']), len(data['train']['neg']),\n",
    "            len(data['test']['pos']), len(data['test']['neg'])))"
   ]
  },
  {
   "cell_type": "markdown",
   "metadata": {},
   "source": [
    "Now that we've read the raw training and testing data from the downloaded dataset, we will combine the positive and negative reviews and shuffle the resulting records."
   ]
  },
  {
   "cell_type": "code",
   "execution_count": 193,
   "metadata": {},
   "outputs": [],
   "source": [
    "from sklearn.utils import shuffle\n",
    "\n",
    "def prepare_imdb_data(data, labels):\n",
    "    \"\"\"Prepare training and test sets from IMDb movie reviews.\"\"\"\n",
    "    \n",
    "    #Combine positive and negative reviews and labels\n",
    "    data_train = data['train']['pos'] + data['train']['neg']\n",
    "    data_test = data['test']['pos'] + data['test']['neg']\n",
    "    labels_train = labels['train']['pos'] + labels['train']['neg']\n",
    "    labels_test = labels['test']['pos'] + labels['test']['neg']\n",
    "    \n",
    "    #Shuffle reviews and corresponding labels within training and test sets\n",
    "    data_train, labels_train = shuffle(data_train, labels_train)\n",
    "    data_test, labels_test = shuffle(data_test, labels_test)\n",
    "    \n",
    "    # Return a unified training data, test data, training labels, test labets\n",
    "    return data_train, data_test, labels_train, labels_test"
   ]
  },
  {
   "cell_type": "code",
   "execution_count": 194,
   "metadata": {},
   "outputs": [
    {
     "name": "stdout",
     "output_type": "stream",
     "text": [
      "IMDb reviews (combined): train = 25000, test = 25000\n"
     ]
    }
   ],
   "source": [
    "train_X, test_X, train_y, test_y = prepare_imdb_data(data, labels)\n",
    "print(\"IMDb reviews (combined): train = {}, test = {}\".format(len(train_X), len(test_X)))"
   ]
  },
  {
   "cell_type": "markdown",
   "metadata": {},
   "source": [
    "Now that we have our training and testing sets unified and prepared, we should do a quick check and see an example of the data our model will be trained on. This is generally a good idea as it allows you to see how each of the further processing steps affects the reviews and it also ensures that the data has been loaded correctly."
   ]
  },
  {
   "cell_type": "code",
   "execution_count": 83,
   "metadata": {},
   "outputs": [
    {
     "name": "stdout",
     "output_type": "stream",
     "text": [
      "For anyone who's judged others at first meeting, here is the perfect tutorial on depth of character. The grumpy old lady has a soft, thoughtful heart - and needs new friends. The flighty, unsure, 'ditsy' dame who makes inappropriate, uncomfortable comments - sees deep into your soul and has pure love for all. The cold, prim, proper, neglected wife has passion simmering that could boil over at any minute - given the right setting. The perfect beauty - rich, sweet, partying, pursued by throngs - wants peace, quiet, and love without possessiveness. <br /><br />By taking the time to look beyond the surface, you will find treasures in everyday life, from the least expected sources. All it takes is patience and a touch of enchantment.\n",
      "1\n"
     ]
    }
   ],
   "source": [
    "print(train_X[100])\n",
    "print(train_y[100])"
   ]
  },
  {
   "cell_type": "markdown",
   "metadata": {},
   "source": [
    "The first step in processing the reviews is to make sure that any html tags that appear should be removed. In addition we wish to tokenize our input, that way words such as *entertained* and *entertaining* are considered the same with regard to sentiment analysis."
   ]
  },
  {
   "cell_type": "code",
   "execution_count": 195,
   "metadata": {},
   "outputs": [],
   "source": [
    "import nltk\n",
    "from nltk.corpus import stopwords\n",
    "from nltk.stem.porter import *\n",
    "\n",
    "import re\n",
    "from bs4 import BeautifulSoup\n",
    "\n",
    "def review_to_words(review):\n",
    "    nltk.download(\"stopwords\", quiet=True)\n",
    "    stemmer = PorterStemmer()\n",
    "    \n",
    "    text = BeautifulSoup(review, \"html.parser\").get_text() # Remove HTML tags\n",
    "    text = re.sub(r\"[^a-zA-Z0-9]\", \" \", text.lower()) # Convert to lower case\n",
    "    words = text.split() # Split string into words\n",
    "    words = [w for w in words if w not in stopwords.words(\"english\")] # Remove stopwords\n",
    "    words = [PorterStemmer().stem(w) for w in words] # stem\n",
    "    \n",
    "    return words"
   ]
  },
  {
   "cell_type": "markdown",
   "metadata": {},
   "source": [
    "The `review_to_words` method defined above uses `BeautifulSoup` to remove any html tags that appear and uses the `nltk` package to tokenize the reviews. As a check to ensure we know how everything is working, try applying `review_to_words` to one of the reviews in the training set."
   ]
  },
  {
   "cell_type": "code",
   "execution_count": 196,
   "metadata": {},
   "outputs": [
    {
     "data": {
      "text/plain": [
       "['one',\n",
       " 'film',\n",
       " 'worst',\n",
       " 'year',\n",
       " 'tashan',\n",
       " 'first',\n",
       " 'promo',\n",
       " 'gave',\n",
       " 'indic',\n",
       " 'film',\n",
       " 'bore',\n",
       " 'dhoom',\n",
       " '2',\n",
       " 'style',\n",
       " 'film',\n",
       " 'well',\n",
       " 'knew',\n",
       " 'first',\n",
       " 'would',\n",
       " 'bad',\n",
       " 'film',\n",
       " 'whatev',\n",
       " 'mayb',\n",
       " 'yashraj',\n",
       " 'film',\n",
       " 'mayb',\n",
       " 'see',\n",
       " 'cheesi',\n",
       " 'promo',\n",
       " 'film',\n",
       " 'gave',\n",
       " 'shock',\n",
       " 'even',\n",
       " 'worst',\n",
       " 'dhoom',\n",
       " '2',\n",
       " 'expect',\n",
       " 'first',\n",
       " 'saif',\n",
       " 'introduct',\n",
       " 'bore',\n",
       " 'saif',\n",
       " 'kareena',\n",
       " 'meet',\n",
       " 'kareena',\n",
       " 'artifici',\n",
       " 'anil',\n",
       " 'kapoor',\n",
       " 'oh',\n",
       " 'god',\n",
       " 'weird',\n",
       " 'film',\n",
       " 'kinda',\n",
       " 'role',\n",
       " 'act',\n",
       " 'first',\n",
       " 'scene',\n",
       " 'alright',\n",
       " 'act',\n",
       " 'get',\n",
       " 'repetit',\n",
       " 'overact',\n",
       " 'came',\n",
       " 'akshay',\n",
       " 'provid',\n",
       " 'nice',\n",
       " 'scene',\n",
       " 'film',\n",
       " 'becam',\n",
       " 'bore',\n",
       " 'outdat',\n",
       " 'stuff',\n",
       " 'childhood',\n",
       " 'romanc',\n",
       " 'overdos',\n",
       " 'childish',\n",
       " 'rajnik',\n",
       " 'style',\n",
       " 'action',\n",
       " 'scene',\n",
       " 'bore',\n",
       " 'scene',\n",
       " 'end',\n",
       " 'anoth',\n",
       " 'jokevijay',\n",
       " 'krishna',\n",
       " 'acharya',\n",
       " 'would',\n",
       " 'got',\n",
       " '3',\n",
       " 'film',\n",
       " 'direct',\n",
       " 'film',\n",
       " 'work',\n",
       " 'that',\n",
       " 'strategi',\n",
       " 'yashraj',\n",
       " 'money',\n",
       " 'noth',\n",
       " 'els',\n",
       " 'vijay',\n",
       " 'anoth',\n",
       " 'addit',\n",
       " 'list',\n",
       " 'crap',\n",
       " 'filmmak',\n",
       " 'music',\n",
       " 'vishal',\n",
       " 'shekhar',\n",
       " 'ordinaryperform',\n",
       " 'akshay',\n",
       " 'kumar',\n",
       " 'come',\n",
       " 'film',\n",
       " 'whiff',\n",
       " 'fresh',\n",
       " 'air',\n",
       " 'actual',\n",
       " 'provid',\n",
       " 'engag',\n",
       " 'moment',\n",
       " 'saif',\n",
       " 'ali',\n",
       " 'khan',\n",
       " 'irrit',\n",
       " 'kareena',\n",
       " 'equal',\n",
       " 'bad',\n",
       " 'anil',\n",
       " 'kapoor',\n",
       " 'ham',\n",
       " 'outrag',\n",
       " 'spoil',\n",
       " 'show',\n",
       " 'even',\n",
       " 'rest',\n",
       " 'okay']"
      ]
     },
     "execution_count": 196,
     "metadata": {},
     "output_type": "execute_result"
    }
   ],
   "source": [
    "# TODO: Apply review_to_words to a review (train_X[100] or any other review)\n",
    "review_to_words(train_X[100])"
   ]
  },
  {
   "cell_type": "markdown",
   "metadata": {},
   "source": [
    "**Question:** Above we mentioned that `review_to_words` method removes html formatting and allows us to tokenize the words found in a review, for example, converting *entertained* and *entertaining* into *entertain* so that they are treated as though they are the same word. What else, if anything, does this method do to the input?"
   ]
  },
  {
   "cell_type": "markdown",
   "metadata": {},
   "source": [
    "**Answer:**\n",
    "Apart from formatting HTML formatting and tokenize the word , it does the following things\n",
    "\n",
    "    1.convert all the strings into lowercase\n",
    "    2.Split the string into words \n",
    "    3.Remove stopwords with nltk library \n"
   ]
  },
  {
   "cell_type": "markdown",
   "metadata": {},
   "source": [
    "The method below applies the `review_to_words` method to each of the reviews in the training and testing datasets. In addition it caches the results. This is because performing this processing step can take a long time. This way if you are unable to complete the notebook in the current session, you can come back without needing to process the data a second time."
   ]
  },
  {
   "cell_type": "code",
   "execution_count": 86,
   "metadata": {},
   "outputs": [],
   "source": [
    "import pickle\n",
    "\n",
    "cache_dir = os.path.join(\"../cache\", \"sentiment_analysis\")  # where to store cache files\n",
    "os.makedirs(cache_dir, exist_ok=True)  # ensure cache directory exists\n",
    "\n",
    "def preprocess_data(data_train, data_test, labels_train, labels_test,\n",
    "                    cache_dir=cache_dir, cache_file=\"preprocessed_data.pkl\"):\n",
    "    \"\"\"Convert each review to words; read from cache if available.\"\"\"\n",
    "\n",
    "    # If cache_file is not None, try to read from it first\n",
    "    cache_data = None\n",
    "    if cache_file is not None:\n",
    "        try:\n",
    "            with open(os.path.join(cache_dir, cache_file), \"rb\") as f:\n",
    "                cache_data = pickle.load(f)\n",
    "            print(\"Read preprocessed data from cache file:\", cache_file)\n",
    "        except:\n",
    "            pass  # unable to read from cache, but that's okay\n",
    "    \n",
    "    # If cache is missing, then do the heavy lifting\n",
    "    if cache_data is None:\n",
    "        # Preprocess training and test data to obtain words for each review\n",
    "        #words_train = list(map(review_to_words, data_train))\n",
    "        #words_test = list(map(review_to_words, data_test))\n",
    "        words_train = [review_to_words(review) for review in data_train]\n",
    "        words_test = [review_to_words(review) for review in data_test]\n",
    "        \n",
    "        # Write to cache file for future runs\n",
    "        if cache_file is not None:\n",
    "            cache_data = dict(words_train=words_train, words_test=words_test,\n",
    "                              labels_train=labels_train, labels_test=labels_test)\n",
    "            with open(os.path.join(cache_dir, cache_file), \"wb\") as f:\n",
    "                pickle.dump(cache_data, f)\n",
    "            print(\"Wrote preprocessed data to cache file:\", cache_file)\n",
    "    else:\n",
    "        # Unpack data loaded from cache file\n",
    "        words_train, words_test, labels_train, labels_test = (cache_data['words_train'],\n",
    "                cache_data['words_test'], cache_data['labels_train'], cache_data['labels_test'])\n",
    "    \n",
    "    return words_train, words_test, labels_train, labels_test"
   ]
  },
  {
   "cell_type": "code",
   "execution_count": 120,
   "metadata": {},
   "outputs": [
    {
     "name": "stdout",
     "output_type": "stream",
     "text": [
      "Read preprocessed data from cache file: preprocessed_data.pkl\n"
     ]
    }
   ],
   "source": [
    "# Preprocess data\n",
    "train_X, test_X, train_y, test_y = preprocess_data(train_X, test_X, train_y, test_y)"
   ]
  },
  {
   "cell_type": "markdown",
   "metadata": {},
   "source": [
    "## Transform the data\n",
    "\n",
    "In the XGBoost notebook we transformed the data from its word representation to a bag-of-words feature representation. For the model we are going to construct in this notebook we will construct a feature representation which is very similar. To start, we will represent each word as an integer. Of course, some of the words that appear in the reviews occur very infrequently and so likely don't contain much information for the purposes of sentiment analysis. The way we will deal with this problem is that we will fix the size of our working vocabulary and we will only include the words that appear most frequently. We will then combine all of the infrequent words into a single category and, in our case, we will label it as `1`.\n",
    "\n",
    "Since we will be using a recurrent neural network, it will be convenient if the length of each review is the same. To do this, we will fix a size for our reviews and then pad short reviews with the category 'no word' (which we will label `0`) and truncate long reviews."
   ]
  },
  {
   "cell_type": "markdown",
   "metadata": {},
   "source": [
    "### (TODO) Create a word dictionary\n",
    "\n",
    "To begin with, we need to construct a way to map words that appear in the reviews to integers. Here we fix the size of our vocabulary (including the 'no word' and 'infrequent' categories) to be `5000` but you may wish to change this to see how it affects the model.\n",
    "\n",
    "> **TODO:** Complete the implementation for the `build_dict()` method below. Note that even though the vocab_size is set to `5000`, we only want to construct a mapping for the most frequently appearing `4998` words. This is because we want to reserve the special labels `0` for 'no word' and `1` for 'infrequent word'."
   ]
  },
  {
   "cell_type": "code",
   "execution_count": 121,
   "metadata": {},
   "outputs": [],
   "source": [
    "import numpy as np\n",
    "\n",
    "def build_dict(data, vocab_size = 5000):\n",
    "    \"\"\"Construct and return a dictionary mapping each of the most frequently appearing words to a unique integer.\"\"\"\n",
    "    \n",
    "    # TODO: Determine how often each word appears in `data`. Note that `data` is a list of sentences and that a\n",
    "    #       sentence is a list of words.\n",
    "        \n",
    "    word_count = {} # A dict storing the words that appear in the reviews along with how often they occur\n",
    "    \n",
    "    for review in data:\n",
    "        for word in review:\n",
    "            if word in word_count:\n",
    "                word_count[word] += 1;\n",
    "            else:\n",
    "                word_count[word] = 1;\n",
    "    \n",
    "    #print(word_count);\n",
    "    \n",
    "    #word_count = {} # A dict storing the words that appear in the reviews along with how often they occur\n",
    "    \n",
    "    # TODO: Sort the words found in `data` so that sorted_words[0] is the most frequently appearing word and\n",
    "    #       sorted_words[-1] is the least frequently appearing word.\n",
    "    \n",
    "    sorted_words = [item[0] for item in sorted(word_count.items(), key=lambda kv: kv[1], reverse = True)]\n",
    "    #print(sorted_words)\n",
    "    word_dict = {} # This is what we are building, a dictionary that translates words into integers\n",
    "    for idx, word in enumerate(sorted_words[:vocab_size - 2]): # The -2 is so that we save room for the 'no word'\n",
    "        word_dict[word] = idx + 2                              # 'infrequent' labels\n",
    "        \n",
    "    return word_dict"
   ]
  },
  {
   "cell_type": "code",
   "execution_count": 122,
   "metadata": {},
   "outputs": [
    {
     "name": "stdout",
     "output_type": "stream",
     "text": [
      "{'movi': 2, 'film': 3, 'one': 4, 'like': 5, 'time': 6, 'good': 7, 'make': 8, 'charact': 9, 'get': 10, 'see': 11, 'watch': 12, 'stori': 13, 'even': 14, 'would': 15, 'realli': 16, 'well': 17, 'scene': 18, 'look': 19, 'show': 20, 'much': 21, 'end': 22, 'peopl': 23, 'bad': 24, 'go': 25, 'great': 26, 'also': 27, 'first': 28, 'love': 29, 'think': 30, 'way': 31, 'act': 32, 'play': 33, 'made': 34, 'thing': 35, 'could': 36, 'know': 37, 'say': 38, 'seem': 39, 'work': 40, 'plot': 41, 'two': 42, 'actor': 43, 'year': 44, 'come': 45, 'mani': 46, 'seen': 47, 'take': 48, 'want': 49, 'life': 50, 'never': 51, 'littl': 52, 'best': 53, 'tri': 54, 'man': 55, 'ever': 56, 'give': 57, 'better': 58, 'still': 59, 'perform': 60, 'find': 61, 'feel': 62, 'part': 63, 'back': 64, 'use': 65, 'someth': 66, 'director': 67, 'actual': 68, 'interest': 69, 'lot': 70, 'real': 71, 'old': 72, 'cast': 73, 'though': 74, 'live': 75, 'star': 76, 'enjoy': 77, 'guy': 78, 'anoth': 79, 'new': 80, 'role': 81, 'noth': 82, '10': 83, 'funni': 84, 'music': 85, 'point': 86, 'start': 87, 'set': 88, 'girl': 89, 'origin': 90, 'day': 91, 'world': 92, 'everi': 93, 'believ': 94, 'turn': 95, 'quit': 96, 'direct': 97, 'us': 98, 'thought': 99, 'fact': 100, 'minut': 101, 'horror': 102, 'kill': 103, 'action': 104, 'comedi': 105, 'pretti': 106, 'young': 107, 'wonder': 108, 'happen': 109, 'around': 110, 'got': 111, 'effect': 112, 'right': 113, 'long': 114, 'howev': 115, 'big': 116, 'line': 117, 'famili': 118, 'enough': 119, 'seri': 120, 'may': 121, 'need': 122, 'fan': 123, 'bit': 124, 'script': 125, 'beauti': 126, 'person': 127, 'becom': 128, 'without': 129, 'must': 130, 'alway': 131, 'friend': 132, 'tell': 133, 'reason': 134, 'saw': 135, 'last': 136, 'final': 137, 'kid': 138, 'almost': 139, 'put': 140, 'least': 141, 'sure': 142, 'done': 143, 'whole': 144, 'place': 145, 'complet': 146, 'kind': 147, 'differ': 148, 'expect': 149, 'shot': 150, 'far': 151, 'mean': 152, 'anyth': 153, 'book': 154, 'laugh': 155, 'might': 156, 'name': 157, 'sinc': 158, 'begin': 159, '2': 160, 'probabl': 161, 'woman': 162, 'help': 163, 'entertain': 164, 'let': 165, 'screen': 166, 'call': 167, 'tv': 168, 'moment': 169, 'away': 170, 'read': 171, 'yet': 172, 'rather': 173, 'worst': 174, 'run': 175, 'fun': 176, 'lead': 177, 'hard': 178, 'audienc': 179, 'idea': 180, 'anyon': 181, 'episod': 182, 'american': 183, 'found': 184, 'appear': 185, 'bore': 186, 'especi': 187, 'although': 188, 'hope': 189, 'keep': 190, 'cours': 191, 'anim': 192, 'job': 193, 'goe': 194, 'move': 195, 'sens': 196, 'dvd': 197, 'version': 198, 'war': 199, 'money': 200, 'someon': 201, 'mind': 202, 'mayb': 203, 'problem': 204, 'true': 205, 'hous': 206, 'everyth': 207, 'nice': 208, 'second': 209, 'rate': 210, 'three': 211, 'night': 212, 'follow': 213, 'face': 214, 'recommend': 215, 'product': 216, 'main': 217, 'worth': 218, 'leav': 219, 'human': 220, 'special': 221, 'excel': 222, 'togeth': 223, 'wast': 224, 'everyon': 225, 'sound': 226, 'john': 227, 'hand': 228, '1': 229, 'father': 230, 'later': 231, 'eye': 232, 'said': 233, 'view': 234, 'instead': 235, 'review': 236, 'boy': 237, 'high': 238, 'hour': 239, 'miss': 240, 'talk': 241, 'classic': 242, 'wife': 243, 'understand': 244, 'left': 245, 'care': 246, 'black': 247, 'death': 248, 'open': 249, 'murder': 250, 'write': 251, 'half': 252, 'head': 253, 'rememb': 254, 'chang': 255, 'viewer': 256, 'fight': 257, 'gener': 258, 'surpris': 259, 'includ': 260, 'short': 261, 'die': 262, 'fall': 263, 'less': 264, 'els': 265, 'entir': 266, 'piec': 267, 'involv': 268, 'pictur': 269, 'simpli': 270, 'home': 271, 'top': 272, 'power': 273, 'total': 274, 'usual': 275, 'budget': 276, 'attempt': 277, 'suppos': 278, 'releas': 279, 'hollywood': 280, 'terribl': 281, 'song': 282, 'men': 283, 'possibl': 284, 'featur': 285, 'portray': 286, 'disappoint': 287, 'poor': 288, '3': 289, 'coupl': 290, 'stupid': 291, 'camera': 292, 'dead': 293, 'wrong': 294, 'low': 295, 'produc': 296, 'video': 297, 'either': 298, 'aw': 299, 'definit': 300, 'except': 301, 'rest': 302, 'given': 303, 'absolut': 304, 'women': 305, 'lack': 306, 'word': 307, 'writer': 308, 'titl': 309, 'talent': 310, 'decid': 311, 'full': 312, 'perfect': 313, 'along': 314, 'style': 315, 'close': 316, 'truli': 317, 'school': 318, 'emot': 319, 'save': 320, 'sex': 321, 'age': 322, 'next': 323, 'bring': 324, 'mr': 325, 'case': 326, 'killer': 327, 'heart': 328, 'comment': 329, 'sort': 330, 'creat': 331, 'perhap': 332, 'came': 333, 'brother': 334, 'sever': 335, 'joke': 336, 'art': 337, 'dialogu': 338, 'game': 339, 'small': 340, 'base': 341, 'flick': 342, 'written': 343, 'sequenc': 344, 'meet': 345, 'earli': 346, 'often': 347, 'other': 348, 'mother': 349, 'develop': 350, 'humor': 351, 'actress': 352, 'consid': 353, 'dark': 354, 'guess': 355, 'amaz': 356, 'unfortun': 357, 'light': 358, 'lost': 359, 'exampl': 360, 'cinema': 361, 'drama': 362, 'white': 363, 'ye': 364, 'experi': 365, 'imagin': 366, 'mention': 367, 'stop': 368, 'natur': 369, 'forc': 370, 'manag': 371, 'felt': 372, 'cut': 373, 'present': 374, 'children': 375, 'fail': 376, 'son': 377, 'support': 378, 'qualiti': 379, 'car': 380, 'ask': 381, 'hit': 382, 'side': 383, 'voic': 384, 'extrem': 385, 'impress': 386, 'wors': 387, 'evil': 388, 'went': 389, 'stand': 390, 'certainli': 391, 'basic': 392, 'oh': 393, 'overal': 394, 'favorit': 395, 'horribl': 396, 'mysteri': 397, 'number': 398, 'type': 399, 'danc': 400, 'wait': 401, 'hero': 402, 'alreadi': 403, '5': 404, 'learn': 405, 'matter': 406, '4': 407, 'michael': 408, 'genr': 409, 'fine': 410, 'despit': 411, 'throughout': 412, 'walk': 413, 'success': 414, 'histori': 415, 'question': 416, 'zombi': 417, 'town': 418, 'relationship': 419, 'realiz': 420, 'past': 421, 'child': 422, 'daughter': 423, 'late': 424, 'b': 425, 'wish': 426, 'credit': 427, 'hate': 428, 'event': 429, 'theme': 430, 'touch': 431, 'citi': 432, 'today': 433, 'sometim': 434, 'behind': 435, 'god': 436, 'twist': 437, 'sit': 438, 'stay': 439, 'deal': 440, 'annoy': 441, 'abl': 442, 'rent': 443, 'pleas': 444, 'edit': 445, 'blood': 446, 'deserv': 447, 'anyway': 448, 'comic': 449, 'appar': 450, 'soon': 451, 'gave': 452, 'etc': 453, 'level': 454, 'slow': 455, 'chanc': 456, 'score': 457, 'bodi': 458, 'brilliant': 459, 'incred': 460, 'figur': 461, 'situat': 462, 'self': 463, 'major': 464, 'stuff': 465, 'decent': 466, 'element': 467, 'dream': 468, 'return': 469, 'obvious': 470, 'continu': 471, 'order': 472, 'pace': 473, 'ridicul': 474, 'happi': 475, 'highli': 476, 'group': 477, 'add': 478, 'thank': 479, 'ladi': 480, 'novel': 481, 'pain': 482, 'speak': 483, 'career': 484, 'shoot': 485, 'strang': 486, 'heard': 487, 'sad': 488, 'polic': 489, 'husband': 490, 'import': 491, 'break': 492, 'took': 493, 'cannot': 494, 'strong': 495, 'robert': 496, 'predict': 497, 'violenc': 498, 'hilari': 499, 'recent': 500, 'countri': 501, 'known': 502, 'particularli': 503, 'pick': 504, 'documentari': 505, 'season': 506, 'critic': 507, 'jame': 508, 'compar': 509, 'alon': 510, 'obviou': 511, 'told': 512, 'state': 513, 'rock': 514, 'visual': 515, 'offer': 516, 'theater': 517, 'exist': 518, 'opinion': 519, 'gore': 520, 'hold': 521, 'crap': 522, 'result': 523, 'room': 524, 'realiti': 525, 'hear': 526, 'clich': 527, 'effort': 528, 'thriller': 529, 'caus': 530, 'explain': 531, 'sequel': 532, 'serious': 533, 'king': 534, 'local': 535, 'ago': 536, 'none': 537, 'hell': 538, 'note': 539, 'allow': 540, 'sister': 541, 'david': 542, 'simpl': 543, 'femal': 544, 'deliv': 545, 'ok': 546, 'class': 547, 'convinc': 548, 'check': 549, 'suspens': 550, 'win': 551, 'buy': 552, 'oscar': 553, 'huge': 554, 'valu': 555, 'sexual': 556, 'cool': 557, 'scari': 558, 'similar': 559, 'excit': 560, 'apart': 561, 'provid': 562, 'exactli': 563, 'shown': 564, 'avoid': 565, 'seriou': 566, 'english': 567, 'whose': 568, 'taken': 569, 'cinematographi': 570, 'shock': 571, 'polit': 572, 'spoiler': 573, 'offic': 574, 'across': 575, 'middl': 576, 'street': 577, 'pass': 578, 'messag': 579, 'somewhat': 580, 'charm': 581, 'silli': 582, 'modern': 583, 'confus': 584, 'filmmak': 585, 'form': 586, 'tale': 587, 'singl': 588, 'jack': 589, 'mostli': 590, 'carri': 591, 'william': 592, 'attent': 593, 'sing': 594, 'five': 595, 'subject': 596, 'prove': 597, 'richard': 598, 'team': 599, 'stage': 600, 'cop': 601, 'unlik': 602, 'georg': 603, 'televis': 604, 'monster': 605, 'earth': 606, 'cover': 607, 'villain': 608, 'pay': 609, 'marri': 610, 'toward': 611, 'build': 612, 'parent': 613, 'pull': 614, 'due': 615, 'respect': 616, 'fill': 617, 'dialog': 618, 'four': 619, 'remind': 620, 'futur': 621, 'typic': 622, 'weak': 623, '7': 624, 'cheap': 625, 'intellig': 626, 'atmospher': 627, 'british': 628, '80': 629, 'clearli': 630, 'non': 631, 'paul': 632, 'dog': 633, '8': 634, 'knew': 635, 'fast': 636, 'artist': 637, 'crime': 638, 'easili': 639, 'escap': 640, 'adult': 641, 'doubt': 642, 'detail': 643, 'date': 644, 'member': 645, 'romant': 646, 'fire': 647, 'gun': 648, 'drive': 649, 'straight': 650, 'beyond': 651, 'fit': 652, 'attack': 653, 'imag': 654, 'upon': 655, 'posit': 656, 'whether': 657, 'fantast': 658, 'peter': 659, 'aspect': 660, 'captur': 661, 'appreci': 662, 'ten': 663, 'plan': 664, 'discov': 665, 'remain': 666, 'period': 667, 'near': 668, 'air': 669, 'realist': 670, 'mark': 671, 'red': 672, 'dull': 673, 'adapt': 674, 'within': 675, 'lose': 676, 'spend': 677, 'color': 678, 'materi': 679, 'chase': 680, 'mari': 681, 'storylin': 682, 'forget': 683, 'bunch': 684, 'clear': 685, 'lee': 686, 'victim': 687, 'nearli': 688, 'box': 689, 'york': 690, 'inspir': 691, 'match': 692, 'finish': 693, 'mess': 694, 'standard': 695, 'easi': 696, 'truth': 697, 'busi': 698, 'suffer': 699, 'space': 700, 'dramat': 701, 'bill': 702, 'western': 703, 'e': 704, 'list': 705, 'battl': 706, 'notic': 707, 'de': 708, 'french': 709, 'ad': 710, '9': 711, 'tom': 712, 'larg': 713, 'among': 714, 'eventu': 715, 'accept': 716, 'train': 717, 'agre': 718, 'soundtrack': 719, 'spirit': 720, 'third': 721, 'teenag': 722, 'soldier': 723, 'adventur': 724, 'famou': 725, 'sorri': 726, 'suggest': 727, 'drug': 728, 'normal': 729, 'babi': 730, 'cri': 731, 'ultim': 732, 'troubl': 733, 'contain': 734, 'certain': 735, 'cultur': 736, 'romanc': 737, 'rare': 738, 'lame': 739, 'somehow': 740, 'mix': 741, 'disney': 742, 'gone': 743, 'cartoon': 744, 'student': 745, 'fear': 746, 'reveal': 747, 'suck': 748, 'kept': 749, 'attract': 750, 'appeal': 751, 'premis': 752, 'design': 753, 'secret': 754, 'greatest': 755, 'shame': 756, 'throw': 757, 'scare': 758, 'copi': 759, 'wit': 760, 'admit': 761, 'america': 762, 'particular': 763, 'relat': 764, 'brought': 765, 'screenplay': 766, 'whatev': 767, 'pure': 768, '70': 769, 'averag': 770, 'harri': 771, 'master': 772, 'describ': 773, 'treat': 774, 'male': 775, '20': 776, 'issu': 777, 'fantasi': 778, 'warn': 779, 'inde': 780, 'background': 781, 'forward': 782, 'free': 783, 'project': 784, 'japanes': 785, 'memor': 786, 'poorli': 787, 'award': 788, 'locat': 789, 'amus': 790, 'potenti': 791, 'struggl': 792, 'magic': 793, 'weird': 794, 'societi': 795, 'okay': 796, 'imdb': 797, 'doctor': 798, 'accent': 799, 'water': 800, 'hot': 801, '30': 802, 'dr': 803, 'express': 804, 'alien': 805, 'odd': 806, 'crazi': 807, 'choic': 808, 'fiction': 809, 'studio': 810, 'becam': 811, 'control': 812, 'masterpiec': 813, 'difficult': 814, 'fli': 815, 'joe': 816, 'scream': 817, 'costum': 818, 'lover': 819, 'refer': 820, 'uniqu': 821, 'remak': 822, 'girlfriend': 823, 'vampir': 824, 'prison': 825, 'execut': 826, 'wear': 827, 'jump': 828, 'wood': 829, 'unless': 830, 'creepi': 831, 'cheesi': 832, 'superb': 833, 'otherwis': 834, 'parti': 835, 'ghost': 836, 'roll': 837, 'public': 838, 'mad': 839, 'depict': 840, 'earlier': 841, 'moral': 842, 'week': 843, 'badli': 844, 'jane': 845, 'dumb': 846, 'fi': 847, 'grow': 848, 'flaw': 849, 'deep': 850, 'sci': 851, 'maker': 852, 'cat': 853, 'older': 854, 'connect': 855, 'footag': 856, 'bother': 857, 'plenti': 858, 'outsid': 859, 'stick': 860, 'gay': 861, 'catch': 862, 'plu': 863, 'co': 864, 'popular': 865, 'equal': 866, 'social': 867, 'disturb': 868, 'quickli': 869, 'perfectli': 870, 'dress': 871, 'era': 872, '90': 873, 'mistak': 874, 'lie': 875, 'ride': 876, 'previou': 877, 'combin': 878, 'concept': 879, 'band': 880, 'surviv': 881, 'answer': 882, 'rich': 883, 'front': 884, 'sweet': 885, 'christma': 886, 'insid': 887, 'eat': 888, 'concern': 889, 'bare': 890, 'beat': 891, 'ben': 892, 'listen': 893, 'c': 894, 'serv': 895, 'term': 896, 'meant': 897, 'german': 898, 'la': 899, 'stereotyp': 900, 'hardli': 901, 'law': 902, 'innoc': 903, 'desper': 904, 'promis': 905, 'memori': 906, 'intent': 907, 'cute': 908, 'variou': 909, 'steal': 910, 'inform': 911, 'brain': 912, 'post': 913, 'tone': 914, 'island': 915, 'amount': 916, 'compani': 917, 'track': 918, 'nuditi': 919, 'store': 920, 'claim': 921, '50': 922, 'flat': 923, 'hair': 924, 'land': 925, 'univers': 926, 'kick': 927, 'fairli': 928, 'danger': 929, 'scott': 930, 'player': 931, 'step': 932, 'crew': 933, 'plain': 934, 'toni': 935, 'share': 936, 'centuri': 937, 'tast': 938, 'engag': 939, 'achiev': 940, 'travel': 941, 'cold': 942, 'record': 943, 'rip': 944, 'suit': 945, 'sadli': 946, 'manner': 947, 'wrote': 948, 'tension': 949, 'spot': 950, 'fascin': 951, 'intens': 952, 'familiar': 953, 'remark': 954, 'depth': 955, 'burn': 956, 'destroy': 957, 'histor': 958, 'sleep': 959, 'purpos': 960, 'languag': 961, 'ignor': 962, 'ruin': 963, 'delight': 964, 'unbeliev': 965, 'italian': 966, 'abil': 967, 'collect': 968, 'soul': 969, 'detect': 970, 'clever': 971, 'violent': 972, 'rape': 973, 'reach': 974, 'door': 975, 'trash': 976, 'liter': 977, 'scienc': 978, 'caught': 979, 'reveng': 980, 'commun': 981, 'creatur': 982, 'trip': 983, 'approach': 984, 'intrigu': 985, 'fashion': 986, 'paint': 987, 'skill': 988, 'introduc': 989, 'complex': 990, 'channel': 991, 'camp': 992, 'christian': 993, 'extra': 994, 'hole': 995, 'ann': 996, 'immedi': 997, 'limit': 998, 'mental': 999, 'million': 1000, 'mere': 1001, '6': 1002, 'comput': 1003, 'slightli': 1004, 'conclus': 1005, 'slasher': 1006, 'suddenli': 1007, 'imposs': 1008, 'crimin': 1009, 'teen': 1010, 'neither': 1011, 'spent': 1012, 'nation': 1013, 'physic': 1014, 'respons': 1015, 'planet': 1016, 'fake': 1017, 'receiv': 1018, 'sick': 1019, 'blue': 1020, 'bizarr': 1021, 'embarrass': 1022, 'indian': 1023, 'ring': 1024, '15': 1025, 'pop': 1026, 'drop': 1027, 'drag': 1028, 'haunt': 1029, 'suspect': 1030, 'pointless': 1031, 'search': 1032, 'edg': 1033, 'handl': 1034, 'common': 1035, 'biggest': 1036, 'arriv': 1037, 'hurt': 1038, 'faith': 1039, 'technic': 1040, 'angel': 1041, 'dad': 1042, 'genuin': 1043, 'solid': 1044, 'awesom': 1045, 'f': 1046, 'former': 1047, 'focu': 1048, 'van': 1049, 'colleg': 1050, 'count': 1051, 'heavi': 1052, 'tear': 1053, 'rais': 1054, 'wall': 1055, 'visit': 1056, 'younger': 1057, 'laughabl': 1058, 'fair': 1059, 'sign': 1060, 'excus': 1061, 'cult': 1062, 'motion': 1063, 'tough': 1064, 'key': 1065, 'super': 1066, 'desir': 1067, 'stun': 1068, 'addit': 1069, 'exploit': 1070, 'cloth': 1071, 'tortur': 1072, 'smith': 1073, 'davi': 1074, 'race': 1075, 'cross': 1076, 'author': 1077, 'jim': 1078, 'consist': 1079, 'minor': 1080, 'compel': 1081, 'focus': 1082, 'pathet': 1083, 'chemistri': 1084, 'commit': 1085, 'park': 1086, 'tradit': 1087, 'obsess': 1088, 'frank': 1089, 'grade': 1090, 'asid': 1091, '60': 1092, 'brutal': 1093, 'somewher': 1094, 'steve': 1095, 'opportun': 1096, 'rule': 1097, 'depress': 1098, 'u': 1099, 'grant': 1100, 'explor': 1101, 'honest': 1102, 'besid': 1103, 'dub': 1104, 'anti': 1105, 'intend': 1106, 'trailer': 1107, 'bar': 1108, 'west': 1109, 'regard': 1110, 'longer': 1111, 'scientist': 1112, 'judg': 1113, 'decad': 1114, 'silent': 1115, 'armi': 1116, 'creativ': 1117, 'wild': 1118, 'g': 1119, 'south': 1120, 'stewart': 1121, 'draw': 1122, 'road': 1123, 'govern': 1124, 'boss': 1125, 'ex': 1126, 'practic': 1127, 'festiv': 1128, 'gang': 1129, 'motiv': 1130, 'surprisingli': 1131, 'club': 1132, 'london': 1133, 'redeem': 1134, 'green': 1135, 'page': 1136, 'aliv': 1137, 'idiot': 1138, 'machin': 1139, 'militari': 1140, 'display': 1141, 'repeat': 1142, 'thrill': 1143, 'yeah': 1144, '100': 1145, 'nobodi': 1146, 'folk': 1147, '40': 1148, 'journey': 1149, 'garbag': 1150, 'smile': 1151, 'tire': 1152, 'ground': 1153, 'bought': 1154, 'mood': 1155, 'stone': 1156, 'sam': 1157, 'cost': 1158, 'noir': 1159, 'mouth': 1160, 'terrif': 1161, 'agent': 1162, 'utterli': 1163, 'requir': 1164, 'sexi': 1165, 'area': 1166, 'honestli': 1167, 'report': 1168, 'geniu': 1169, 'humour': 1170, 'investig': 1171, 'glad': 1172, 'enter': 1173, 'serial': 1174, 'occasion': 1175, 'passion': 1176, 'narr': 1177, 'climax': 1178, 'marriag': 1179, 'studi': 1180, 'industri': 1181, 'center': 1182, 'nowher': 1183, 'ship': 1184, 'demon': 1185, 'charli': 1186, 'bear': 1187, 'hors': 1188, 'loos': 1189, 'hang': 1190, 'wow': 1191, 'graphic': 1192, 'giant': 1193, 'admir': 1194, 'send': 1195, 'damn': 1196, 'loud': 1197, 'profession': 1198, 'subtl': 1199, 'rel': 1200, 'nake': 1201, 'blow': 1202, 'bottom': 1203, 'batman': 1204, 'insult': 1205, 'doubl': 1206, 'boyfriend': 1207, 'r': 1208, 'kelli': 1209, 'initi': 1210, 'frame': 1211, 'opera': 1212, 'gem': 1213, 'drawn': 1214, 'cinemat': 1215, 'affect': 1216, 'challeng': 1217, 'church': 1218, 'nightmar': 1219, 'j': 1220, 'seek': 1221, 'fulli': 1222, 'evid': 1223, 'l': 1224, 'arm': 1225, 'essenti': 1226, 'conflict': 1227, 'henri': 1228, 'christoph': 1229, 'wind': 1230, 'grace': 1231, 'assum': 1232, 'witch': 1233, 'narrat': 1234, 'hunt': 1235, 'push': 1236, 'wise': 1237, 'chri': 1238, 'nomin': 1239, 'month': 1240, 'repres': 1241, 'hide': 1242, 'affair': 1243, 'avail': 1244, 'sceneri': 1245, 'smart': 1246, 'thu': 1247, 'bond': 1248, 'justic': 1249, 'interview': 1250, 'outstand': 1251, 'flashback': 1252, 'satisfi': 1253, 'presenc': 1254, 'constantli': 1255, 'bed': 1256, 'central': 1257, 'iron': 1258, 'content': 1259, 'sell': 1260, 'gag': 1261, 'everybodi': 1262, 'slowli': 1263, 'hotel': 1264, 'hire': 1265, 'system': 1266, 'adam': 1267, 'hey': 1268, 'charl': 1269, 'thrown': 1270, 'individu': 1271, 'jone': 1272, 'allen': 1273, 'mediocr': 1274, 'lesson': 1275, 'ray': 1276, 'billi': 1277, 'photographi': 1278, 'cameo': 1279, 'fellow': 1280, 'pari': 1281, 'strike': 1282, 'absurd': 1283, 'independ': 1284, 'brief': 1285, 'rise': 1286, 'neg': 1287, 'impact': 1288, 'phone': 1289, 'model': 1290, 'born': 1291, 'ill': 1292, 'angl': 1293, 'fresh': 1294, 'spoil': 1295, 'likabl': 1296, 'abus': 1297, 'discuss': 1298, 'hill': 1299, 'ahead': 1300, 'sight': 1301, 'photograph': 1302, 'sent': 1303, 'blame': 1304, 'shine': 1305, 'occur': 1306, 'logic': 1307, 'bruce': 1308, 'mainli': 1309, 'skip': 1310, 'commerci': 1311, 'forev': 1312, 'surround': 1313, 'teacher': 1314, 'held': 1315, 'segment': 1316, 'blond': 1317, 'zero': 1318, 'summer': 1319, 'resembl': 1320, 'trap': 1321, 'satir': 1322, 'six': 1323, 'queen': 1324, 'ball': 1325, 'fool': 1326, 'sub': 1327, 'twice': 1328, 'tragedi': 1329, 'reaction': 1330, 'pack': 1331, 'bomb': 1332, 'will': 1333, 'hospit': 1334, 'protagonist': 1335, 'sport': 1336, 'mile': 1337, 'trust': 1338, 'mom': 1339, 'drink': 1340, 'vote': 1341, 'jerri': 1342, 'encount': 1343, 'plane': 1344, 'program': 1345, 'al': 1346, 'current': 1347, 'station': 1348, 'martin': 1349, 'celebr': 1350, 'choos': 1351, 'join': 1352, 'round': 1353, 'tragic': 1354, 'lord': 1355, 'field': 1356, 'favourit': 1357, 'robot': 1358, 'vision': 1359, 'jean': 1360, 'tie': 1361, 'arthur': 1362, 'roger': 1363, 'fortun': 1364, 'random': 1365, 'psycholog': 1366, 'dread': 1367, 'intern': 1368, 'improv': 1369, 'prefer': 1370, 'nonsens': 1371, 'epic': 1372, 'highlight': 1373, 'pleasur': 1374, 'legend': 1375, 'formula': 1376, 'dollar': 1377, 'tape': 1378, '11': 1379, 'fox': 1380, 'gorgeou': 1381, 'object': 1382, 'wide': 1383, 'thin': 1384, 'porn': 1385, 'influenc': 1386, 'buddi': 1387, 'ugli': 1388, 'prepar': 1389, 'nasti': 1390, 'ii': 1391, 'warm': 1392, 'progress': 1393, 'reflect': 1394, 'supposedli': 1395, 'worthi': 1396, 'youth': 1397, 'unusu': 1398, 'length': 1399, 'latter': 1400, 'crash': 1401, 'superior': 1402, 'seven': 1403, 'childhood': 1404, 'shop': 1405, 'remot': 1406, 'theatr': 1407, 'funniest': 1408, 'disgust': 1409, 'paid': 1410, 'pilot': 1411, 'trick': 1412, 'fell': 1413, 'convers': 1414, 'castl': 1415, 'rob': 1416, 'establish': 1417, 'disast': 1418, 'gangster': 1419, 'mine': 1420, 'heaven': 1421, 'disappear': 1422, 'suicid': 1423, 'ident': 1424, 'mask': 1425, 'forgotten': 1426, 'heroin': 1427, 'tend': 1428, 'singer': 1429, 'decis': 1430, 'brian': 1431, 'partner': 1432, 'recogn': 1433, 'alan': 1434, 'desert': 1435, 'p': 1436, 'stuck': 1437, 'thoroughli': 1438, 'sky': 1439, 'ms': 1440, 'replac': 1441, 'accur': 1442, 'market': 1443, 'eddi': 1444, 'commentari': 1445, 'clue': 1446, 'danni': 1447, 'uncl': 1448, 'seemingli': 1449, 'andi': 1450, 'jackson': 1451, 'devil': 1452, 'that': 1453, 'refus': 1454, 'therefor': 1455, 'pair': 1456, 'unit': 1457, 'accid': 1458, 'river': 1459, 'ed': 1460, 'fault': 1461, 'fate': 1462, 'tune': 1463, 'afraid': 1464, 'stephen': 1465, 'clean': 1466, 'hidden': 1467, 'russian': 1468, 'quick': 1469, 'convey': 1470, 'irrit': 1471, 'readi': 1472, 'test': 1473, 'captain': 1474, 'instanc': 1475, 'european': 1476, 'daniel': 1477, 'frustrat': 1478, 'insan': 1479, 'food': 1480, 'wed': 1481, 'rescu': 1482, 'chines': 1483, '1950': 1484, 'angri': 1485, 'dirti': 1486, 'lock': 1487, 'joy': 1488, 'steven': 1489, 'price': 1490, 'cage': 1491, 'bland': 1492, 'rang': 1493, 'anymor': 1494, 'wooden': 1495, 'news': 1496, 'n': 1497, 'jason': 1498, 'rush': 1499, '12': 1500, 'led': 1501, 'board': 1502, 'twenti': 1503, 'worri': 1504, 'martial': 1505, 'transform': 1506, 'cgi': 1507, 'symbol': 1508, 'hunter': 1509, 'johnni': 1510, 'sentiment': 1511, 'onto': 1512, 'invent': 1513, 'piti': 1514, 'x': 1515, 'process': 1516, 'attitud': 1517, 'explan': 1518, 'owner': 1519, 'awar': 1520, 'aim': 1521, 'energi': 1522, 'necessari': 1523, 'favor': 1524, 'floor': 1525, 'target': 1526, 'opposit': 1527, 'religi': 1528, 'window': 1529, 'chick': 1530, 'insight': 1531, 'blind': 1532, 'movement': 1533, 'comparison': 1534, 'research': 1535, 'possess': 1536, 'deepli': 1537, 'mountain': 1538, 'whatsoev': 1539, 'comed': 1540, 'rain': 1541, 'grand': 1542, 'mid': 1543, 'shadow': 1544, 'bank': 1545, 'began': 1546, 'princ': 1547, 'parodi': 1548, 'taylor': 1549, 'friendship': 1550, 'credibl': 1551, 'weapon': 1552, 'pre': 1553, 'flesh': 1554, 'dougla': 1555, 'teach': 1556, 'hint': 1557, 'bloodi': 1558, 'protect': 1559, 'terror': 1560, 'marvel': 1561, 'watchabl': 1562, 'drunk': 1563, 'anybodi': 1564, 'superman': 1565, 'load': 1566, 'accord': 1567, 'leader': 1568, 'brown': 1569, 'freddi': 1570, 'seat': 1571, 'appropri': 1572, 'jeff': 1573, 'tim': 1574, 'hitler': 1575, 'charg': 1576, 'knock': 1577, 'unknown': 1578, 'villag': 1579, 'keaton': 1580, 'enemi': 1581, 'england': 1582, 'media': 1583, 'empti': 1584, 'unnecessari': 1585, 'perspect': 1586, 'buck': 1587, 'wave': 1588, 'utter': 1589, 'dare': 1590, 'strength': 1591, 'craft': 1592, 'ford': 1593, 'nativ': 1594, 'correct': 1595, 'contrast': 1596, 'kiss': 1597, 'knowledg': 1598, 'soap': 1599, 'speed': 1600, 'anywher': 1601, 'magnific': 1602, 'nazi': 1603, 'distract': 1604, 'chill': 1605, 'mission': 1606, 'breath': 1607, '1980': 1608, 'fred': 1609, 'ice': 1610, 'jr': 1611, 'moon': 1612, 'joan': 1613, 'crowd': 1614, 'kate': 1615, 'soft': 1616, 'frighten': 1617, '000': 1618, 'hundr': 1619, 'dick': 1620, 'dan': 1621, 'nick': 1622, 'simon': 1623, 'somebodi': 1624, 'radio': 1625, 'dozen': 1626, 'andrew': 1627, 'loss': 1628, 'shakespear': 1629, 'academi': 1630, 'thousand': 1631, 'sum': 1632, 'root': 1633, 'quot': 1634, 'vehicl': 1635, 'account': 1636, '1970': 1637, 'convent': 1638, 'leg': 1639, 'behavior': 1640, 'regular': 1641, 'gold': 1642, 'demand': 1643, 'compet': 1644, 'worker': 1645, 'pretenti': 1646, 'notabl': 1647, 'privat': 1648, 'japan': 1649, 'interpret': 1650, 'explos': 1651, 'lynch': 1652, 'stretch': 1653, 'candi': 1654, 'debut': 1655, 'tarzan': 1656, 'constant': 1657, 'prais': 1658, 'spi': 1659, 'translat': 1660, 'revolv': 1661, 'sea': 1662, 'jesu': 1663, 'technolog': 1664, 'franc': 1665, 'failur': 1666, 'threaten': 1667, 'quiet': 1668, 'sat': 1669, 'ass': 1670, 'punch': 1671, 'kevin': 1672, 'met': 1673, 'higher': 1674, 'aid': 1675, 'toy': 1676, 'mike': 1677, 'vh': 1678, 'interact': 1679, 'abandon': 1680, 'confront': 1681, 'separ': 1682, 'command': 1683, 'bet': 1684, 'site': 1685, 'techniqu': 1686, 'recal': 1687, 'servic': 1688, 'gotten': 1689, 'belong': 1690, 'stunt': 1691, 'bug': 1692, 'freak': 1693, 'cabl': 1694, 'foot': 1695, 'jimmi': 1696, 'bright': 1697, 'fu': 1698, 'capabl': 1699, 'african': 1700, 'boat': 1701, 'stock': 1702, 'succeed': 1703, 'presid': 1704, 'clark': 1705, 'fat': 1706, 'spanish': 1707, 'structur': 1708, 'gene': 1709, 'paper': 1710, 'kidnap': 1711, 'factor': 1712, 'whilst': 1713, 'belief': 1714, 'complic': 1715, 'witti': 1716, 'bob': 1717, 'tree': 1718, 'realism': 1719, 'attend': 1720, 'realis': 1721, 'educ': 1722, 'santa': 1723, 'finest': 1724, 'broken': 1725, 'assist': 1726, 'depart': 1727, 'smoke': 1728, 'v': 1729, 'observ': 1730, 'determin': 1731, 'up': 1732, 'rubbish': 1733, 'domin': 1734, 'hat': 1735, 'lewi': 1736, 'routin': 1737, 'fame': 1738, 'oper': 1739, 'morgan': 1740, 'foreign': 1741, 'hook': 1742, 'safe': 1743, 'kinda': 1744, 'advanc': 1745, 'lone': 1746, 'rank': 1747, 'numer': 1748, 'shallow': 1749, 'civil': 1750, 'vs': 1751, 'shape': 1752, 'rose': 1753, 'washington': 1754, 'werewolf': 1755, 'gari': 1756, 'morn': 1757, 'ordinari': 1758, 'kong': 1759, 'winner': 1760, 'accomplish': 1761, 'virtual': 1762, 'peac': 1763, 'whenev': 1764, 'grab': 1765, 'h': 1766, 'luck': 1767, 'offens': 1768, 'complain': 1769, 'contriv': 1770, 'bigger': 1771, 'patient': 1772, 'unfunni': 1773, 'welcom': 1774, 'activ': 1775, 'pretend': 1776, 'trek': 1777, 'con': 1778, 'dimension': 1779, 'wake': 1780, 'cain': 1781, 'code': 1782, 'lesbian': 1783, 'dri': 1784, 'flash': 1785, 'eric': 1786, 'dancer': 1787, 'statu': 1788, 'manipul': 1789, 'albert': 1790, 'corrupt': 1791, 'guard': 1792, 'signific': 1793, 'gain': 1794, 'awkward': 1795, 'sourc': 1796, 'context': 1797, 'speech': 1798, 'clip': 1799, 'psycho': 1800, '13': 1801, 'sean': 1802, 'anthoni': 1803, 'corni': 1804, 'theatric': 1805, 'curiou': 1806, 'reli': 1807, 'advic': 1808, 'w': 1809, 'priest': 1810, 'religion': 1811, 'flow': 1812, 'addict': 1813, 'specif': 1814, 'skin': 1815, 'asian': 1816, 'secur': 1817, 'howard': 1818, 'jennif': 1819, 'core': 1820, 'organ': 1821, 'comfort': 1822, 'golden': 1823, 'promot': 1824, 'luke': 1825, 'cash': 1826, 'lucki': 1827, 'cheat': 1828, 'dislik': 1829, 'associ': 1830, 'lower': 1831, 'spell': 1832, 'degre': 1833, 'contribut': 1834, 'regret': 1835, 'devic': 1836, 'frequent': 1837, 'balanc': 1838, 'frankli': 1839, 'wing': 1840, 'print': 1841, 'lake': 1842, 'forgiv': 1843, 'sake': 1844, 'thoma': 1845, 'betti': 1846, 'mass': 1847, 'unexpect': 1848, 'gordon': 1849, 'crack': 1850, 'grown': 1851, 'invit': 1852, 'unfold': 1853, 'categori': 1854, 'depend': 1855, 'amateur': 1856, 'construct': 1857, 'anna': 1858, 'matur': 1859, 'intellectu': 1860, 'condit': 1861, 'grew': 1862, 'walter': 1863, 'honor': 1864, 'spectacular': 1865, 'sudden': 1866, 'sole': 1867, 'veteran': 1868, 'mirror': 1869, 'liner': 1870, 'gift': 1871, 'card': 1872, 'demonstr': 1873, 'overli': 1874, 'freedom': 1875, 'experienc': 1876, 'meanwhil': 1877, 'grip': 1878, 'robin': 1879, 'circumst': 1880, 'oliv': 1881, 'brilliantli': 1882, 'drew': 1883, 'unabl': 1884, 'section': 1885, 'colour': 1886, 'sheriff': 1887, 'theori': 1888, 'subtitl': 1889, 'crappi': 1890, 'sheer': 1891, 'pile': 1892, 'parker': 1893, 'matt': 1894, 'path': 1895, 'altern': 1896, 'laughter': 1897, 'cook': 1898, 'relief': 1899, 'lawyer': 1900, 'defin': 1901, 'treatment': 1902, 'wander': 1903, 'accident': 1904, 'hall': 1905, 'sinatra': 1906, 'captiv': 1907, 'hank': 1908, 'dragon': 1909, 'gratuit': 1910, 'halloween': 1911, 'moor': 1912, 'broadway': 1913, 'kung': 1914, 'wound': 1915, 'unintent': 1916, 'k': 1917, 'wayn': 1918, 'cowboy': 1919, 'barbara': 1920, 'jacki': 1921, 'canadian': 1922, 'surreal': 1923, 'winter': 1924, 'spoof': 1925, 'statement': 1926, 'fare': 1927, 'treasur': 1928, 'gonna': 1929, 'compos': 1930, 'fish': 1931, 'cheer': 1932, 'woodi': 1933, 'emerg': 1934, 'unrealist': 1935, 'victor': 1936, 'sensit': 1937, 'ran': 1938, 'driven': 1939, 'neighbor': 1940, 'sympathet': 1941, 'menac': 1942, 'expos': 1943, 'glass': 1944, 'topic': 1945, 'authent': 1946, 'overlook': 1947, 'michel': 1948, 'handsom': 1949, 'gross': 1950, 'ancient': 1951, 'chief': 1952, 'network': 1953, 'stranger': 1954, 'built': 1955, 'contemporari': 1956, 'pleasant': 1957, 'feet': 1958, 'russel': 1959, 'comedian': 1960, 'nevertheless': 1961, 'cinderella': 1962, 'letter': 1963, 'miser': 1964, 'underr': 1965, 'gori': 1966, 'earn': 1967, 'blockbust': 1968, 'consider': 1969, 'endless': 1970, 'solv': 1971, 'brook': 1972, 'switch': 1973, 'victoria': 1974, 'bullet': 1975, 'virgin': 1976, 'edward': 1977, 'convict': 1978, 'joseph': 1979, 'cynic': 1980, 'scenario': 1981, 'alex': 1982, '0': 1983, 'chosen': 1984, 'scale': 1985, 'gut': 1986, 'curs': 1987, 'outrag': 1988, 'com': 1989, 'sword': 1990, 'wrap': 1991, 'monkey': 1992, 'driver': 1993, 'substanc': 1994, 'uk': 1995, 'juli': 1996, 'proper': 1997, 'screenwrit': 1998, 'bird': 1999, 'court': 2000, 'indic': 2001, 'remov': 2002, 'par': 2003, 'loser': 2004, 'nanci': 2005, 'consequ': 2006, 'advertis': 2007, 'rental': 2008, 'naiv': 2009, 'roy': 2010, 'inevit': 2011, 'grave': 2012, 'slap': 2013, 'brave': 2014, 'germani': 2015, 'invis': 2016, 'fatal': 2017, 'le': 2018, 'bridg': 2019, 'ador': 2020, 'provok': 2021, 'anger': 2022, 'loui': 2023, 'footbal': 2024, 'anderson': 2025, 'chan': 2026, 'alcohol': 2027, 'ryan': 2028, 'willi': 2029, 'stumbl': 2030, 'professor': 2031, 'sharp': 2032, 'assassin': 2033, 'bat': 2034, '1930': 2035, 'australian': 2036, 'patrick': 2037, 'lousi': 2038, 'eight': 2039, 'deni': 2040, 'amateurish': 2041, 'saturday': 2042, 'liber': 2043, 'heck': 2044, 'cell': 2045, 'ape': 2046, 'refresh': 2047, 'strongli': 2048, 'trilog': 2049, 'sin': 2050, 'vagu': 2051, 'resid': 2052, 'san': 2053, 'justifi': 2054, 'terrifi': 2055, 'creator': 2056, 'defeat': 2057, 'sympathi': 2058, 'indi': 2059, 'mini': 2060, 'reput': 2061, 'prevent': 2062, 'tabl': 2063, 'task': 2064, 'endur': 2065, 'tediou': 2066, 'expert': 2067, 'rival': 2068, 'offend': 2069, 'imit': 2070, 'trial': 2071, 'employ': 2072, 'basebal': 2073, 'che': 2074, 'weekend': 2075, 'dig': 2076, 'europ': 2077, 'pitch': 2078, 'max': 2079, 'fairi': 2080, 'complaint': 2081, 'beach': 2082, 'purchas': 2083, 'risk': 2084, 'murphi': 2085, 'format': 2086, 'harsh': 2087, 'reminisc': 2088, 'nois': 2089, 'titan': 2090, 'tini': 2091, 'powel': 2092, 'hype': 2093, 'glimps': 2094, 'bite': 2095, 'till': 2096, 'strip': 2097, 'prime': 2098, '14': 2099, 'asleep': 2100, 'north': 2101, 'fals': 2102, 'destruct': 2103, 'descript': 2104, 'africa': 2105, 'revel': 2106, 'texa': 2107, 'arrest': 2108, 'spin': 2109, 'semi': 2110, 'sitcom': 2111, 'excess': 2112, 'surfac': 2113, 'uninterest': 2114, 'inner': 2115, 'hitchcock': 2116, 'maintain': 2117, 'argu': 2118, 'twin': 2119, 'makeup': 2120, 'massiv': 2121, 'dinosaur': 2122, 'controversi': 2123, 'ludicr': 2124, 'insist': 2125, 'stare': 2126, 'expens': 2127, 'reject': 2128, 'ideal': 2129, 'kim': 2130, 'melodrama': 2131, 'erot': 2132, 'atroci': 2133, 'columbo': 2134, 'ga': 2135, 'supernatur': 2136, 'press': 2137, 'host': 2138, 'subplot': 2139, 'nail': 2140, 'forest': 2141, 'ala': 2142, 'cant': 2143, 'notch': 2144, 'presum': 2145, 'identifi': 2146, 'dude': 2147, 'method': 2148, 'character': 2149, 'forgett': 2150, 'guest': 2151, 'plagu': 2152, 'crude': 2153, 'closer': 2154, 'princess': 2155, 'beast': 2156, 'border': 2157, 'lion': 2158, 'foster': 2159, 'landscap': 2160, 'ear': 2161, 'accus': 2162, 'bound': 2163, 'birth': 2164, 'storytel': 2165, 'previous': 2166, 'damag': 2167, 'urban': 2168, 'pacino': 2169, 'aunt': 2170, 'jungl': 2171, 'emma': 2172, 'jess': 2173, 'nude': 2174, 'guid': 2175, 'propaganda': 2176, 'thirti': 2177, 'doll': 2178, 'chose': 2179, 'pet': 2180, '25': 2181, 'mainstream': 2182, 'warrior': 2183, 'mate': 2184, 'whoever': 2185, 'gritti': 2186, 'friday': 2187, 'exact': 2188, 'latest': 2189, 'upset': 2190, 'poster': 2191, 'size': 2192, 'cooper': 2193, 'merit': 2194, 'deadli': 2195, 'wilson': 2196, 'blend': 2197, 'contact': 2198, 'ton': 2199, 'buff': 2200, '1990': 2201, 'popul': 2202, 'corps': 2203, 'citizen': 2204, 'settl': 2205, 'contest': 2206, 'warner': 2207, 'sun': 2208, 'rough': 2209, 'widow': 2210, 'bu': 2211, 'metal': 2212, 'select': 2213, 'overcom': 2214, 'mgm': 2215, 'alic': 2216, 'environ': 2217, 'rat': 2218, 'pitt': 2219, 'ted': 2220, 'particip': 2221, 'lift': 2222, 'guilti': 2223, 'revolut': 2224, 'link': 2225, 'corner': 2226, 'moron': 2227, 'matrix': 2228, 'accompani': 2229, 'prostitut': 2230, 'afternoon': 2231, 'johnson': 2232, 'exagger': 2233, 'corpor': 2234, '1960': 2235, 'hood': 2236, 'friendli': 2237, 'instal': 2238, 'sincer': 2239, 'doom': 2240, 'multipl': 2241, 'holm': 2242, 'clair': 2243, 'leagu': 2244, 'sunday': 2245, 'advis': 2246, 'campi': 2247, 'grim': 2248, 'hip': 2249, 'aka': 2250, 'string': 2251, 'irish': 2252, 'lugosi': 2253, 'defend': 2254, 'blah': 2255, 'junk': 2256, 'examin': 2257, 'tight': 2258, 'varieti': 2259, 'shut': 2260, 'confid': 2261, 'shake': 2262, 'rachel': 2263, 'pro': 2264, 'icon': 2265, 'goal': 2266, 'mexican': 2267, 'attach': 2268, 'denni': 2269, 'medic': 2270, 'sullivan': 2271, 'jaw': 2272, 'directli': 2273, 'prior': 2274, 'duke': 2275, 'vietnam': 2276, 'truck': 2277, 'sarah': 2278, 'legendari': 2279, 'sentenc': 2280, 'courag': 2281, 'dean': 2282, 'terrorist': 2283, 'breast': 2284, 'bourn': 2285, 'un': 2286, 'yell': 2287, 'split': 2288, 'proceed': 2289, 'donald': 2290, 'nose': 2291, 'hong': 2292, 'entri': 2293, 'behav': 2294, 'confess': 2295, 'stolen': 2296, 'swim': 2297, 'jerk': 2298, 'buri': 2299, 'everywher': 2300, 'crush': 2301, 'gather': 2302, 'concentr': 2303, 'unconvinc': 2304, 'lifetim': 2305, 'borrow': 2306, 'forth': 2307, 'pan': 2308, 'deliveri': 2309, 'lip': 2310, 'turkey': 2311, 'spite': 2312, 'julia': 2313, 'california': 2314, 'reward': 2315, 'offici': 2316, 'proud': 2317, 'flight': 2318, 'china': 2319, 'downright': 2320, 'quest': 2321, 'hoffman': 2322, 'freeman': 2323, 'fabul': 2324, 'sir': 2325, 'worthwhil': 2326, 'lazi': 2327, 'encourag': 2328, 'sink': 2329, 'betray': 2330, 'jail': 2331, 'inept': 2332, 'notori': 2333, 'jon': 2334, 'fade': 2335, 'imageri': 2336, 'shower': 2337, 'cousin': 2338, 'retard': 2339, 'teeth': 2340, 'bell': 2341, 'survivor': 2342, 'susan': 2343, 'bag': 2344, 'branagh': 2345, 'lisa': 2346, 'storm': 2347, 'relev': 2348, 'tremend': 2349, 'quirki': 2350, 'alright': 2351, 'summari': 2352, 'trade': 2353, 'facial': 2354, 'finger': 2355, 'hugh': 2356, 'toler': 2357, 'bride': 2358, 'stab': 2359, 'mexico': 2360, 'shark': 2361, 'von': 2362, 'blown': 2363, 'bitter': 2364, 'hyster': 2365, 'ha': 2366, 'pose': 2367, 'scheme': 2368, 'ned': 2369, 'christ': 2370, 'bone': 2371, 'address': 2372, 'afterward': 2373, 'larri': 2374, 'ron': 2375, 'cruel': 2376, 'feed': 2377, 'screw': 2378, 'pursu': 2379, 'thumb': 2380, 'swear': 2381, 'beg': 2382, 'snake': 2383, 'traci': 2384, 'distinct': 2385, 'tour': 2386, 'obscur': 2387, 'photo': 2388, 'raw': 2389, 'chair': 2390, 'stomach': 2391, 'occas': 2392, 'mechan': 2393, 'sidney': 2394, 'gruesom': 2395, 'holiday': 2396, 'render': 2397, 'necessarili': 2398, 'chain': 2399, 'southern': 2400, 'hardi': 2401, 'argument': 2402, 'heavili': 2403, 'resist': 2404, 'cabin': 2405, 'philip': 2406, 'india': 2407, 'racist': 2408, 'satan': 2409, 'understood': 2410, 'indulg': 2411, 'stalk': 2412, 'belov': 2413, 'integr': 2414, 'fourth': 2415, 'pregnant': 2416, 'obnoxi': 2417, 'outfit': 2418, 'tongu': 2419, 'lay': 2420, 'forgot': 2421, 'midnight': 2422, '17': 2423, 'garden': 2424, 'ticket': 2425, 'carol': 2426, 'restor': 2427, 'slapstick': 2428, 'deeper': 2429, 'magazin': 2430, 'inhabit': 2431, 'devot': 2432, 'incid': 2433, 'shoe': 2434, 'lincoln': 2435, 'brad': 2436, 'benefit': 2437, 'anticip': 2438, 'disbelief': 2439, 'guarante': 2440, 'sandler': 2441, 'elizabeth': 2442, 'divorc': 2443, 'maria': 2444, 'lili': 2445, 'underground': 2446, 'capit': 2447, 'princip': 2448, 'cring': 2449, 'explod': 2450, 'bbc': 2451, 'amazingli': 2452, 'mildli': 2453, 'slave': 2454, 'greater': 2455, 'creation': 2456, 'extraordinari': 2457, 'halfway': 2458, 'lesli': 2459, 'funnier': 2460, 'introduct': 2461, 'extent': 2462, 'enhanc': 2463, 'transfer': 2464, 'wreck': 2465, 'overwhelm': 2466, 'punish': 2467, 'tap': 2468, 'text': 2469, 'advantag': 2470, 'horrif': 2471, 'lo': 2472, 'plant': 2473, 'dynam': 2474, 'deliber': 2475, 'lane': 2476, 'preview': 2477, 'error': 2478, 'jessica': 2479, 'east': 2480, 'sophist': 2481, '2000': 2482, 'appli': 2483, 'ensu': 2484, 'basi': 2485, 'vacat': 2486, 'miller': 2487, 'miscast': 2488, 'homosexu': 2489, 'vincent': 2490, 'mansion': 2491, 'extend': 2492, 'uncomfort': 2493, 'elev': 2494, 'via': 2495, 'sleazi': 2496, 'steel': 2497, 'spoken': 2498, 'reed': 2499, 'bollywood': 2500, 'measur': 2501, 'hippi': 2502, 'overact': 2503, 'goofi': 2504, 'melt': 2505, 'savag': 2506, 'mous': 2507, 'blair': 2508, 'breathtak': 2509, 'beer': 2510, 'fix': 2511, 'cathol': 2512, 'assign': 2513, 'alter': 2514, 'stanley': 2515, 'dentist': 2516, 'daili': 2517, 'conceiv': 2518, 'everyday': 2519, 'sacrific': 2520, 'burt': 2521, 'properli': 2522, 'inspector': 2523, 'nowaday': 2524, 'oppos': 2525, 'succe': 2526, 'carpent': 2527, 'subsequ': 2528, 'laura': 2529, 'neck': 2530, 'block': 2531, 'massacr': 2532, 'circl': 2533, 'pool': 2534, 'fallen': 2535, 'portrait': 2536, 'lesser': 2537, 'christi': 2538, 'seagal': 2539, 'grey': 2540, 'concert': 2541, 'access': 2542, 'fay': 2543, 'mob': 2544, 'react': 2545, 'isol': 2546, 'relax': 2547, 'usa': 2548, 'sinist': 2549, 'chees': 2550, 'jewish': 2551, 'competit': 2552, 'jake': 2553, 'nine': 2554, 'creep': 2555, 'immens': 2556, 'lyric': 2557, '2006': 2558, 'chop': 2559, 'ironi': 2560, 'stink': 2561, 'appal': 2562, 'spiritu': 2563, 'suitabl': 2564, 'nonetheless': 2565, 'user': 2566, 'rage': 2567, 'sold': 2568, 'luci': 2569, 'nut': 2570, 'needless': 2571, 'retir': 2572, 'adopt': 2573, 'franchis': 2574, 'spring': 2575, 'navi': 2576, 'shirt': 2577, 'reduc': 2578, 'showcas': 2579, 'digit': 2580, 'jay': 2581, 'asham': 2582, 'bath': 2583, 'bulli': 2584, 'uninspir': 2585, 'per': 2586, 'nurs': 2587, 'stanwyck': 2588, 'zone': 2589, 'amongst': 2590, 'oddli': 2591, 'laid': 2592, 'broadcast': 2593, 'illustr': 2594, '2001': 2595, 'upper': 2596, '1940': 2597, 'sutherland': 2598, 'aspir': 2599, 'baker': 2600, 'throat': 2601, 'fulfil': 2602, 'stylish': 2603, 'disguis': 2604, 'brando': 2605, 'impli': 2606, 'em': 2607, 'wanna': 2608, '18': 2609, 'pound': 2610, 'wwii': 2611, 'thief': 2612, 'pride': 2613, 'endear': 2614, 'neighborhood': 2615, 'nobl': 2616, '16': 2617, 'bo': 2618, 'prop': 2619, 'coher': 2620, 'distribut': 2621, 'dinner': 2622, 'cinematograph': 2623, 'shoulder': 2624, 'dawn': 2625, 'albeit': 2626, 'shift': 2627, 'rochest': 2628, 'bett': 2629, 'tens': 2630, 'diseas': 2631, 'rebel': 2632, 'shout': 2633, 'knife': 2634, 'contract': 2635, 'snow': 2636, 'poignant': 2637, 'forti': 2638, 'wash': 2639, 'function': 2640, 'silenc': 2641, 'matthau': 2642, 'surf': 2643, 'eeri': 2644, 'cancel': 2645, 'heat': 2646, 'henc': 2647, 'duti': 2648, 'cannib': 2649, 'instinct': 2650, 'height': 2651, 'silver': 2652, 'internet': 2653, 'horrend': 2654, 'proof': 2655, 'chuck': 2656, 'derek': 2657, 'mindless': 2658, 'reunion': 2659, 'elvira': 2660, 'widmark': 2661, 'mill': 2662, 'neat': 2663, 'torn': 2664, 'innov': 2665, 'absorb': 2666, 'premier': 2667, 'glori': 2668, 'musician': 2669, 'etern': 2670, 'greatli': 2671, 'alik': 2672, 'repetit': 2673, 'pie': 2674, 'incoher': 2675, 'elvi': 2676, 'spielberg': 2677, 'crisi': 2678, 'redempt': 2679, 'nelson': 2680, 'precis': 2681, 'lovabl': 2682, 'itali': 2683, 'fbi': 2684, 'wealthi': 2685, 'infam': 2686, 'racism': 2687, 'announc': 2688, 'britain': 2689, 'trite': 2690, 'horrifi': 2691, 'homag': 2692, 'bang': 2693, 'diamond': 2694, 'blank': 2695, 'burton': 2696, 'hammer': 2697, 'helen': 2698, 'parallel': 2699, 'pat': 2700, 'resolut': 2701, 'dedic': 2702, 'wilder': 2703, 'happili': 2704, 'chaplin': 2705, 'ensembl': 2706, 'streisand': 2707, 'flop': 2708, 'triumph': 2709, 'mar': 2710, 'carter': 2711, 'disagre': 2712, 'oil': 2713, 'cube': 2714, 'plastic': 2715, 'broke': 2716, 'conclud': 2717, 'st': 2718, 'factori': 2719, 'fighter': 2720, 'vega': 2721, 'weight': 2722, 'bush': 2723, 'climb': 2724, 'own': 2725, 'march': 2726, 'chuckl': 2727, 'rocket': 2728, 'row': 2729, 'thug': 2730, 'lust': 2731, 'sensibl': 2732, 'kurt': 2733, 'luca': 2734, 'wherea': 2735, 'unforgett': 2736, 'enorm': 2737, 'spare': 2738, 'boot': 2739, 'dane': 2740, 'meaning': 2741, 'dump': 2742, 'mst3k': 2743, 'brand': 2744, 'engin': 2745, 'difficulti': 2746, 'butt': 2747, 'dear': 2748, 'fifti': 2749, 'bobbi': 2750, 'karloff': 2751, 'stress': 2752, 'threat': 2753, 'adequ': 2754, 'caricatur': 2755, 'arnold': 2756, 'rap': 2757, 'ralph': 2758, 'secretari': 2759, 'swing': 2760, 'ego': 2761, 'flynn': 2762, 'polish': 2763, 'arrog': 2764, 'fest': 2765, 'elabor': 2766, 'barri': 2767, 'hamlet': 2768, 'journalist': 2769, 'homeless': 2770, 'arrang': 2771, 'unbear': 2772, 'float': 2773, 'induc': 2774, 'fanci': 2775, 'conspiraci': 2776, 'spike': 2777, 'tool': 2778, 'grate': 2779, 'simpson': 2780, 'puppet': 2781, 'resort': 2782, 'guilt': 2783, 'basement': 2784, 'exercis': 2785, 'tribut': 2786, 'muppet': 2787, 'choreograph': 2788, 'cruis': 2789, 'phillip': 2790, 'pig': 2791, 'boll': 2792, 'tower': 2793, 'puzzl': 2794, 'ham': 2795, 'slip': 2796, 'stan': 2797, 'korean': 2798, 'file': 2799, 'editor': 2800, 'document': 2801, 'babe': 2802, 'fianc': 2803, '24': 2804, 'layer': 2805, 'ward': 2806, 'medium': 2807, 'toilet': 2808, 'item': 2809, 'scarecrow': 2810, 'orient': 2811, 'territori': 2812, 'assur': 2813, 'slaughter': 2814, 'spark': 2815, 'minim': 2816, 'doc': 2817, 'catherin': 2818, 'librari': 2819, 'portion': 2820, 'philosoph': 2821, 'superfici': 2822, 'glover': 2823, 'persona': 2824, 'inexplic': 2825, 'larger': 2826, 'transit': 2827, 'denzel': 2828, 'dorothi': 2829, 'jet': 2830, 'pg': 2831, 'wolf': 2832, 'owe': 2833, 'ban': 2834, 'shi': 2835, 'curti': 2836, 'financi': 2837, 'walken': 2838, 'jeremi': 2839, 'sneak': 2840, 'boredom': 2841, 'ambigu': 2842, 'profound': 2843, 'eleph': 2844, 'backdrop': 2845, 'metaphor': 2846, 'multi': 2847, 'hudson': 2848, 'cusack': 2849, 'whale': 2850, 'birthday': 2851, 'elsewher': 2852, 'viru': 2853, 'implaus': 2854, 'notion': 2855, 'gadget': 2856, 'stiff': 2857, 'union': 2858, 'hack': 2859, 'ultra': 2860, '2005': 2861, 'rave': 2862, 'eva': 2863, 'pad': 2864, 'slight': 2865, 'deriv': 2866, 'disc': 2867, 'bibl': 2868, 'squar': 2869, 'superhero': 2870, 'eastwood': 2871, 'urg': 2872, 'hawk': 2873, 'newspap': 2874, 'distanc': 2875, 'afford': 2876, 'reader': 2877, 'lloyd': 2878, 'poison': 2879, '1st': 2880, 'canada': 2881, 'restaur': 2882, 'health': 2883, 'spread': 2884, 'charisma': 2885, 'skit': 2886, 'cure': 2887, 'huh': 2888, 'essenc': 2889, 'heston': 2890, 'montag': 2891, 'sadist': 2892, 'drown': 2893, 'button': 2894, 'peak': 2895, 'dealt': 2896, 'scoobi': 2897, 'fetch': 2898, 'muslim': 2899, 'invest': 2900, 'gradual': 2901, 'godfath': 2902, 'companion': 2903, 'maniac': 2904, 'lab': 2905, 'estat': 2906, 'countless': 2907, 'servant': 2908, 'miik': 2909, 'kane': 2910, 'cup': 2911, 'gothic': 2912, 'tea': 2913, 'ritter': 2914, 'subtleti': 2915, 'alli': 2916, 'electr': 2917, 'iii': 2918, 'salli': 2919, 'charismat': 2920, 'briefli': 2921, 'elect': 2922, 'heroic': 2923, 'nuanc': 2924, 'wannab': 2925, 'toss': 2926, 'ingredi': 2927, 'tender': 2928, 'admittedli': 2929, 'cole': 2930, 'reel': 2931, 'resourc': 2932, 'bud': 2933, 'grandmoth': 2934, 'neil': 2935, 'label': 2936, 'reev': 2937, 'punk': 2938, 'stronger': 2939, 'shall': 2940, 'pit': 2941, 'mild': 2942, 'stood': 2943, 'mafia': 2944, 'poverti': 2945, 'dawson': 2946, 'carrey': 2947, 'gate': 2948, 'pauli': 2949, 'kubrick': 2950, 'bakshi': 2951, 'ian': 2952, 'smash': 2953, 'assault': 2954, 'easier': 2955, 'useless': 2956, 'fond': 2957, 'updat': 2958, 'burst': 2959, 'terri': 2960, 'smooth': 2961, 'cox': 2962, 'outcom': 2963, 'astair': 2964, 'cardboard': 2965, 'tag': 2966, 'vulner': 2967, 'resolv': 2968, 'vari': 2969, '2002': 2970, 'divers': 2971, 'fist': 2972, 'rex': 2973, 'melodramat': 2974, 'sketch': 2975, 'qualifi': 2976, 'samurai': 2977, 'exchang': 2978, 'increasingli': 2979, 'coincid': 2980, 'suspend': 2981, 'scratch': 2982, 'tame': 2983, 'blast': 2984, 'templ': 2985, 'reynold': 2986, 'insert': 2987, 'be': 2988, 'luckili': 2989, 'brillianc': 2990, 'conveni': 2991, 'soprano': 2992, 'fisher': 2993, 'nuclear': 2994, 'walker': 2995, 'ambiti': 2996, 'matthew': 2997, 'farm': 2998, 'coach': 2999, 'pin': 3000, 'strictli': 3001, 'hamilton': 3002, 'meat': 3003, 'jami': 3004, 'seventi': 3005, 'gotta': 3006, 'struck': 3007, 'spooki': 3008, 'eccentr': 3009, 'cave': 3010, 'joey': 3011, 'closet': 3012, 'grasp': 3013, 'empir': 3014, 'brosnan': 3015, 'revers': 3016, 'convolut': 3017, 'butcher': 3018, 'timeless': 3019, 'instantli': 3020, 'kudo': 3021, 'recreat': 3022, 'ninja': 3023, 'worthless': 3024, 'clock': 3025, 'monk': 3026, 'discoveri': 3027, 'cliff': 3028, 'eighti': 3029, 'wipe': 3030, 'pal': 3031, 'bleak': 3032, 'miracl': 3033, 'mitchel': 3034, 'declar': 3035, 'communist': 3036, 'partli': 3037, 'sidekick': 3038, 'clown': 3039, 'selfish': 3040, 'norman': 3041, 'fifteen': 3042, 'importantli': 3043, 'evok': 3044, 'seller': 3045, 'sloppi': 3046, 'inconsist': 3047, 'gray': 3048, 'enthusiast': 3049, 'chew': 3050, 'psychiatrist': 3051, 'aforement': 3052, 'cheek': 3053, 'debat': 3054, 'destin': 3055, 'superbl': 3056, '45': 3057, 'farc': 3058, 'ho': 3059, 'stoog': 3060, 'piano': 3061, 'flawless': 3062, 'seed': 3063, 'websit': 3064, 'lifestyl': 3065, 'australia': 3066, 'wick': 3067, 'dash': 3068, 'emili': 3069, 'bash': 3070, 'wrestl': 3071, 'akshay': 3072, 'directori': 3073, 'incompet': 3074, 'dire': 3075, 'slice': 3076, 'splatter': 3077, 'kitchen': 3078, 'drivel': 3079, 'pressur': 3080, 'regardless': 3081, 'abc': 3082, 'soviet': 3083, 'anni': 3084, 'glow': 3085, 'ken': 3086, 'beaten': 3087, 'suppli': 3088, 'doo': 3089, 'duo': 3090, 'pleasantli': 3091, 'boil': 3092, 'increas': 3093, 'cameron': 3094, 'dave': 3095, 'cia': 3096, 'helicopt': 3097, 'artifici': 3098, 'distant': 3099, 'jar': 3100, 'prize': 3101, 'judi': 3102, 'mann': 3103, 'recov': 3104, 'curios': 3105, 'lou': 3106, 'cagney': 3107, 'chapter': 3108, 'flower': 3109, 'seduc': 3110, 'blob': 3111, 'craig': 3112, 'web': 3113, 'perri': 3114, 'goldberg': 3115, 'hop': 3116, 'panic': 3117, 'turner': 3118, 'glenn': 3119, 'eleg': 3120, 'splendid': 3121, 'combat': 3122, 'laurel': 3123, 'psychot': 3124, 'drunken': 3125, 'craven': 3126, 'ellen': 3127, 'francisco': 3128, 'favour': 3129, 'ranger': 3130, 'ruth': 3131, 'slightest': 3132, 'graduat': 3133, 'hatr': 3134, 'falk': 3135, '20th': 3136, 'gentl': 3137, 'alexand': 3138, 'rid': 3139, 'modesti': 3140, 'fx': 3141, 'greek': 3142, 'philosophi': 3143, 'flip': 3144, 'plausibl': 3145, 'shortli': 3146, 'wizard': 3147, 'min': 3148, 'gandhi': 3149, 'holi': 3150, 'preciou': 3151, 'fund': 3152, 'tall': 3153, 'lend': 3154, 'harm': 3155, 'futurist': 3156, 'ocean': 3157, 'unpleas': 3158, 'jealou': 3159, 'legal': 3160, 'we': 3161, 'knight': 3162, 'dracula': 3163, 'felix': 3164, 'manhattan': 3165, 'explicit': 3166, 'mock': 3167, 'overdon': 3168, 'digniti': 3169, 'tank': 3170, 'nod': 3171, 'thread': 3172, 'reviv': 3173, 'childish': 3174, 'giallo': 3175, 'bless': 3176, 'forbidden': 3177, 'ami': 3178, 'scientif': 3179, 'awaken': 3180, 'margaret': 3181, 'elderli': 3182, 'yesterday': 3183, 'thick': 3184, '99': 3185, '2004': 3186, 'fever': 3187, 'broad': 3188, 'repeatedli': 3189, 'awe': 3190, 'nerv': 3191, 'unwatch': 3192, 'torment': 3193, 'mel': 3194, 'verhoeven': 3195, 'eve': 3196, 'pirat': 3197, 'absenc': 3198, 'politician': 3199, 'lean': 3200, 'rivet': 3201, 'ambit': 3202, 'eas': 3203, 'custom': 3204, 'automat': 3205, 'uniform': 3206, 'timothi': 3207, 'bin': 3208, 'kay': 3209, 'stiller': 3210, 'publish': 3211, 'roman': 3212, 'griffith': 3213, 'acclaim': 3214, 'romero': 3215, 'launch': 3216, 'ah': 3217, 'royal': 3218, 'crook': 3219, 'darker': 3220, 'homicid': 3221, 'tomato': 3222, 'termin': 3223, 'foul': 3224, 'wallac': 3225, 'purpl': 3226, 'phrase': 3227, 'antic': 3228, 'warren': 3229, 'transport': 3230, 'pierc': 3231, 'stinker': 3232, 'pulp': 3233, 'gabriel': 3234, 'sunshin': 3235, 'bathroom': 3236, 'awak': 3237, 'hollow': 3238, 'pray': 3239, 'evolv': 3240, 'li': 3241, 'ought': 3242, 'album': 3243, 'choreographi': 3244, 'packag': 3245, 'kenneth': 3246, 'coloni': 3247, 'prom': 3248, 'eyr': 3249, 'viciou': 3250, 'q': 3251, 'karen': 3252, '2003': 3253, 'sixti': 3254, 'horrid': 3255, 'marin': 3256, 'brazil': 3257, 'donna': 3258, 'saint': 3259, 'juvenil': 3260, 'revolutionari': 3261, 'contrari': 3262, 'rambo': 3263, 'conserv': 3264, 'option': 3265, 'kapoor': 3266, 'defi': 3267, 'beatti': 3268, 'blade': 3269, 'ramon': 3270, 'candid': 3271, 'mildr': 3272, 'stole': 3273, 'twelv': 3274, 'ireland': 3275, 'boast': 3276, 'nerd': 3277, 'dose': 3278, 'overr': 3279, 'mummi': 3280, 'flame': 3281, 'astonish': 3282, 'detract': 3283, 'global': 3284, 'funer': 3285, 'confirm': 3286, 'trio': 3287, 'fulci': 3288, 'jazz': 3289, 'natali': 3290, 'protest': 3291, 'altman': 3292, 'collabor': 3293, 'kirk': 3294, 'shade': 3295, 'tommi': 3296, 'bottl': 3297, 'audio': 3298, 'yellow': 3299, 'delici': 3300, 'mystic': 3301, 'racial': 3302, 'bull': 3303, 'nicholson': 3304, 'blake': 3305, 'destini': 3306, 'whip': 3307, 'spit': 3308, 'leap': 3309, 'enterpris': 3310, 'reunit': 3311, 'bedroom': 3312, 'pseudo': 3313, 'neo': 3314, 'threw': 3315, 'swedish': 3316, 'staff': 3317, 'merci': 3318, 'todd': 3319, 'visibl': 3320, 'adolesc': 3321, 'vivid': 3322, 'inherit': 3323, 'altogeth': 3324, 'fonda': 3325, 'popcorn': 3326, 'meaningless': 3327, 'enchant': 3328, 'harder': 3329, 'respond': 3330, 'decor': 3331, 'ruthless': 3332, 'roommat': 3333, 'bust': 3334, 'synopsi': 3335, 'reserv': 3336, 'voight': 3337, 'uneven': 3338, 'suspici': 3339, 'kennedi': 3340, 'fanat': 3341, 'tip': 3342, 'exhibit': 3343, 'jew': 3344, 'await': 3345, 'leonard': 3346, 'moodi': 3347, 'lawrenc': 3348, 'edi': 3349, 'madonna': 3350, 'befriend': 3351, 'wire': 3352, 'lemmon': 3353, 'atlanti': 3354, 'crocodil': 3355, 'bold': 3356, 'ventur': 3357, 'dimens': 3358, 'clint': 3359, 'incident': 3360, 'carl': 3361, 'rural': 3362, 'bargain': 3363, '2007': 3364, 'clumsi': 3365, 'unsettl': 3366, 'audit': 3367, 'garner': 3368, 'centr': 3369, 'abysm': 3370, 'chao': 3371, 'palma': 3372, 'bradi': 3373, 'holli': 3374, 'voyag': 3375, 'neglect': 3376, 'ant': 3377, 'lit': 3378, 'cuba': 3379, 'characterist': 3380, 'mall': 3381, 'trail': 3382, 'poetic': 3383, 'acknowledg': 3384, 'echo': 3385, 'cd': 3386, 'versu': 3387, 'immigr': 3388, 'cari': 3389, 'elimin': 3390, 'imperson': 3391, '2nd': 3392, 'humili': 3393, 'daddi': 3394, 'troop': 3395, 'tiger': 3396, 'nearbi': 3397, 'hart': 3398, 'wealth': 3399, 'timon': 3400, 'mistaken': 3401, 'pun': 3402, 'repuls': 3403, 'paus': 3404, 'domest': 3405, 'prejudic': 3406, 'celluloid': 3407, 'marshal': 3408, 'homer': 3409, 'collaps': 3410, 'saga': 3411, 'jeffrey': 3412, 'solo': 3413, 'infect': 3414, 'mickey': 3415, 'tribe': 3416, 'coat': 3417, 'inan': 3418, 'milk': 3419, '1996': 3420, 'equip': 3421, 'harvey': 3422, 'chest': 3423, 'interrupt': 3424, 'apolog': 3425, 'sore': 3426, 'hbo': 3427, 'assembl': 3428, 'promin': 3429, 'olivi': 3430, 'inappropri': 3431, 'coffe': 3432, 'undoubtedli': 3433, 'gear': 3434, 'cake': 3435, 'pant': 3436, 'ginger': 3437, 'leon': 3438, 'vulgar': 3439, 'colleagu': 3440, 'exot': 3441, 'maggi': 3442, 'devast': 3443, 'humbl': 3444, 'embrac': 3445, 'retain': 3446, 'colonel': 3447, 'highest': 3448, 'institut': 3449, 'trace': 3450, 'furthermor': 3451, 'primari': 3452, 'airplan': 3453, 'pen': 3454, 'instant': 3455, 'pot': 3456, 'consum': 3457, 'aveng': 3458, 'solut': 3459, 'brooklyn': 3460, 'polanski': 3461, 'florida': 3462, 'jenni': 3463, 'smaller': 3464, 'wive': 3465, 'ya': 3466, 'rick': 3467, 'poke': 3468, 'sale': 3469, 'dutch': 3470, 'seduct': 3471, 'gender': 3472, 'outer': 3473, 'dian': 3474, 'illog': 3475, 'godzilla': 3476, '3rd': 3477, 'linda': 3478, 'principl': 3479, 'cope': 3480, 'disabl': 3481, 'descend': 3482, 'strain': 3483, 'bowl': 3484, '1999': 3485, 'primarili': 3486, 'dud': 3487, 'lol': 3488, 'predecessor': 3489, 'dive': 3490, 'beneath': 3491, 'vast': 3492, 'blatant': 3493, 'mixtur': 3494, 'gloriou': 3495, 'cue': 3496, 'devoid': 3497, 'rabbit': 3498, 'secondli': 3499, 'scope': 3500, 'glamor': 3501, 'bubbl': 3502, 'inferior': 3503, 'yard': 3504, 'hal': 3505, 'gundam': 3506, 'alfr': 3507, 'aggress': 3508, 'countrysid': 3509, 'arab': 3510, 'simplist': 3511, 'breed': 3512, 'senseless': 3513, 'alert': 3514, 'shirley': 3515, 'et': 3516, 'shelf': 3517, 'museum': 3518, 'z': 3519, 'domino': 3520, 'hideou': 3521, 'april': 3522, 'invas': 3523, 'talki': 3524, 'casual': 3525, 'grinch': 3526, 'streep': 3527, 'trademark': 3528, 'disjoint': 3529, 'garbo': 3530, 'pearl': 3531, 'myer': 3532, 'mayor': 3533, 'maci': 3534, 'slide': 3535, 'stir': 3536, 'sh': 3537, 'khan': 3538, 'hardcor': 3539, 'mail': 3540, 'boom': 3541, 'applaud': 3542, 'illeg': 3543, 'loyal': 3544, 'robinson': 3545, 'unhappi': 3546, 'rendit': 3547, 'disgrac': 3548, 'stellar': 3549, 'vanish': 3550, 'stack': 3551, 'hopeless': 3552, 'experiment': 3553, 'uwe': 3554, 'acid': 3555, 'oz': 3556, 'robberi': 3557, 'obtain': 3558, 'defens': 3559, 'psychic': 3560, 'fri': 3561, 'declin': 3562, 'diana': 3563, 'dicken': 3564, 'scroog': 3565, 'emphasi': 3566, 'berlin': 3567, 'tempt': 3568, 'grandfath': 3569, 'incomprehens': 3570, 'counter': 3571, 'recruit': 3572, 'dismiss': 3573, 'blew': 3574, 'soccer': 3575, 'amanda': 3576, 'craze': 3577, 'span': 3578, 'wont': 3579, 'rifl': 3580, 'topless': 3581, 'tenant': 3582, 'spider': 3583, 'hartley': 3584, 'lumet': 3585, 'woo': 3586, 'trashi': 3587, 'shaw': 3588, 'faster': 3589, 'wet': 3590, 'porno': 3591, 'shed': 3592, 'goer': 3593, 'parad': 3594, 'sibl': 3595, 'resurrect': 3596, 'revolt': 3597, 'intim': 3598, 'justin': 3599, 'riot': 3600, 'sympath': 3601, 'niro': 3602, 'ration': 3603, 'bitch': 3604, 'ethnic': 3605, 'choru': 3606, 'dealer': 3607, 'slick': 3608, 'unreal': 3609, 'patriot': 3610, 'feminist': 3611, 'partial': 3612, 'steam': 3613, 'worm': 3614, 'wendi': 3615, 'hesit': 3616, 'ballet': 3617, 'eager': 3618, 'hopper': 3619, 'biographi': 3620, 'immort': 3621, 'region': 3622, 'gap': 3623, '00': 3624, 'ensur': 3625, 'jonathan': 3626, 'commend': 3627, 'honesti': 3628, 'rider': 3629, 'lena': 3630, 'mario': 3631, 'weakest': 3632, 'wheel': 3633, 'farmer': 3634, 'nephew': 3635, 'enlighten': 3636, 'andr': 3637, 'nostalg': 3638, 'blunt': 3639, 'franco': 3640, 'wore': 3641, 'sandra': 3642, 'util': 3643, 'hung': 3644, 'snap': 3645, 'properti': 3646, 'kingdom': 3647, 'sappi': 3648, 'charlott': 3649, 'safeti': 3650, 'psychopath': 3651, 'morri': 3652, 'prequel': 3653, 'owen': 3654, 'mutant': 3655, 'confin': 3656, 'skull': 3657, 'leo': 3658, 'vice': 3659, 'repress': 3660, 'victori': 3661, 'similarli': 3662, 'composit': 3663, 'macarthur': 3664, 'farrel': 3665, 'whoopi': 3666, 'compass': 3667, 'snl': 3668, 'rope': 3669, 'bumbl': 3670, 'tad': 3671, '1972': 3672, 'valuabl': 3673, 'acquir': 3674, 'bonu': 3675, 'montana': 3676, 'strand': 3677, 'kyle': 3678, 'nervou': 3679, 'dust': 3680, 'dalton': 3681, 'bow': 3682, 'miseri': 3683, 'drum': 3684, 'deed': 3685, 'rambl': 3686, 'pattern': 3687, 'tail': 3688, 'latin': 3689, 'compens': 3690, 'heartbreak': 3691, 'thru': 3692, 'speci': 3693, 'hyde': 3694, 'bergman': 3695, 'recycl': 3696, 'campbel': 3697, 'del': 3698, 'despair': 3699, 'drain': 3700, 'cg': 3701, 'emperor': 3702, 'rocki': 3703, 'exit': 3704, 'repli': 3705, 'gal': 3706, 'contempl': 3707, 'bleed': 3708, 'percept': 3709, 'radic': 3710, 'da': 3711, 'wacki': 3712, 'tonight': 3713, 'rapist': 3714, 'slug': 3715, 'orson': 3716, 'gimmick': 3717, 'oppress': 3718, 'rotten': 3719, 'romp': 3720, 'downhil': 3721, 'pour': 3722, 'carradin': 3723, 'mistress': 3724, '35': 3725, 'olli': 3726, 'airport': 3727, 'roth': 3728, 'chess': 3729, 'martian': 3730, 'attorney': 3731, 'champion': 3732, 'unpredict': 3733, 'banal': 3734, 'stilt': 3735, 'pursuit': 3736, 'tackl': 3737, '1983': 3738, 'preach': 3739, 'melodi': 3740, 'edgar': 3741, 'belt': 3742, 'arguabl': 3743, 'shelley': 3744, 'programm': 3745, 'heal': 3746, 'arc': 3747, 'pervert': 3748, 'dazzl': 3749, 'pervers': 3750, 'paltrow': 3751, 'mislead': 3752, 'taught': 3753, 'tooth': 3754, 'slash': 3755, 'cleverli': 3756, 'dixon': 3757, 'gambl': 3758, 'orang': 3759, 'uplift': 3760, 'mesmer': 3761, 'duval': 3762, 'employe': 3763, 'vengeanc': 3764, 'closest': 3765, 'conneri': 3766, 'rubi': 3767, 'virginia': 3768, 'chicken': 3769, 'bela': 3770, 'franki': 3771, 'vocal': 3772, 'tiresom': 3773, 'maid': 3774, 'passeng': 3775, 'raymond': 3776, 'sensat': 3777, 'graham': 3778, 'plight': 3779, 'marti': 3780, 'poem': 3781, 'quarter': 3782, 'yawn': 3783, 'habit': 3784, 'calm': 3785, 'profan': 3786, 'tube': 3787, 'suffic': 3788, 'swallow': 3789, 'numb': 3790, 'paranoia': 3791, '1968': 3792, 'scottish': 3793, 'amitabh': 3794, 'bay': 3795, 'convincingli': 3796, 'climact': 3797, 'abraham': 3798, 'whine': 3799, 'iran': 3800, 'extens': 3801, 'secretli': 3802, 'volum': 3803, 'inject': 3804, 'lundgren': 3805, 'mute': 3806, 'pokemon': 3807, 'monologu': 3808, 'clone': 3809, 'engross': 3810, 'gerard': 3811, 'outing': 3812, 'crystal': 3813, 'giggl': 3814, 'sirk': 3815, 'profess': 3816, 'backward': 3817, 'linger': 3818, 'grotesqu': 3819, 'abort': 3820, 'trend': 3821, 'im': 3822, 'poetri': 3823, 'underst': 3824, 'taxi': 3825, 'ethan': 3826, 'frankenstein': 3827, 'meander': 3828, 'franci': 3829, 'chicago': 3830, 'surpass': 3831, 'septemb': 3832, 'expand': 3833, 'earl': 3834, 'richardson': 3835, 'junior': 3836, 'dispos': 3837, 'plod': 3838, 'lowest': 3839, 'nichola': 3840, 'spock': 3841, 'bend': 3842, 'fed': 3843, 'austen': 3844, 'descent': 3845, 'catchi': 3846, 'compliment': 3847, 'simplic': 3848, 'lure': 3849, 'rant': 3850, 'household': 3851, 'dysfunct': 3852, 'waitress': 3853, 'nostalgia': 3854, 'eugen': 3855, 'rubber': 3856, 'sue': 3857, 'greedi': 3858, 'spoke': 3859, 'cannon': 3860, 'muddl': 3861, 'hum': 3862, 'instrument': 3863, 'mundan': 3864, 'myth': 3865, 'econom': 3866, 'stallon': 3867, 'tourist': 3868, 'literatur': 3869, 'der': 3870, 'coast': 3871, 'randi': 3872, 'eaten': 3873, 'stale': 3874, 'sissi': 3875, 'equival': 3876, 'flee': 3877, 'cent': 3878, 'insur': 3879, 'crucial': 3880, 'phoni': 3881, 'firstli': 3882, 'duck': 3883, 'dement': 3884, 'recognis': 3885, 'june': 3886, 'phantom': 3887, 'furi': 3888, 'omen': 3889, 'dictat': 3890, 'recognit': 3891, 'damon': 3892, 'lang': 3893, 'mortal': 3894, 'alongsid': 3895, 'map': 3896, 'molli': 3897, 'mankind': 3898, 'deaf': 3899, 'occupi': 3900, 'carel': 3901, 'louis': 3902, 'hello': 3903, 'irrelev': 3904, 'bacal': 3905, 'heel': 3906, 'labor': 3907, 'reign': 3908, 'newli': 3909, 'blackmail': 3910, 'ashley': 3911, 'onlin': 3912, 'daisi': 3913, 'rude': 3914, 'rooney': 3915, 'likewis': 3916, 'buffalo': 3917, 'twilight': 3918, 'distinguish': 3919, 'dreari': 3920, 'loyalti': 3921, 'wisdom': 3922, 'freez': 3923, 'lengthi': 3924, 'drake': 3925, 'bike': 3926, 'damm': 3927, 'bump': 3928, '1973': 3929, 'antwon': 3930, 'cyborg': 3931, 'grayson': 3932, 'biko': 3933, 'exposur': 3934, 'proce': 3935, 'pink': 3936, 'chronicl': 3937, 'startl': 3938, 'keith': 3939, 'incorpor': 3940, 'tunnel': 3941, 'unorigin': 3942, 'attribut': 3943, 'nineti': 3944, 'vein': 3945, 'boxer': 3946, 'worn': 3947, 'butler': 3948, 'prey': 3949, 'emphas': 3950, 'approv': 3951, 'interior': 3952, 'provoc': 3953, 'ridden': 3954, 'analysi': 3955, 'sailor': 3956, 'barrymor': 3957, 'baddi': 3958, 'inher': 3959, 'basketbal': 3960, 'julian': 3961, 'underli': 3962, 'walsh': 3963, 'stalker': 3964, 'barrel': 3965, 'hypnot': 3966, 'mighti': 3967, 'degrad': 3968, 'substitut': 3969, 'er': 3970, 'nicol': 3971, 'belushi': 3972, 'predat': 3973, 'millionair': 3974, 'improvis': 3975, 'othello': 3976, 'unrel': 3977, 'robbin': 3978, 'elm': 3979, 'undeni': 3980, 'indiffer': 3981, 'simmon': 3982, 'meyer': 3983, 'bunni': 3984, 'condemn': 3985, 'meg': 3986, 'drift': 3987, 'fleet': 3988, 'carla': 3989, 'mormon': 3990, 'reid': 3991, 'vital': 3992, 'warmth': 3993, 'unawar': 3994, 'palac': 3995, 'nyc': 3996, 'firm': 3997, 'errol': 3998, 'exquisit': 3999, 'priceless': 4000, 'watson': 4001, 'alarm': 4002, 'shove': 4003, 'agenda': 4004, 'lampoon': 4005, 'roof': 4006, 'dolph': 4007, 'alison': 4008, 'marion': 4009, '3d': 4010, 'hay': 4011, 'edgi': 4012, 'mtv': 4013, 'enthusiasm': 4014, 'rukh': 4015, 'disord': 4016, 'greed': 4017, 'novak': 4018, 'cassidi': 4019, 'minimum': 4020, 'testament': 4021, 'iraq': 4022, 'session': 4023, 'sergeant': 4024, 'zizek': 4025, 'unleash': 4026, 'gestur': 4027, 'thompson': 4028, 'showdown': 4029, 'what': 4030, 'peril': 4031, 'coup': 4032, 'israel': 4033, 'nun': 4034, 'angela': 4035, 'glanc': 4036, 'beatl': 4037, 'simultan': 4038, '13th': 4039, '1933': 4040, 'petti': 4041, 'orlean': 4042, 'valentin': 4043, 'distort': 4044, 'preserv': 4045, 'pamela': 4046, 'crown': 4047, 'peck': 4048, 'ponder': 4049, 'profit': 4050, 'drip': 4051, 'eastern': 4052, 'spain': 4053, 'randomli': 4054, 'campaign': 4055, 'championship': 4056, 'han': 4057, 'exposit': 4058, 'sabrina': 4059, 'realm': 4060, 'wig': 4061, 'cream': 4062, 'restrain': 4063, 'calib': 4064, '1984': 4065, 'travesti': 4066, 'mon': 4067, 'din': 4068, 'valley': 4069, 'bro': 4070, 'unimagin': 4071, 'gentleman': 4072, 'rout': 4073, 'contradict': 4074, 'fido': 4075, 'represent': 4076, 'quinn': 4077, 'cooki': 4078, 'miyazaki': 4079, 'stroke': 4080, 'buster': 4081, 'crawl': 4082, 'empathi': 4083, 'scotland': 4084, 'stake': 4085, 'crow': 4086, 'climat': 4087, 'brenda': 4088, 'shootout': 4089, 'perpetu': 4090, 'reson': 4091, 'jan': 4092, 'kurosawa': 4093, 'regist': 4094, 'dana': 4095, 'unseen': 4096, 'darren': 4097, 'perceiv': 4098, 'compromis': 4099, 'crawford': 4100, 'shoddi': 4101, 'businessman': 4102, 'pole': 4103, 'mclaglen': 4104, '1987': 4105, 'pretens': 4106, 'ustinov': 4107, 'demis': 4108, 'derang': 4109, 'passabl': 4110, 'absent': 4111, 'cloud': 4112, 'baldwin': 4113, 'painter': 4114, '1997': 4115, 'traumat': 4116, 'monoton': 4117, 'distress': 4118, 'tacki': 4119, 'femm': 4120, 'ross': 4121, 'meryl': 4122, 'abomin': 4123, 'sammi': 4124, 'unsatisfi': 4125, 'shaki': 4126, 'greg': 4127, 'spacey': 4128, 'stargat': 4129, 'fuller': 4130, 'warrant': 4131, 'josh': 4132, 'sucker': 4133, 'soderbergh': 4134, 'censor': 4135, 'delic': 4136, 'wax': 4137, 'geek': 4138, 'judgment': 4139, 'click': 4140, 'kumar': 4141, 'jewel': 4142, 'primit': 4143, 'expedit': 4144, '1993': 4145, 'norm': 4146, 'deceas': 4147, 'reluct': 4148, 'furiou': 4149, 'uncov': 4150, 'verbal': 4151, 'wholli': 4152, 'accuraci': 4153, 'tech': 4154, 'sid': 4155, 'dee': 4156, 'seal': 4157, 'nathan': 4158, 'deniro': 4159, 'antonioni': 4160, 'correctli': 4161, 'unravel': 4162, 'anchor': 4163, 'fog': 4164, 'valid': 4165, 'exclus': 4166, 'austin': 4167, 'fenc': 4168, 'polici': 4169, 'tarantino': 4170, 'clash': 4171, 'joel': 4172, 'fabric': 4173, 'roller': 4174, 'wretch': 4175, 'sunni': 4176, 'temper': 4177, 'sheet': 4178, 'pocket': 4179, '2008': 4180, 'crippl': 4181, '1971': 4182, 'trait': 4183, 'sustain': 4184, 'seldom': 4185, 'slam': 4186, 'dreck': 4187, 'alec': 4188, 'ritual': 4189, 'malon': 4190, 'wang': 4191, 'conduct': 4192, 'unfair': 4193, 'patienc': 4194, 'enforc': 4195, 'fart': 4196, 'behold': 4197, '1995': 4198, 'bake': 4199, 'fought': 4200, 'murray': 4201, 'logan': 4202, 'sand': 4203, 'mode': 4204, 'hallucin': 4205, 'darn': 4206, '3000': 4207, 'nicola': 4208, 'clerk': 4209, 'tax': 4210, 'debt': 4211, 'shanghai': 4212, 'vanc': 4213, 'stark': 4214, 'despis': 4215, 'preposter': 4216, 'stuart': 4217, 'clau': 4218, 'outlin': 4219, 'squad': 4220, 'soup': 4221, 'tactic': 4222, 'schedul': 4223, 'exhaust': 4224, 'shell': 4225, 'pete': 4226, 'fundament': 4227, 'penni': 4228, 'conscious': 4229, 'helpless': 4230, 'bias': 4231, 'grief': 4232, 'rita': 4233, 'phil': 4234, 'technicolor': 4235, 'robber': 4236, 'runner': 4237, 'bridget': 4238, 'guitar': 4239, 'divid': 4240, 'sweep': 4241, 'critiqu': 4242, 'scriptwrit': 4243, 'canyon': 4244, 'legaci': 4245, 'preston': 4246, 'isabel': 4247, 'liberti': 4248, 'downey': 4249, 'flair': 4250, 'agenc': 4251, 'vomit': 4252, 'jodi': 4253, 'consciou': 4254, 'inabl': 4255, 'marc': 4256, 'restrict': 4257, 'boyl': 4258, 'alley': 4259, 'sugar': 4260, 'delv': 4261, 'culmin': 4262, 'drove': 4263, 'kansa': 4264, 'bloom': 4265, 'implic': 4266, 'unexpectedli': 4267, 'lacklust': 4268, 'palanc': 4269, 'passag': 4270, 'connor': 4271, 'propos': 4272, 'alicia': 4273, 'sentinel': 4274, 'rear': 4275, 'rehash': 4276, 'jacket': 4277, 'cigarett': 4278, 'sniper': 4279, 'newman': 4280, 'gregori': 4281, 'russia': 4282, 'invad': 4283, 'karl': 4284, 'vet': 4285, 'sharon': 4286, 'feat': 4287, 'lush': 4288, 'tendenc': 4289, 'ladder': 4290, 'rehears': 4291, 'delet': 4292, 'improb': 4293, 'rod': 4294, 'horn': 4295, '22': 4296, '1936': 4297, 'rampag': 4298, 'behaviour': 4299, 'cap': 4300, 'wrench': 4301, 'chainsaw': 4302, 'arrow': 4303, 'foxx': 4304, 'bacon': 4305, 'pale': 4306, 'awhil': 4307, 'aesthet': 4308, 'asylum': 4309, 'tripe': 4310, 'mccoy': 4311, 'yeti': 4312, 'kolchak': 4313, 'financ': 4314, 'coaster': 4315, 'hulk': 4316, 'scoop': 4317, 'rumor': 4318, 'spice': 4319, '1988': 4320, 'hungri': 4321, 'suffici': 4322, 'underneath': 4323, 'paramount': 4324, 'shortcom': 4325, 'fright': 4326, 'sung': 4327, '19th': 4328, '1920': 4329, 'tomorrow': 4330, 'filler': 4331, 'elit': 4332, 'conscienc': 4333, 'wagner': 4334, 'el': 4335, 'globe': 4336, 'paradis': 4337, 'hackney': 4338, 'visitor': 4339, 'newcom': 4340, 'weav': 4341, 'aristocrat': 4342, 'loneli': 4343, 'minu': 4344, 'tasteless': 4345, '1978': 4346, 'prank': 4347, 'suspicion': 4348, 'amazon': 4349, 'lurk': 4350, 'rhythm': 4351, 'wildli': 4352, 'thunderbird': 4353, 'stream': 4354, 'basing': 4355, 'penn': 4356, 'tierney': 4357, 'couch': 4358, 'brit': 4359, 'minist': 4360, 'impos': 4361, 'ingeni': 4362, 'grudg': 4363, 'literari': 4364, '1939': 4365, 'entranc': 4366, '1989': 4367, 'ram': 4368, 'abrupt': 4369, 'worship': 4370, 'rub': 4371, 'secondari': 4372, 'en': 4373, 'choppi': 4374, 'chavez': 4375, 'teas': 4376, 'hopkin': 4377, 'quietli': 4378, 'heist': 4379, 'dirt': 4380, 'inmat': 4381, 'immers': 4382, 'recogniz': 4383, 'standout': 4384, 'curli': 4385, 'leigh': 4386, 'atroc': 4387, 'straightforward': 4388, 'smell': 4389, 'wwe': 4390, 'counterpart': 4391, 'cancer': 4392, 'beverli': 4393, 'springer': 4394, 'naughti': 4395, 'lectur': 4396, '75': 4397, 'iv': 4398, 'chamberlain': 4399, 'bread': 4400, 'posey': 4401, 'paxton': 4402, 'policeman': 4403, 'watcher': 4404, 'ace': 4405, 'convert': 4406, 'cattl': 4407, 'sublim': 4408, 'morbid': 4409, 'net': 4410, 'lindsay': 4411, 'bernard': 4412, 'heartfelt': 4413, 'variat': 4414, 'clan': 4415, 'duel': 4416, 'nemesi': 4417, 'injuri': 4418, 'misguid': 4419, 'geni': 4420, 'enthral': 4421, 'nolan': 4422, 'laurenc': 4423, 'moreov': 4424, '1986': 4425, 'sassi': 4426, 'missil': 4427, 'yearn': 4428, 'skeptic': 4429, 'quaid': 4430, 'ratso': 4431, 'attenborough': 4432, 'transcend': 4433, 'esther': 4434, 'entitl': 4435, 'egg': 4436, 'dont': 4437, 'kitti': 4438, 'hk': 4439, '1979': 4440, 'setup': 4441, 'uncut': 4442, 'out': 4443, 'unexplain': 4444, 'rosemari': 4445, 'moder': 4446, 'grin': 4447, 'characteris': 4448, 'reliabl': 4449, 'cruelti': 4450, 'steadi': 4451, 'buzz': 4452, 'enabl': 4453, 'youngest': 4454, 'bean': 4455, 'facil': 4456, 'brood': 4457, 'diari': 4458, 'obstacl': 4459, 'kidman': 4460, 'poe': 4461, 'mytholog': 4462, 'hopelessli': 4463, 'carlito': 4464, 'spiral': 4465, 'artsi': 4466, 'puppi': 4467, 'vader': 4468, 'bye': 4469, 'graini': 4470, 'tyler': 4471, 'preming': 4472, 'martha': 4473, 'bounc': 4474, 'kline': 4475, 'exterior': 4476, '1969': 4477, 'gina': 4478, 'heap': 4479, 'christin': 4480, 'weather': 4481, 'niec': 4482, 'gillian': 4483, 'despic': 4484, 'underworld': 4485, 'patricia': 4486, 'baffl': 4487, 'spontan': 4488, 'fuel': 4489, 'athlet': 4490, 'bewar': 4491, 'narrow': 4492, 'acquaint': 4493, 'disastr': 4494, 'hammi': 4495, 'oblig': 4496, 'effici': 4497, 'clueless': 4498, 'hain': 4499, 'sweat': 4500, 'brendan': 4501, 'decept': 4502, 'bronson': 4503, '73': 4504, 'biker': 4505, 'goof': 4506, 'scar': 4507, 'analyz': 4508, 'housewif': 4509, 'viewpoint': 4510, 'astound': 4511, 'tick': 4512, 'dilemma': 4513, 'trigger': 4514, 'hepburn': 4515, 'harmless': 4516, 'taboo': 4517, 'mermaid': 4518, 'angst': 4519, 'insipid': 4520, 'shatter': 4521, 'virtu': 4522, 'uh': 4523, 'enlist': 4524, 'rome': 4525, 'candl': 4526, 'circu': 4527, 'sooner': 4528, 'loath': 4529, 'sleepwalk': 4530, 'preachi': 4531, '19': 4532, 'mayhem': 4533, 'outlaw': 4534, 'suprem': 4535, 'dandi': 4536, 'lester': 4537, 'renaiss': 4538, 'headach': 4539, 'injur': 4540, 'loi': 4541, 'fontain': 4542, 'tripl': 4543, 'contempt': 4544, 'dish': 4545, 'slimi': 4546, 'overlong': 4547, 'idol': 4548, 'stair': 4549, 'camcord': 4550, 'glorifi': 4551, 'gere': 4552, 'phenomenon': 4553, 'immatur': 4554, 'surgeri': 4555, 'guin': 4556, 'fluff': 4557, 'filth': 4558, 'hostag': 4559, 'cassavet': 4560, 'stimul': 4561, 'salt': 4562, 'hooker': 4563, 'bent': 4564, 'claustrophob': 4565, 'hokey': 4566, 'macho': 4567, 'amor': 4568, 'ebert': 4569, 'intric': 4570, 'oldest': 4571, 'steer': 4572, 'spade': 4573, 'dismal': 4574, 'redund': 4575, 'zoom': 4576, 'foolish': 4577, 'whore': 4578, 'corbett': 4579, 'ariel': 4580, 'scorses': 4581, 'boston': 4582, 'sox': 4583, 'assert': 4584, 'flirt': 4585, 'perman': 4586, 'cow': 4587, 'proport': 4588, 'strongest': 4589, 'schlock': 4590, 'muscl': 4591, 'gasp': 4592, 'keen': 4593, 'gabl': 4594, 'cush': 4595, 'faint': 4596, 'mutual': 4597, 'joker': 4598, 'rhyme': 4599, 'spree': 4600, 'margin': 4601, 'antagonist': 4602, 'conquer': 4603, '1981': 4604, 'mount': 4605, 'dwarf': 4606, 'shield': 4607, 'radiat': 4608, 'messi': 4609, 'fascist': 4610, 'flag': 4611, 'astronaut': 4612, 'zane': 4613, 'corman': 4614, 'shred': 4615, 'transplant': 4616, 'widescreen': 4617, 'frantic': 4618, 'preced': 4619, '1976': 4620, 'down': 4621, 'obligatori': 4622, 'nolt': 4623, 'remad': 4624, 'cohen': 4625, 'flashi': 4626, 'trivia': 4627, 'alvin': 4628, 'beard': 4629, 'spinal': 4630, 'naschi': 4631, 'harold': 4632, 'danish': 4633, '95': 4634, 'persuad': 4635, 'triangl': 4636, 'scandal': 4637, 'claud': 4638, 'bachelor': 4639, 'raj': 4640, 'carey': 4641, 'wield': 4642, 'flock': 4643, 'ritchi': 4644, 'brush': 4645, '28': 4646, 'info': 4647, 'hara': 4648, 'www': 4649, 'barn': 4650, 'interestingli': 4651, 'bitten': 4652, 'vaniti': 4653, 'off': 4654, 'repris': 4655, 'archiv': 4656, 'mobil': 4657, 'boob': 4658, 'neurot': 4659, 'divin': 4660, '1945': 4661, 'resum': 4662, 'sensual': 4663, 'deer': 4664, 'fishburn': 4665, 'mol': 4666, 'instruct': 4667, 'someday': 4668, 'departur': 4669, 'strive': 4670, 'aborigin': 4671, 'inflict': 4672, 'discern': 4673, 'cycl': 4674, 'dame': 4675, 'colin': 4676, 'hapless': 4677, 'traffic': 4678, 'clad': 4679, 'hilar': 4680, 'casino': 4681, 'helm': 4682, 'harrison': 4683, 'axe': 4684, 'hug': 4685, 'parson': 4686, 'rot': 4687, 'fragil': 4688, 'jade': 4689, 'neill': 4690, 'submit': 4691, 'timberlak': 4692, 'vibrant': 4693, 'biblic': 4694, 'kathryn': 4695, 'europa': 4696, 'loretta': 4697, 'carlo': 4698, 'miracul': 4699, 'anton': 4700, 'ish': 4701, 'earnest': 4702, 'banter': 4703, 'mobster': 4704, 'melissa': 4705, 'cliffhang': 4706, 'artwork': 4707, 'heartwarm': 4708, 'frontier': 4709, 'wendigo': 4710, 'pacif': 4711, 'cher': 4712, 'recit': 4713, 'bate': 4714, 'prophet': 4715, 'cb': 4716, 'pickford': 4717, 'proclaim': 4718, 'dim': 4719, 'dylan': 4720, 'luka': 4721, 'senior': 4722, 'undermin': 4723, 'pixar': 4724, 'estrang': 4725, 'trier': 4726, 'shepherd': 4727, 'choke': 4728, 'feast': 4729, 'holocaust': 4730, 'redneck': 4731, 'aris': 4732, 'seedi': 4733, 'breakfast': 4734, 'pc': 4735, 'vile': 4736, 'legitim': 4737, 'foil': 4738, 'token': 4739, 'orphan': 4740, 'cerebr': 4741, 'razor': 4742, 'misfortun': 4743, 'isra': 4744, 'articl': 4745, 'http': 4746, 'lui': 4747, 'electron': 4748, 'uma': 4749, 'venom': 4750, 'rooki': 4751, 'toronto': 4752, 'mason': 4753, 'marlon': 4754, 'eli': 4755, 'northern': 4756, 'mathieu': 4757, 'winchest': 4758, 'akin': 4759, 'alexandr': 4760, 'jo': 4761, 'bondag': 4762, 'nope': 4763, 'vanessa': 4764, 'jordan': 4765, 'blatantli': 4766, 'bikini': 4767, 'static': 4768, 'sicken': 4769, 'flavor': 4770, 'wardrob': 4771, 'illus': 4772, 'antholog': 4773, 'lucil': 4774, 'milo': 4775, 'cartoonish': 4776, 'magician': 4777, 'leather': 4778, 'swept': 4779, 'peer': 4780, 'highway': 4781, 'comprehend': 4782, 'disregard': 4783, 'abund': 4784, 'styliz': 4785, 'gilbert': 4786, 'clinic': 4787, 'affleck': 4788, 'audrey': 4789, 'nightclub': 4790, 'feminin': 4791, 'ceremoni': 4792, 'frog': 4793, 'glare': 4794, 'howl': 4795, 'dudley': 4796, 'turd': 4797, 'deem': 4798, 'huston': 4799, 'psych': 4800, 'smack': 4801, 'knightley': 4802, 'fifth': 4803, 'charlton': 4804, 'tack': 4805, 'linear': 4806, 'retriev': 4807, 'shorter': 4808, 'oppon': 4809, 'outdat': 4810, 'ideolog': 4811, 'wrestler': 4812, 'boyer': 4813, 'gunga': 4814, 'lavish': 4815, 'uniformli': 4816, 'btw': 4817, 'client': 4818, '1994': 4819, 'deliver': 4820, 'newer': 4821, 'breakdown': 4822, 'salman': 4823, 'snatch': 4824, 'corn': 4825, 'moe': 4826, 'boo': 4827, 'potter': 4828, 'monument': 4829, 'spawn': 4830, 'bastard': 4831, 'tara': 4832, 'durat': 4833, '4th': 4834, 'bogu': 4835, 'evolut': 4836, 'phenomen': 4837, 'lifeless': 4838, 'lighter': 4839, 'plate': 4840, 'energet': 4841, 'whack': 4842, 'mitch': 4843, 'spine': 4844, 'goldsworthi': 4845, 'sleaz': 4846, '1991': 4847, 'chip': 4848, 'toe': 4849, 'compris': 4850, 'greet': 4851, 'cuban': 4852, 'summar': 4853, 'collector': 4854, 'senat': 4855, 'cemeteri': 4856, 'einstein': 4857, 'braveheart': 4858, 'conrad': 4859, 'gilliam': 4860, 'historian': 4861, 'kent': 4862, 'alleg': 4863, 'ie': 4864, 'ol': 4865, 'liu': 4866, 'undertak': 4867, 'trauma': 4868, 'outright': 4869, 'pronounc': 4870, 'inaccuraci': 4871, 'firmli': 4872, 'appl': 4873, 'evelyn': 4874, 'eleven': 4875, 'sorrow': 4876, 'bori': 4877, 'signal': 4878, 'undead': 4879, '1974': 4880, 'wtf': 4881, 'bulk': 4882, 'jam': 4883, 'armstrong': 4884, 'embark': 4885, 'spectacl': 4886, 'judd': 4887, 'capot': 4888, 'clara': 4889, 'constitut': 4890, 'randolph': 4891, 'healthi': 4892, '1977': 4893, 'lex': 4894, 'belli': 4895, 'neatli': 4896, 'fluid': 4897, 'nina': 4898, 'jare': 4899, 'kazan': 4900, 'jule': 4901, 'jedi': 4902, 'replay': 4903, 'luxuri': 4904, 'cecil': 4905, 'creek': 4906, 'mcqueen': 4907, 'occup': 4908, 'curtain': 4909, 'mum': 4910, 'relentless': 4911, 'meal': 4912, 'subtli': 4913, 'vain': 4914, 'antonio': 4915, 'bait': 4916, 'inaccur': 4917, 'poker': 4918, 'abound': 4919, 'truman': 4920, 'palm': 4921, 'walt': 4922, 'inclus': 4923, 'porter': 4924, 'decapit': 4925, 'comprehens': 4926, 'sacrif': 4927, 'blur': 4928, 'knee': 4929, 'galaxi': 4930, 'ash': 4931, 'carmen': 4932, 'aussi': 4933, 'pioneer': 4934, 'cape': 4935, '1985': 4936, 'unattract': 4937, 'id': 4938, 'spray': 4939, 'groan': 4940, 'pepper': 4941, 'rosario': 4942, 'congratul': 4943, 'roar': 4944, 'goldblum': 4945, 'miniseri': 4946, 'comb': 4947, 'genet': 4948, 'forgiven': 4949, 'tokyo': 4950, 'sidewalk': 4951, 'bsg': 4952, 'unsuspect': 4953, 'fruit': 4954, 'kiddi': 4955, 'conan': 4956, 'miami': 4957, 'lauren': 4958, 'propheci': 4959, 'lanc': 4960, 'basket': 4961, 'vignett': 4962, 'paula': 4963, 'scariest': 4964, 'masterson': 4965, '21st': 4966, 'ingrid': 4967, 'vastli': 4968, 'ghetto': 4969, 'evan': 4970, 'monti': 4971, 'turtl': 4972, 'playboy': 4973, 'mice': 4974, 'substanti': 4975, 'drone': 4976, 'weari': 4977, 'sparkl': 4978, 'orchestr': 4979, 'omin': 4980, 'cypher': 4981, 'modest': 4982, 'scarfac': 4983, 'rapidli': 4984, 'handicap': 4985, 'asset': 4986, 'assort': 4987, 'bach': 4988, 'jill': 4989, 'dubiou': 4990, 'profil': 4991, 'hackman': 4992, 'hostil': 4993, 'casper': 4994, 'macabr': 4995, 'growth': 4996, 'bravo': 4997, 'optimist': 4998, 'weaker': 4999}\n"
     ]
    }
   ],
   "source": [
    "word_dict = build_dict(train_X)\n",
    "print(word_dict)"
   ]
  },
  {
   "cell_type": "markdown",
   "metadata": {},
   "source": [
    "**Question:** What are the five most frequently appearing (tokenized) words in the training set? Does it makes sense that these words appear frequently in the training set?"
   ]
  },
  {
   "cell_type": "markdown",
   "metadata": {},
   "source": [
    "**Answer:**"
   ]
  },
  {
   "cell_type": "code",
   "execution_count": 123,
   "metadata": {},
   "outputs": [
    {
     "name": "stdout",
     "output_type": "stream",
     "text": [
      "movi\n",
      "film\n",
      "one\n",
      "like\n",
      "time\n"
     ]
    }
   ],
   "source": [
    "# TODO: Use this space to determine the five most frequently appearing words in the training set.\n",
    "count = 0\n",
    "for word in word_dict:\n",
    "    print(word)\n",
    "    if count > 3:\n",
    "        break\n",
    "    count += 1"
   ]
  },
  {
   "cell_type": "markdown",
   "metadata": {},
   "source": [
    "### Save `word_dict`\n",
    "\n",
    "Later on when we construct an endpoint which processes a submitted review we will need to make use of the `word_dict` which we have created. As such, we will save it to a file now for future use."
   ]
  },
  {
   "cell_type": "code",
   "execution_count": 198,
   "metadata": {},
   "outputs": [],
   "source": [
    "data_dir = '../data/pytorch' # The folder we will use for storing data\n",
    "if not os.path.exists(data_dir): # Make sure that the folder exists\n",
    "    os.makedirs(data_dir)"
   ]
  },
  {
   "cell_type": "code",
   "execution_count": 199,
   "metadata": {},
   "outputs": [],
   "source": [
    "with open(os.path.join(data_dir, 'word_dict.pkl'), \"wb\") as f:\n",
    "    pickle.dump(word_dict, f)"
   ]
  },
  {
   "cell_type": "markdown",
   "metadata": {},
   "source": [
    "### Transform the reviews\n",
    "\n",
    "Now that we have our word dictionary which allows us to transform the words appearing in the reviews into integers, it is time to make use of it and convert our reviews to their integer sequence representation, making sure to pad or truncate to a fixed length, which in our case is `500`."
   ]
  },
  {
   "cell_type": "code",
   "execution_count": 200,
   "metadata": {},
   "outputs": [],
   "source": [
    "def convert_and_pad(word_dict, sentence, pad=500):\n",
    "    NOWORD = 0 # We will use 0 to represent the 'no word' category\n",
    "    INFREQ = 1 # and we use 1 to represent the infrequent words, i.e., words not appearing in word_dict\n",
    "    \n",
    "    working_sentence = [NOWORD] * pad\n",
    "    \n",
    "    for word_index, word in enumerate(sentence[:pad]):\n",
    "        if word in word_dict:\n",
    "            working_sentence[word_index] = word_dict[word]\n",
    "        else:\n",
    "            working_sentence[word_index] = INFREQ\n",
    "            \n",
    "    return working_sentence, min(len(sentence), pad)\n",
    "\n",
    "def convert_and_pad_data(word_dict, data, pad=500):\n",
    "    result = []\n",
    "    lengths = []\n",
    "    \n",
    "    for sentence in data:\n",
    "        converted, leng = convert_and_pad(word_dict, sentence, pad)\n",
    "        result.append(converted)\n",
    "        lengths.append(leng)\n",
    "        \n",
    "    return np.array(result), np.array(lengths)"
   ]
  },
  {
   "cell_type": "code",
   "execution_count": 127,
   "metadata": {},
   "outputs": [],
   "source": [
    "train_X, train_X_len = convert_and_pad_data(word_dict, train_X)\n",
    "test_X, test_X_len = convert_and_pad_data(word_dict, test_X)"
   ]
  },
  {
   "cell_type": "markdown",
   "metadata": {},
   "source": [
    "As a quick check to make sure that things are working as intended, check to see what one of the reviews in the training set looks like after having been processeed. Does this look reasonable? What is the length of a review in the training set?"
   ]
  },
  {
   "cell_type": "code",
   "execution_count": 134,
   "metadata": {
    "scrolled": true
   },
   "outputs": [
    {
     "name": "stdout",
     "output_type": "stream",
     "text": [
      "[ 104    2  891 4176    1    1 3072 4141 1536    1    1    1 3314 2228\n",
      "  314    1 1565  499  301  622 3072 4141    1 3266  105  494   11  153\n",
      "  656    3   13   19    5  308  512    1   72  377  251    2 3609    1\n",
      " 3266  114 1493  485    1  141  874   67  301   67    1    8    2    1\n",
      " 1835  224  200    2   15  215 1564  229   83  141   57  797   15   57\n",
      " 1318    0    0    0    0    0    0    0    0    0    0    0    0    0\n",
      "    0    0    0    0    0    0    0    0    0    0    0    0    0    0\n",
      "    0    0    0    0    0    0    0    0    0    0    0    0    0    0\n",
      "    0    0    0    0    0    0    0    0    0    0    0    0    0    0\n",
      "    0    0    0    0    0    0    0    0    0    0    0    0    0    0\n",
      "    0    0    0    0    0    0    0    0    0    0    0    0    0    0\n",
      "    0    0    0    0    0    0    0    0    0    0    0    0    0    0\n",
      "    0    0    0    0    0    0    0    0    0    0    0    0    0    0\n",
      "    0    0    0    0    0    0    0    0    0    0    0    0    0    0\n",
      "    0    0    0    0    0    0    0    0    0    0    0    0    0    0\n",
      "    0    0    0    0    0    0    0    0    0    0    0    0    0    0\n",
      "    0    0    0    0    0    0    0    0    0    0    0    0    0    0\n",
      "    0    0    0    0    0    0    0    0    0    0    0    0    0    0\n",
      "    0    0    0    0    0    0    0    0    0    0    0    0    0    0\n",
      "    0    0    0    0    0    0    0    0    0    0    0    0    0    0\n",
      "    0    0    0    0    0    0    0    0    0    0    0    0    0    0\n",
      "    0    0    0    0    0    0    0    0    0    0    0    0    0    0\n",
      "    0    0    0    0    0    0    0    0    0    0    0    0    0    0\n",
      "    0    0    0    0    0    0    0    0    0    0    0    0    0    0\n",
      "    0    0    0    0    0    0    0    0    0    0    0    0    0    0\n",
      "    0    0    0    0    0    0    0    0    0    0    0    0    0    0\n",
      "    0    0    0    0    0    0    0    0    0    0    0    0    0    0\n",
      "    0    0    0    0    0    0    0    0    0    0    0    0    0    0\n",
      "    0    0    0    0    0    0    0    0    0    0    0    0    0    0\n",
      "    0    0    0    0    0    0    0    0    0    0    0    0    0    0\n",
      "    0    0    0    0    0    0    0    0    0    0    0    0    0    0\n",
      "    0    0    0    0    0    0    0    0    0    0    0    0    0    0\n",
      "    0    0    0    0    0    0    0    0    0    0    0    0    0    0\n",
      "    0    0    0    0    0    0    0    0    0    0    0    0    0    0\n",
      "    0    0    0    0    0    0    0    0    0    0    0    0    0    0\n",
      "    0    0    0    0    0    0    0    0    0    0]\n",
      "500\n"
     ]
    }
   ],
   "source": [
    "# Use this cell to examine one of the processed reviews to make sure everything is working as intended.\n",
    "print(train_X[30]);\n",
    "print(len(train_X[30]))"
   ]
  },
  {
   "cell_type": "markdown",
   "metadata": {},
   "source": [
    "**Question:** In the cells above we use the `preprocess_data` and `convert_and_pad_data` methods to process both the training and testing set. Why or why not might this be a problem?"
   ]
  },
  {
   "cell_type": "markdown",
   "metadata": {},
   "source": [
    "**Answer:**\n",
    "1. In 'preprocess_data' we may loose some information such as punctuation ,coma and tags which may be crtical to detrmine the sentiment.Also in rare case some words which decides the sentiment also get missed hence we have only 5000 words of vocabulary.\n",
    "\n",
    "2. In 'convert_and_pad_data' we are considering only 500 words and in rare scenario we may miss the gist of the review if the length goes above 500 characters"
   ]
  },
  {
   "cell_type": "markdown",
   "metadata": {},
   "source": [
    "## Step 3: Upload the data to S3\n",
    "\n",
    "As in the XGBoost notebook, we will need to upload the training dataset to S3 in order for our training code to access it. For now we will save it locally and we will upload to S3 later on.\n",
    "\n",
    "### Save the processed training dataset locally\n",
    "\n",
    "It is important to note the format of the data that we are saving as we will need to know it when we write the training code. In our case, each row of the dataset has the form `label`, `length`, `review[500]` where `review[500]` is a sequence of `500` integers representing the words in the review."
   ]
  },
  {
   "cell_type": "code",
   "execution_count": 129,
   "metadata": {},
   "outputs": [],
   "source": [
    "import pandas as pd\n",
    "    \n",
    "pd.concat([pd.DataFrame(train_y), pd.DataFrame(train_X_len), pd.DataFrame(train_X)], axis=1) \\\n",
    "        .to_csv(os.path.join(data_dir, 'train.csv'), header=False, index=False)"
   ]
  },
  {
   "cell_type": "markdown",
   "metadata": {},
   "source": [
    "### Uploading the training data\n",
    "\n",
    "\n",
    "Next, we need to upload the training data to the SageMaker default S3 bucket so that we can provide access to it while training our model."
   ]
  },
  {
   "cell_type": "code",
   "execution_count": 130,
   "metadata": {},
   "outputs": [],
   "source": [
    "import sagemaker\n",
    "\n",
    "sagemaker_session = sagemaker.Session()\n",
    "\n",
    "bucket = sagemaker_session.default_bucket()\n",
    "prefix = 'sagemaker/sentiment_rnn'\n",
    "\n",
    "role = sagemaker.get_execution_role()"
   ]
  },
  {
   "cell_type": "code",
   "execution_count": 131,
   "metadata": {},
   "outputs": [],
   "source": [
    "input_data = sagemaker_session.upload_data(path=data_dir, bucket=bucket, key_prefix=prefix)"
   ]
  },
  {
   "cell_type": "markdown",
   "metadata": {},
   "source": [
    "**NOTE:** The cell above uploads the entire contents of our data directory. This includes the `word_dict.pkl` file. This is fortunate as we will need this later on when we create an endpoint that accepts an arbitrary review. For now, we will just take note of the fact that it resides in the data directory (and so also in the S3 training bucket) and that we will need to make sure it gets saved in the model directory."
   ]
  },
  {
   "cell_type": "markdown",
   "metadata": {},
   "source": [
    "## Step 4: Build and Train the PyTorch Model\n",
    "\n",
    "In the XGBoost notebook we discussed what a model is in the SageMaker framework. In particular, a model comprises three objects\n",
    "\n",
    " - Model Artifacts,\n",
    " - Training Code, and\n",
    " - Inference Code,\n",
    " \n",
    "each of which interact with one another. In the XGBoost example we used training and inference code that was provided by Amazon. Here we will still be using containers provided by Amazon with the added benefit of being able to include our own custom code.\n",
    "\n",
    "We will start by implementing our own neural network in PyTorch along with a training script. For the purposes of this project we have provided the necessary model object in the `model.py` file, inside of the `train` folder. You can see the provided implementation by running the cell below."
   ]
  },
  {
   "cell_type": "code",
   "execution_count": 163,
   "metadata": {
    "scrolled": false
   },
   "outputs": [
    {
     "name": "stdout",
     "output_type": "stream",
     "text": [
      "\u001b[34mimport\u001b[39;49;00m \u001b[04m\u001b[36mtorch.nn\u001b[39;49;00m \u001b[34mas\u001b[39;49;00m \u001b[04m\u001b[36mnn\u001b[39;49;00m\r\n",
      "\r\n",
      "\u001b[34mclass\u001b[39;49;00m \u001b[04m\u001b[32mLSTMClassifier\u001b[39;49;00m(nn.Module):\r\n",
      "    \u001b[33m\"\"\"\u001b[39;49;00m\r\n",
      "\u001b[33m    This is the simple RNN model we will be using to perform Sentiment Analysis.\u001b[39;49;00m\r\n",
      "\u001b[33m    \"\"\"\u001b[39;49;00m\r\n",
      "\r\n",
      "    \u001b[34mdef\u001b[39;49;00m \u001b[32m__init__\u001b[39;49;00m(\u001b[36mself\u001b[39;49;00m, embedding_dim, hidden_dim, vocab_size):\r\n",
      "        \u001b[33m\"\"\"\u001b[39;49;00m\r\n",
      "\u001b[33m        Initialize the model by settingg up the various layers.\u001b[39;49;00m\r\n",
      "\u001b[33m        \"\"\"\u001b[39;49;00m\r\n",
      "        \u001b[36msuper\u001b[39;49;00m(LSTMClassifier, \u001b[36mself\u001b[39;49;00m).\u001b[32m__init__\u001b[39;49;00m()\r\n",
      "\r\n",
      "        \u001b[36mself\u001b[39;49;00m.embedding = nn.Embedding(vocab_size, embedding_dim, padding_idx=\u001b[34m0\u001b[39;49;00m)\r\n",
      "        \u001b[36mself\u001b[39;49;00m.lstm = nn.LSTM(embedding_dim, hidden_dim)\r\n",
      "        \u001b[36mself\u001b[39;49;00m.dense = nn.Linear(in_features=hidden_dim, out_features=\u001b[34m1\u001b[39;49;00m)\r\n",
      "        \u001b[36mself\u001b[39;49;00m.sig = nn.Sigmoid()\r\n",
      "        \r\n",
      "        \u001b[36mself\u001b[39;49;00m.word_dict = \u001b[36mNone\u001b[39;49;00m\r\n",
      "\r\n",
      "    \u001b[34mdef\u001b[39;49;00m \u001b[32mforward\u001b[39;49;00m(\u001b[36mself\u001b[39;49;00m, x):\r\n",
      "        \u001b[33m\"\"\"\u001b[39;49;00m\r\n",
      "\u001b[33m        Perform a forward pass of our model on some input.\u001b[39;49;00m\r\n",
      "\u001b[33m        \"\"\"\u001b[39;49;00m\r\n",
      "        x = x.t()\r\n",
      "        lengths = x[\u001b[34m0\u001b[39;49;00m,:]\r\n",
      "        reviews = x[\u001b[34m1\u001b[39;49;00m:,:]\r\n",
      "        embeds = \u001b[36mself\u001b[39;49;00m.embedding(reviews)\r\n",
      "        lstm_out, _ = \u001b[36mself\u001b[39;49;00m.lstm(embeds)\r\n",
      "        out = \u001b[36mself\u001b[39;49;00m.dense(lstm_out)\r\n",
      "        out = out[lengths - \u001b[34m1\u001b[39;49;00m, \u001b[36mrange\u001b[39;49;00m(\u001b[36mlen\u001b[39;49;00m(lengths))]\r\n",
      "        \u001b[34mreturn\u001b[39;49;00m \u001b[36mself\u001b[39;49;00m.sig(out.squeeze())\r\n"
     ]
    }
   ],
   "source": [
    "!pygmentize train/model.py"
   ]
  },
  {
   "cell_type": "markdown",
   "metadata": {},
   "source": [
    "The important takeaway from the implementation provided is that there are three parameters that we may wish to tweak to improve the performance of our model. These are the embedding dimension, the hidden dimension and the size of the vocabulary. We will likely want to make these parameters configurable in the training script so that if we wish to modify them we do not need to modify the script itself. We will see how to do this later on. To start we will write some of the training code in the notebook so that we can more easily diagnose any issues that arise.\n",
    "\n",
    "First we will load a small portion of the training data set to use as a sample. It would be very time consuming to try and train the model completely in the notebook as we do not have access to a gpu and the compute instance that we are using is not particularly powerful. However, we can work on a small bit of the data to get a feel for how our training script is behaving."
   ]
  },
  {
   "cell_type": "code",
   "execution_count": 114,
   "metadata": {},
   "outputs": [],
   "source": [
    "import torch\n",
    "import torch.utils.data\n",
    "\n",
    "# Read in only the first 250 rows\n",
    "train_sample = pd.read_csv(os.path.join(data_dir, 'train.csv'), header=None, names=None, nrows=250)\n",
    "\n",
    "# Turn the input pandas dataframe into tensors\n",
    "train_sample_y = torch.from_numpy(train_sample[[0]].values).float().squeeze()\n",
    "train_sample_X = torch.from_numpy(train_sample.drop([0], axis=1).values).long()\n",
    "\n",
    "# Build the dataset\n",
    "train_sample_ds = torch.utils.data.TensorDataset(train_sample_X, train_sample_y)\n",
    "# Build the dataloader\n",
    "train_sample_dl = torch.utils.data.DataLoader(train_sample_ds, batch_size=50)"
   ]
  },
  {
   "cell_type": "markdown",
   "metadata": {},
   "source": [
    "### (TODO) Writing the training method\n",
    "\n",
    "Next we need to write the training code itself. This should be very similar to training methods that you have written before to train PyTorch models. We will leave any difficult aspects such as model saving / loading and parameter loading until a little later."
   ]
  },
  {
   "cell_type": "code",
   "execution_count": 115,
   "metadata": {},
   "outputs": [],
   "source": [
    "def train(model, train_loader, epochs, optimizer, loss_fn, device):\n",
    "    for epoch in range(1, epochs + 1):\n",
    "        model.train()\n",
    "        total_loss = 0\n",
    "        for batch in train_loader:         \n",
    "            batch_X, batch_y = batch\n",
    "            \n",
    "            batch_X = batch_X.to(device)\n",
    "            batch_y = batch_y.to(device)\n",
    "            \n",
    "            # TODO: Complete this train method to train the model provided.\n",
    "            optimizer.zero_grad()\n",
    "            out = model.forward(batch_X)\n",
    "            loss = loss_fn(out, batch_y)\n",
    "            loss.backward()\n",
    "            optimizer.step()\n",
    "            \n",
    "            total_loss += loss.data.item()\n",
    "        print(\"Epoch: {}, BCELoss: {}\".format(epoch, total_loss / len(train_loader)))"
   ]
  },
  {
   "cell_type": "markdown",
   "metadata": {},
   "source": [
    "Supposing we have the training method above, we will test that it is working by writing a bit of code in the notebook that executes our training method on the small sample training set that we loaded earlier. The reason for doing this in the notebook is so that we have an opportunity to fix any errors that arise early when they are easier to diagnose."
   ]
  },
  {
   "cell_type": "code",
   "execution_count": 116,
   "metadata": {},
   "outputs": [
    {
     "name": "stdout",
     "output_type": "stream",
     "text": [
      "Epoch: 1, BCELoss: 0.6947601914405823\n",
      "Epoch: 2, BCELoss: 0.6849889397621155\n",
      "Epoch: 3, BCELoss: 0.6765717029571533\n",
      "Epoch: 4, BCELoss: 0.6674651265144348\n",
      "Epoch: 5, BCELoss: 0.6567605018615723\n"
     ]
    }
   ],
   "source": [
    "import torch.optim as optim\n",
    "from train.model import LSTMClassifier\n",
    "\n",
    "device = torch.device(\"cuda\" if torch.cuda.is_available() else \"cpu\")\n",
    "model = LSTMClassifier(32, 100, 5000).to(device)\n",
    "optimizer = optim.Adam(model.parameters())\n",
    "loss_fn = torch.nn.BCELoss()\n",
    "\n",
    "train(model, train_sample_dl, 5, optimizer, loss_fn, device)"
   ]
  },
  {
   "cell_type": "markdown",
   "metadata": {},
   "source": [
    "In order to construct a PyTorch model using SageMaker we must provide SageMaker with a training script. We may optionally include a directory which will be copied to the container and from which our training code will be run. When the training container is executed it will check the uploaded directory (if there is one) for a `requirements.txt` file and install any required Python libraries, after which the training script will be run."
   ]
  },
  {
   "cell_type": "markdown",
   "metadata": {},
   "source": [
    "### (TODO) Training the model\n",
    "\n",
    "When a PyTorch model is constructed in SageMaker, an entry point must be specified. This is the Python file which will be executed when the model is trained. Inside of the `train` directory is a file called `train.py` which has been provided and which contains most of the necessary code to train our model. The only thing that is missing is the implementation of the `train()` method which you wrote earlier in this notebook.\n",
    "\n",
    "**TODO**: Copy the `train()` method written above and paste it into the `train/train.py` file where required.\n",
    "\n",
    "The way that SageMaker passes hyperparameters to the training script is by way of arguments. These arguments can then be parsed and used in the training script. To see how this is done take a look at the provided `train/train.py` file."
   ]
  },
  {
   "cell_type": "code",
   "execution_count": 117,
   "metadata": {},
   "outputs": [],
   "source": [
    "from sagemaker.pytorch import PyTorch\n",
    "\n",
    "estimator = PyTorch(entry_point=\"train.py\",\n",
    "                    source_dir=\"train\",\n",
    "                    role=role,\n",
    "                    framework_version='0.4.0',\n",
    "                    train_instance_count=1,\n",
    "                    train_instance_type='ml.p2.xlarge',\n",
    "                    hyperparameters={\n",
    "                        'epochs': 10,\n",
    "                        'hidden_dim': 200,\n",
    "                    })"
   ]
  },
  {
   "cell_type": "code",
   "execution_count": 118,
   "metadata": {},
   "outputs": [
    {
     "name": "stdout",
     "output_type": "stream",
     "text": [
      "2019-08-16 02:15:59 Starting - Starting the training job...\n",
      "2019-08-16 02:16:14 Starting - Launching requested ML instances......\n",
      "2019-08-16 02:17:18 Starting - Preparing the instances for training.........\n",
      "2019-08-16 02:18:31 Downloading - Downloading input data...\n",
      "2019-08-16 02:19:05 Training - Downloading the training image..\n",
      "\u001b[31mbash: cannot set terminal process group (-1): Inappropriate ioctl for device\u001b[0m\n",
      "\u001b[31mbash: no job control in this shell\u001b[0m\n",
      "\u001b[31m2019-08-16 02:19:39,313 sagemaker-containers INFO     Imported framework sagemaker_pytorch_container.training\u001b[0m\n",
      "\u001b[31m2019-08-16 02:19:39,338 sagemaker_pytorch_container.training INFO     Block until all host DNS lookups succeed.\u001b[0m\n",
      "\u001b[31m2019-08-16 02:19:39,341 sagemaker_pytorch_container.training INFO     Invoking user training script.\u001b[0m\n",
      "\u001b[31m2019-08-16 02:19:39,568 sagemaker-containers INFO     Module train does not provide a setup.py. \u001b[0m\n",
      "\u001b[31mGenerating setup.py\u001b[0m\n",
      "\u001b[31m2019-08-16 02:19:39,568 sagemaker-containers INFO     Generating setup.cfg\u001b[0m\n",
      "\u001b[31m2019-08-16 02:19:39,568 sagemaker-containers INFO     Generating MANIFEST.in\u001b[0m\n",
      "\u001b[31m2019-08-16 02:19:39,569 sagemaker-containers INFO     Installing module with the following command:\u001b[0m\n",
      "\u001b[31m/usr/bin/python -m pip install -U . -r requirements.txt\u001b[0m\n",
      "\u001b[31mProcessing /opt/ml/code\u001b[0m\n",
      "\u001b[31mCollecting pandas (from -r requirements.txt (line 1))\n",
      "  Downloading https://files.pythonhosted.org/packages/74/24/0cdbf8907e1e3bc5a8da03345c23cbed7044330bb8f73bb12e711a640a00/pandas-0.24.2-cp35-cp35m-manylinux1_x86_64.whl (10.0MB)\u001b[0m\n",
      "\u001b[31mCollecting numpy (from -r requirements.txt (line 2))\u001b[0m\n",
      "\u001b[31m  Downloading https://files.pythonhosted.org/packages/69/25/eef8d362bd216b11e7d005331a3cca3d19b0aa57569bde680070109b745c/numpy-1.17.0-cp35-cp35m-manylinux1_x86_64.whl (20.2MB)\u001b[0m\n",
      "\u001b[31mCollecting nltk (from -r requirements.txt (line 3))\n",
      "  Downloading https://files.pythonhosted.org/packages/87/16/4d247e27c55a7b6412e7c4c86f2500ae61afcbf5932b9e3491f8462f8d9e/nltk-3.4.4.zip (1.5MB)\u001b[0m\n",
      "\u001b[31mCollecting beautifulsoup4 (from -r requirements.txt (line 4))\n",
      "  Downloading https://files.pythonhosted.org/packages/1a/b7/34eec2fe5a49718944e215fde81288eec1fa04638aa3fb57c1c6cd0f98c3/beautifulsoup4-4.8.0-py3-none-any.whl (97kB)\u001b[0m\n",
      "\u001b[31mCollecting html5lib (from -r requirements.txt (line 5))\n",
      "  Downloading https://files.pythonhosted.org/packages/a5/62/bbd2be0e7943ec8504b517e62bab011b4946e1258842bc159e5dfde15b96/html5lib-1.0.1-py2.py3-none-any.whl (117kB)\u001b[0m\n",
      "\u001b[31mRequirement already satisfied, skipping upgrade: python-dateutil>=2.5.0 in /usr/local/lib/python3.5/dist-packages (from pandas->-r requirements.txt (line 1)) (2.7.5)\u001b[0m\n",
      "\u001b[31mCollecting pytz>=2011k (from pandas->-r requirements.txt (line 1))\n",
      "  Downloading https://files.pythonhosted.org/packages/87/76/46d697698a143e05f77bec5a526bf4e56a0be61d63425b68f4ba553b51f2/pytz-2019.2-py2.py3-none-any.whl (508kB)\u001b[0m\n",
      "\u001b[31mRequirement already satisfied, skipping upgrade: six in /usr/local/lib/python3.5/dist-packages (from nltk->-r requirements.txt (line 3)) (1.11.0)\u001b[0m\n",
      "\u001b[31mCollecting soupsieve>=1.2 (from beautifulsoup4->-r requirements.txt (line 4))\u001b[0m\n",
      "\u001b[31m  Downloading https://files.pythonhosted.org/packages/35/e3/25079e8911085ab76a6f2facae0771078260c930216ab0b0c44dc5c9bf31/soupsieve-1.9.2-py2.py3-none-any.whl\u001b[0m\n",
      "\u001b[31mCollecting webencodings (from html5lib->-r requirements.txt (line 5))\n",
      "  Downloading https://files.pythonhosted.org/packages/f4/24/2a3e3df732393fed8b3ebf2ec078f05546de641fe1b667ee316ec1dcf3b7/webencodings-0.5.1-py2.py3-none-any.whl\u001b[0m\n",
      "\u001b[31mBuilding wheels for collected packages: nltk, train\n",
      "  Running setup.py bdist_wheel for nltk: started\n",
      "  Running setup.py bdist_wheel for nltk: finished with status 'done'\n",
      "  Stored in directory: /root/.cache/pip/wheels/41/c8/31/48ace4468e236e0e8435f30d33e43df48594e4d53e367cf061\n",
      "  Running setup.py bdist_wheel for train: started\u001b[0m\n",
      "\u001b[31m  Running setup.py bdist_wheel for train: finished with status 'done'\n",
      "  Stored in directory: /tmp/pip-ephem-wheel-cache-n7u3xxgy/wheels/35/24/16/37574d11bf9bde50616c67372a334f94fa8356bc7164af8ca3\u001b[0m\n",
      "\u001b[31mSuccessfully built nltk train\u001b[0m\n",
      "\u001b[31mInstalling collected packages: numpy, pytz, pandas, nltk, soupsieve, beautifulsoup4, webencodings, html5lib, train\n",
      "  Found existing installation: numpy 1.15.4\n",
      "    Uninstalling numpy-1.15.4:\u001b[0m\n",
      "\u001b[31m      Successfully uninstalled numpy-1.15.4\u001b[0m\n",
      "\n",
      "2019-08-16 02:19:38 Training - Training image download completed. Training in progress.\u001b[31mSuccessfully installed beautifulsoup4-4.8.0 html5lib-1.0.1 nltk-3.4.4 numpy-1.17.0 pandas-0.24.2 pytz-2019.2 soupsieve-1.9.2 train-1.0.0 webencodings-0.5.1\u001b[0m\n",
      "\u001b[31mYou are using pip version 18.1, however version 19.2.2 is available.\u001b[0m\n",
      "\u001b[31mYou should consider upgrading via the 'pip install --upgrade pip' command.\u001b[0m\n",
      "\u001b[31m2019-08-16 02:19:51,355 sagemaker-containers INFO     Invoking user script\n",
      "\u001b[0m\n",
      "\u001b[31mTraining Env:\n",
      "\u001b[0m\n",
      "\u001b[31m{\n",
      "    \"module_dir\": \"s3://sagemaker-us-east-2-586977406227/sagemaker-pytorch-2019-08-16-02-15-58-730/source/sourcedir.tar.gz\",\n",
      "    \"output_data_dir\": \"/opt/ml/output/data\",\n",
      "    \"user_entry_point\": \"train.py\",\n",
      "    \"hyperparameters\": {\n",
      "        \"hidden_dim\": 200,\n",
      "        \"epochs\": 10\n",
      "    },\n",
      "    \"resource_config\": {\n",
      "        \"network_interface_name\": \"eth0\",\n",
      "        \"current_host\": \"algo-1\",\n",
      "        \"hosts\": [\n",
      "            \"algo-1\"\n",
      "        ]\n",
      "    },\n",
      "    \"model_dir\": \"/opt/ml/model\",\n",
      "    \"log_level\": 20,\n",
      "    \"output_dir\": \"/opt/ml/output\",\n",
      "    \"job_name\": \"sagemaker-pytorch-2019-08-16-02-15-58-730\",\n",
      "    \"current_host\": \"algo-1\",\n",
      "    \"input_config_dir\": \"/opt/ml/input/config\",\n",
      "    \"additional_framework_parameters\": {},\n",
      "    \"framework_module\": \"sagemaker_pytorch_container.training:main\",\n",
      "    \"output_intermediate_dir\": \"/opt/ml/output/intermediate\",\n",
      "    \"network_interface_name\": \"eth0\",\n",
      "    \"num_cpus\": 4,\n",
      "    \"input_data_config\": {\n",
      "        \"training\": {\n",
      "            \"RecordWrapperType\": \"None\",\n",
      "            \"TrainingInputMode\": \"File\",\n",
      "            \"S3DistributionType\": \"FullyReplicated\"\n",
      "        }\n",
      "    },\n",
      "    \"module_name\": \"train\",\n",
      "    \"hosts\": [\n",
      "        \"algo-1\"\n",
      "    ],\n",
      "    \"input_dir\": \"/opt/ml/input\",\n",
      "    \"num_gpus\": 1,\n",
      "    \"channel_input_dirs\": {\n",
      "        \"training\": \"/opt/ml/input/data/training\"\n",
      "    }\u001b[0m\n",
      "\u001b[31m}\n",
      "\u001b[0m\n",
      "\u001b[31mEnvironment variables:\n",
      "\u001b[0m\n",
      "\u001b[31mSM_HOSTS=[\"algo-1\"]\u001b[0m\n",
      "\u001b[31mSM_NUM_CPUS=4\u001b[0m\n",
      "\u001b[31mSM_LOG_LEVEL=20\u001b[0m\n",
      "\u001b[31mSM_USER_ARGS=[\"--epochs\",\"10\",\"--hidden_dim\",\"200\"]\u001b[0m\n",
      "\u001b[31mSM_INPUT_DATA_CONFIG={\"training\":{\"RecordWrapperType\":\"None\",\"S3DistributionType\":\"FullyReplicated\",\"TrainingInputMode\":\"File\"}}\u001b[0m\n",
      "\u001b[31mSM_OUTPUT_INTERMEDIATE_DIR=/opt/ml/output/intermediate\u001b[0m\n",
      "\u001b[31mSM_NUM_GPUS=1\u001b[0m\n",
      "\u001b[31mSM_USER_ENTRY_POINT=train.py\u001b[0m\n",
      "\u001b[31mSM_CURRENT_HOST=algo-1\u001b[0m\n",
      "\u001b[31mSM_OUTPUT_DIR=/opt/ml/output\u001b[0m\n",
      "\u001b[31mSM_OUTPUT_DATA_DIR=/opt/ml/output/data\u001b[0m\n",
      "\u001b[31mSM_HP_EPOCHS=10\u001b[0m\n",
      "\u001b[31mSM_RESOURCE_CONFIG={\"current_host\":\"algo-1\",\"hosts\":[\"algo-1\"],\"network_interface_name\":\"eth0\"}\u001b[0m\n",
      "\u001b[31mSM_MODULE_NAME=train\u001b[0m\n",
      "\u001b[31mSM_TRAINING_ENV={\"additional_framework_parameters\":{},\"channel_input_dirs\":{\"training\":\"/opt/ml/input/data/training\"},\"current_host\":\"algo-1\",\"framework_module\":\"sagemaker_pytorch_container.training:main\",\"hosts\":[\"algo-1\"],\"hyperparameters\":{\"epochs\":10,\"hidden_dim\":200},\"input_config_dir\":\"/opt/ml/input/config\",\"input_data_config\":{\"training\":{\"RecordWrapperType\":\"None\",\"S3DistributionType\":\"FullyReplicated\",\"TrainingInputMode\":\"File\"}},\"input_dir\":\"/opt/ml/input\",\"job_name\":\"sagemaker-pytorch-2019-08-16-02-15-58-730\",\"log_level\":20,\"model_dir\":\"/opt/ml/model\",\"module_dir\":\"s3://sagemaker-us-east-2-586977406227/sagemaker-pytorch-2019-08-16-02-15-58-730/source/sourcedir.tar.gz\",\"module_name\":\"train\",\"network_interface_name\":\"eth0\",\"num_cpus\":4,\"num_gpus\":1,\"output_data_dir\":\"/opt/ml/output/data\",\"output_dir\":\"/opt/ml/output\",\"output_intermediate_dir\":\"/opt/ml/output/intermediate\",\"resource_config\":{\"current_host\":\"algo-1\",\"hosts\":[\"algo-1\"],\"network_interface_name\":\"eth0\"},\"user_entry_point\":\"train.py\"}\u001b[0m\n",
      "\u001b[31mSM_CHANNELS=[\"training\"]\u001b[0m\n",
      "\u001b[31mSM_INPUT_CONFIG_DIR=/opt/ml/input/config\u001b[0m\n",
      "\u001b[31mSM_INPUT_DIR=/opt/ml/input\u001b[0m\n",
      "\u001b[31mSM_MODULE_DIR=s3://sagemaker-us-east-2-586977406227/sagemaker-pytorch-2019-08-16-02-15-58-730/source/sourcedir.tar.gz\u001b[0m\n",
      "\u001b[31mPYTHONPATH=/usr/local/bin:/usr/lib/python35.zip:/usr/lib/python3.5:/usr/lib/python3.5/plat-x86_64-linux-gnu:/usr/lib/python3.5/lib-dynload:/usr/local/lib/python3.5/dist-packages:/usr/lib/python3/dist-packages\u001b[0m\n",
      "\u001b[31mSM_CHANNEL_TRAINING=/opt/ml/input/data/training\u001b[0m\n",
      "\u001b[31mSM_FRAMEWORK_PARAMS={}\u001b[0m\n",
      "\u001b[31mSM_NETWORK_INTERFACE_NAME=eth0\u001b[0m\n",
      "\u001b[31mSM_FRAMEWORK_MODULE=sagemaker_pytorch_container.training:main\u001b[0m\n",
      "\u001b[31mSM_HPS={\"epochs\":10,\"hidden_dim\":200}\u001b[0m\n",
      "\u001b[31mSM_MODEL_DIR=/opt/ml/model\u001b[0m\n",
      "\u001b[31mSM_HP_HIDDEN_DIM=200\n",
      "\u001b[0m\n",
      "\u001b[31mInvoking script with the following command:\n",
      "\u001b[0m\n",
      "\u001b[31m/usr/bin/python -m train --epochs 10 --hidden_dim 200\n",
      "\n",
      "\u001b[0m\n",
      "\u001b[31mUsing device cuda.\u001b[0m\n",
      "\u001b[31mGet train data loader.\u001b[0m\n"
     ]
    },
    {
     "name": "stdout",
     "output_type": "stream",
     "text": [
      "\u001b[31mModel loaded with embedding_dim 32, hidden_dim 200, vocab_size 5000.\u001b[0m\n",
      "\u001b[31mEpoch: 1, BCELoss: 0.6737924278998861\u001b[0m\n",
      "\u001b[31mEpoch: 2, BCELoss: 0.6068592825714423\u001b[0m\n",
      "\u001b[31mEpoch: 3, BCELoss: 0.5170855735029493\u001b[0m\n",
      "\u001b[31mEpoch: 4, BCELoss: 0.4433723475251879\u001b[0m\n",
      "\u001b[31mEpoch: 5, BCELoss: 0.39578052929469515\u001b[0m\n",
      "\u001b[31mEpoch: 6, BCELoss: 0.3549035416573894\u001b[0m\n",
      "\u001b[31mEpoch: 7, BCELoss: 0.35709805330451655\u001b[0m\n",
      "\u001b[31mEpoch: 8, BCELoss: 0.31455399369706916\u001b[0m\n",
      "\u001b[31mEpoch: 9, BCELoss: 0.30255734069006784\u001b[0m\n",
      "\n",
      "2019-08-16 02:23:01 Uploading - Uploading generated training model\n",
      "2019-08-16 02:23:01 Completed - Training job completed\n",
      "\u001b[31mEpoch: 10, BCELoss: 0.2924958570879333\u001b[0m\n",
      "\u001b[31m2019-08-16 02:22:51,712 sagemaker-containers INFO     Reporting training SUCCESS\u001b[0m\n",
      "Billable seconds: 271\n"
     ]
    }
   ],
   "source": [
    "estimator.fit({'training': input_data})"
   ]
  },
  {
   "cell_type": "markdown",
   "metadata": {},
   "source": [
    "## Step 5: Testing the model\n",
    "\n",
    "As mentioned at the top of this notebook, we will be testing this model by first deploying it and then sending the testing data to the deployed endpoint. We will do this so that we can make sure that the deployed model is working correctly.\n",
    "\n",
    "## Step 6: Deploy the model for testing\n",
    "\n",
    "Now that we have trained our model, we would like to test it to see how it performs. Currently our model takes input of the form `review_length, review[500]` where `review[500]` is a sequence of `500` integers which describe the words present in the review, encoded using `word_dict`. Fortunately for us, SageMaker provides built-in inference code for models with simple inputs such as this.\n",
    "\n",
    "There is one thing that we need to provide, however, and that is a function which loads the saved model. This function must be called `model_fn()` and takes as its only parameter a path to the directory where the model artifacts are stored. This function must also be present in the python file which we specified as the entry point. In our case the model loading function has been provided and so no changes need to be made.\n",
    "\n",
    "**NOTE**: When the built-in inference code is run it must import the `model_fn()` method from the `train.py` file. This is why the training code is wrapped in a main guard ( ie, `if __name__ == '__main__':` )\n",
    "\n",
    "Since we don't need to change anything in the code that was uploaded during training, we can simply deploy the current model as-is.\n",
    "\n",
    "**NOTE:** When deploying a model you are asking SageMaker to launch an compute instance that will wait for data to be sent to it. As a result, this compute instance will continue to run until *you* shut it down. This is important to know since the cost of a deployed endpoint depends on how long it has been running for.\n",
    "\n",
    "In other words **If you are no longer using a deployed endpoint, shut it down!**\n",
    "\n",
    "**TODO:** Deploy the trained model."
   ]
  },
  {
   "cell_type": "code",
   "execution_count": 150,
   "metadata": {},
   "outputs": [
    {
     "name": "stderr",
     "output_type": "stream",
     "text": [
      "Using already existing model: sagemaker-pytorch-2019-08-16-02-15-58-730\n"
     ]
    },
    {
     "name": "stdout",
     "output_type": "stream",
     "text": [
      "---------------------------------------------------------------------------------------------------!"
     ]
    }
   ],
   "source": [
    "# TODO: Deploy the trained model\n",
    "#predictor.delete_endpoint()\n",
    "predictor = estimator.deploy(initial_instance_count=1, instance_type='ml.m4.xlarge')"
   ]
  },
  {
   "cell_type": "markdown",
   "metadata": {},
   "source": [
    "## Step 7 - Use the model for testing\n",
    "\n",
    "Once deployed, we can read in the test data and send it off to our deployed model to get some results. Once we collect all of the results we can determine how accurate our model is."
   ]
  },
  {
   "cell_type": "code",
   "execution_count": 151,
   "metadata": {},
   "outputs": [],
   "source": [
    "test_X = pd.concat([pd.DataFrame(test_X_len), pd.DataFrame(test_X)], axis=1)"
   ]
  },
  {
   "cell_type": "code",
   "execution_count": 152,
   "metadata": {},
   "outputs": [],
   "source": [
    "# We split the data into chunks and send each chunk seperately, accumulating the results.\n",
    "\n",
    "def predict(data, rows=512):\n",
    "    split_array = np.array_split(data, int(data.shape[0] / float(rows) + 1))\n",
    "    predictions = np.array([])\n",
    "    for array in split_array:\n",
    "        predictions = np.append(predictions, predictor.predict(array))\n",
    "    \n",
    "    return predictions"
   ]
  },
  {
   "cell_type": "code",
   "execution_count": 156,
   "metadata": {},
   "outputs": [],
   "source": [
    "predictions = predict(test_X.values)\n",
    "predictions = [round(num) for num in predictions]"
   ]
  },
  {
   "cell_type": "code",
   "execution_count": 157,
   "metadata": {},
   "outputs": [
    {
     "data": {
      "text/plain": [
       "0.79812"
      ]
     },
     "execution_count": 157,
     "metadata": {},
     "output_type": "execute_result"
    }
   ],
   "source": [
    "from sklearn.metrics import accuracy_score\n",
    "accuracy_score(test_y, predictions)"
   ]
  },
  {
   "cell_type": "markdown",
   "metadata": {},
   "source": [
    "**Question:** How does this model compare to the XGBoost model you created earlier? Why might these two models perform differently on this dataset? Which do *you* think is better for sentiment analysis?"
   ]
  },
  {
   "cell_type": "markdown",
   "metadata": {},
   "source": [
    "**Answer:**\n",
    "The XG Boost model has the accuracy rate around 0.85. This model has little bit less accuracy than the XG boost model"
   ]
  },
  {
   "cell_type": "markdown",
   "metadata": {},
   "source": [
    "### (TODO) More testing\n",
    "\n",
    "We now have a trained model which has been deployed and which we can send processed reviews to and which returns the predicted sentiment. However, ultimately we would like to be able to send our model an unprocessed review. That is, we would like to send the review itself as a string. For example, suppose we wish to send the following review to our model."
   ]
  },
  {
   "cell_type": "code",
   "execution_count": 158,
   "metadata": {},
   "outputs": [],
   "source": [
    "test_review = 'The simplest pleasures in life are the best, and this film is one of them. Combining a rather basic storyline of love and adventure this movie transcends the usual weekend fair with wit and unmitigated charm.'"
   ]
  },
  {
   "cell_type": "markdown",
   "metadata": {},
   "source": [
    "The question we now need to answer is, how do we send this review to our model?\n",
    "\n",
    "Recall in the first section of this notebook we did a bunch of data processing to the IMDb dataset. In particular, we did two specific things to the provided reviews.\n",
    " - Removed any html tags and stemmed the input\n",
    " - Encoded the review as a sequence of integers using `word_dict`\n",
    " \n",
    "In order process the review we will need to repeat these two steps.\n",
    "\n",
    "**TODO**: Using the `review_to_words` and `convert_and_pad` methods from section one, convert `test_review` into a numpy array `test_data` suitable to send to our model. Remember that our model expects input of the form `review_length, review[500]`."
   ]
  },
  {
   "cell_type": "code",
   "execution_count": 159,
   "metadata": {},
   "outputs": [
    {
     "name": "stdout",
     "output_type": "stream",
     "text": [
      "[array([   1, 1374,   50,   53,    3,    4,  878,  173,  392,  682,   29,\n",
      "        724,    2, 4433,  275, 2075, 1059,  760,    1,  581,    0,    0,\n",
      "          0,    0,    0,    0,    0,    0,    0,    0,    0,    0,    0,\n",
      "          0,    0,    0,    0,    0,    0,    0,    0,    0,    0,    0,\n",
      "          0,    0,    0,    0,    0,    0,    0,    0,    0,    0,    0,\n",
      "          0,    0,    0,    0,    0,    0,    0,    0,    0,    0,    0,\n",
      "          0,    0,    0,    0,    0,    0,    0,    0,    0,    0,    0,\n",
      "          0,    0,    0,    0,    0,    0,    0,    0,    0,    0,    0,\n",
      "          0,    0,    0,    0,    0,    0,    0,    0,    0,    0,    0,\n",
      "          0,    0,    0,    0,    0,    0,    0,    0,    0,    0,    0,\n",
      "          0,    0,    0,    0,    0,    0,    0,    0,    0,    0,    0,\n",
      "          0,    0,    0,    0,    0,    0,    0,    0,    0,    0,    0,\n",
      "          0,    0,    0,    0,    0,    0,    0,    0,    0,    0,    0,\n",
      "          0,    0,    0,    0,    0,    0,    0,    0,    0,    0,    0,\n",
      "          0,    0,    0,    0,    0,    0,    0,    0,    0,    0,    0,\n",
      "          0,    0,    0,    0,    0,    0,    0,    0,    0,    0,    0,\n",
      "          0,    0,    0,    0,    0,    0,    0,    0,    0,    0,    0,\n",
      "          0,    0,    0,    0,    0,    0,    0,    0,    0,    0,    0,\n",
      "          0,    0,    0,    0,    0,    0,    0,    0,    0,    0,    0,\n",
      "          0,    0,    0,    0,    0,    0,    0,    0,    0,    0,    0,\n",
      "          0,    0,    0,    0,    0,    0,    0,    0,    0,    0,    0,\n",
      "          0,    0,    0,    0,    0,    0,    0,    0,    0,    0,    0,\n",
      "          0,    0,    0,    0,    0,    0,    0,    0,    0,    0,    0,\n",
      "          0,    0,    0,    0,    0,    0,    0,    0,    0,    0,    0,\n",
      "          0,    0,    0,    0,    0,    0,    0,    0,    0,    0,    0,\n",
      "          0,    0,    0,    0,    0,    0,    0,    0,    0,    0,    0,\n",
      "          0,    0,    0,    0,    0,    0,    0,    0,    0,    0,    0,\n",
      "          0,    0,    0,    0,    0,    0,    0,    0,    0,    0,    0,\n",
      "          0,    0,    0,    0,    0,    0,    0,    0,    0,    0,    0,\n",
      "          0,    0,    0,    0,    0,    0,    0,    0,    0,    0,    0,\n",
      "          0,    0,    0,    0,    0,    0,    0,    0,    0,    0,    0,\n",
      "          0,    0,    0,    0,    0,    0,    0,    0,    0,    0,    0,\n",
      "          0,    0,    0,    0,    0,    0,    0,    0,    0,    0,    0,\n",
      "          0,    0,    0,    0,    0,    0,    0,    0,    0,    0,    0,\n",
      "          0,    0,    0,    0,    0,    0,    0,    0,    0,    0,    0,\n",
      "          0,    0,    0,    0,    0,    0,    0,    0,    0,    0,    0,\n",
      "          0,    0,    0,    0,    0,    0,    0,    0,    0,    0,    0,\n",
      "          0,    0,    0,    0,    0,    0,    0,    0,    0,    0,    0,\n",
      "          0,    0,    0,    0,    0,    0,    0,    0,    0,    0,    0,\n",
      "          0,    0,    0,    0,    0,    0,    0,    0,    0,    0,    0,\n",
      "          0,    0,    0,    0,    0,    0,    0,    0,    0,    0,    0,\n",
      "          0,    0,    0,    0,    0,    0,    0,    0,    0,    0,    0,\n",
      "          0,    0,    0,    0,    0,    0,    0,    0,    0,    0,    0,\n",
      "          0,    0,    0,    0,    0,    0,    0,    0,    0,    0,    0,\n",
      "          0,    0,    0,    0,    0,    0,    0,    0,    0,    0,    0,\n",
      "          0,    0,    0,    0,    0])]\n"
     ]
    }
   ],
   "source": [
    "# TODO: Convert test_review into a form usable by the model and save the results in test_data\n",
    "test_data = None\n",
    "test_data = review_to_words(test_review);\n",
    "#print(test_data);\n",
    "test_data = [np.array(convert_and_pad(word_dict, test_data)[0])];\n",
    "print(test_data)\n",
    "\n",
    "\n"
   ]
  },
  {
   "cell_type": "markdown",
   "metadata": {},
   "source": [
    "Now that we have processed the review, we can send the resulting array to our model to predict the sentiment of the review."
   ]
  },
  {
   "cell_type": "code",
   "execution_count": 160,
   "metadata": {},
   "outputs": [
    {
     "data": {
      "text/plain": [
       "array(0.7588356, dtype=float32)"
      ]
     },
     "execution_count": 160,
     "metadata": {},
     "output_type": "execute_result"
    }
   ],
   "source": [
    "predictor.predict(test_data)"
   ]
  },
  {
   "cell_type": "markdown",
   "metadata": {},
   "source": [
    "Since the return value of our model is close to `1`, we can be certain that the review we submitted is positive."
   ]
  },
  {
   "cell_type": "markdown",
   "metadata": {},
   "source": [
    "### Delete the endpoint\n",
    "\n",
    "Of course, just like in the XGBoost notebook, once we've deployed an endpoint it continues to run until we tell it to shut down. Since we are done using our endpoint for now, we can delete it."
   ]
  },
  {
   "cell_type": "code",
   "execution_count": 161,
   "metadata": {},
   "outputs": [],
   "source": [
    "estimator.delete_endpoint()"
   ]
  },
  {
   "cell_type": "markdown",
   "metadata": {},
   "source": [
    "## Step 6 (again) - Deploy the model for the web app\n",
    "\n",
    "Now that we know that our model is working, it's time to create some custom inference code so that we can send the model a review which has not been processed and have it determine the sentiment of the review.\n",
    "\n",
    "As we saw above, by default the estimator which we created, when deployed, will use the entry script and directory which we provided when creating the model. However, since we now wish to accept a string as input and our model expects a processed review, we need to write some custom inference code.\n",
    "\n",
    "We will store the code that we write in the `serve` directory. Provided in this directory is the `model.py` file that we used to construct our model, a `utils.py` file which contains the `review_to_words` and `convert_and_pad` pre-processing functions which we used during the initial data processing, and `predict.py`, the file which will contain our custom inference code. Note also that `requirements.txt` is present which will tell SageMaker what Python libraries are required by our custom inference code.\n",
    "\n",
    "When deploying a PyTorch model in SageMaker, you are expected to provide four functions which the SageMaker inference container will use.\n",
    " - `model_fn`: This function is the same function that we used in the training script and it tells SageMaker how to load our model.\n",
    " - `input_fn`: This function receives the raw serialized input that has been sent to the model's endpoint and its job is to de-serialize and make the input available for the inference code.\n",
    " - `output_fn`: This function takes the output of the inference code and its job is to serialize this output and return it to the caller of the model's endpoint.\n",
    " - `predict_fn`: The heart of the inference script, this is where the actual prediction is done and is the function which you will need to complete.\n",
    "\n",
    "For the simple website that we are constructing during this project, the `input_fn` and `output_fn` methods are relatively straightforward. We only require being able to accept a string as input and we expect to return a single value as output. You might imagine though that in a more complex application the input or output may be image data or some other binary data which would require some effort to serialize.\n",
    "\n",
    "### (TODO) Writing inference code\n",
    "\n",
    "Before writing our custom inference code, we will begin by taking a look at the code which has been provided."
   ]
  },
  {
   "cell_type": "code",
   "execution_count": 204,
   "metadata": {},
   "outputs": [
    {
     "name": "stdout",
     "output_type": "stream",
     "text": [
      "\u001b[34mimport\u001b[39;49;00m \u001b[04m\u001b[36margparse\u001b[39;49;00m\r\n",
      "\u001b[34mimport\u001b[39;49;00m \u001b[04m\u001b[36mjson\u001b[39;49;00m\r\n",
      "\u001b[34mimport\u001b[39;49;00m \u001b[04m\u001b[36mos\u001b[39;49;00m\r\n",
      "\u001b[34mimport\u001b[39;49;00m \u001b[04m\u001b[36mpickle\u001b[39;49;00m\r\n",
      "\u001b[34mimport\u001b[39;49;00m \u001b[04m\u001b[36msys\u001b[39;49;00m\r\n",
      "\u001b[34mimport\u001b[39;49;00m \u001b[04m\u001b[36msagemaker_containers\u001b[39;49;00m\r\n",
      "\u001b[34mimport\u001b[39;49;00m \u001b[04m\u001b[36mpandas\u001b[39;49;00m \u001b[34mas\u001b[39;49;00m \u001b[04m\u001b[36mpd\u001b[39;49;00m\r\n",
      "\u001b[34mimport\u001b[39;49;00m \u001b[04m\u001b[36mnumpy\u001b[39;49;00m \u001b[34mas\u001b[39;49;00m \u001b[04m\u001b[36mnp\u001b[39;49;00m\r\n",
      "\u001b[34mimport\u001b[39;49;00m \u001b[04m\u001b[36mtorch\u001b[39;49;00m\r\n",
      "\u001b[34mimport\u001b[39;49;00m \u001b[04m\u001b[36mtorch.nn\u001b[39;49;00m \u001b[34mas\u001b[39;49;00m \u001b[04m\u001b[36mnn\u001b[39;49;00m\r\n",
      "\u001b[34mimport\u001b[39;49;00m \u001b[04m\u001b[36mtorch.optim\u001b[39;49;00m \u001b[34mas\u001b[39;49;00m \u001b[04m\u001b[36moptim\u001b[39;49;00m\r\n",
      "\u001b[34mimport\u001b[39;49;00m \u001b[04m\u001b[36mtorch.utils.data\u001b[39;49;00m\r\n",
      "\r\n",
      "\u001b[34mfrom\u001b[39;49;00m \u001b[04m\u001b[36mmodel\u001b[39;49;00m \u001b[34mimport\u001b[39;49;00m LSTMClassifier\r\n",
      "\r\n",
      "\u001b[34mfrom\u001b[39;49;00m \u001b[04m\u001b[36mutils\u001b[39;49;00m \u001b[34mimport\u001b[39;49;00m review_to_words, convert_and_pad\r\n",
      "\r\n",
      "\u001b[34mdef\u001b[39;49;00m \u001b[32mmodel_fn\u001b[39;49;00m(model_dir):\r\n",
      "    \u001b[33m\"\"\"Load the PyTorch model from the `model_dir` directory.\"\"\"\u001b[39;49;00m\r\n",
      "    \u001b[34mprint\u001b[39;49;00m(\u001b[33m\"\u001b[39;49;00m\u001b[33mLoading model.\u001b[39;49;00m\u001b[33m\"\u001b[39;49;00m)\r\n",
      "\r\n",
      "    \u001b[37m# First, load the parameters used to create the model.\u001b[39;49;00m\r\n",
      "    model_info = {}\r\n",
      "    model_info_path = os.path.join(model_dir, \u001b[33m'\u001b[39;49;00m\u001b[33mmodel_info.pth\u001b[39;49;00m\u001b[33m'\u001b[39;49;00m)\r\n",
      "    \u001b[34mwith\u001b[39;49;00m \u001b[36mopen\u001b[39;49;00m(model_info_path, \u001b[33m'\u001b[39;49;00m\u001b[33mrb\u001b[39;49;00m\u001b[33m'\u001b[39;49;00m) \u001b[34mas\u001b[39;49;00m f:\r\n",
      "        model_info = torch.load(f)\r\n",
      "\r\n",
      "    \u001b[34mprint\u001b[39;49;00m(\u001b[33m\"\u001b[39;49;00m\u001b[33mmodel_info: {}\u001b[39;49;00m\u001b[33m\"\u001b[39;49;00m.format(model_info))\r\n",
      "\r\n",
      "    \u001b[37m# Determine the device and construct the model.\u001b[39;49;00m\r\n",
      "    device = torch.device(\u001b[33m\"\u001b[39;49;00m\u001b[33mcuda\u001b[39;49;00m\u001b[33m\"\u001b[39;49;00m \u001b[34mif\u001b[39;49;00m torch.cuda.is_available() \u001b[34melse\u001b[39;49;00m \u001b[33m\"\u001b[39;49;00m\u001b[33mcpu\u001b[39;49;00m\u001b[33m\"\u001b[39;49;00m)\r\n",
      "    model = LSTMClassifier(model_info[\u001b[33m'\u001b[39;49;00m\u001b[33membedding_dim\u001b[39;49;00m\u001b[33m'\u001b[39;49;00m], model_info[\u001b[33m'\u001b[39;49;00m\u001b[33mhidden_dim\u001b[39;49;00m\u001b[33m'\u001b[39;49;00m], model_info[\u001b[33m'\u001b[39;49;00m\u001b[33mvocab_size\u001b[39;49;00m\u001b[33m'\u001b[39;49;00m])\r\n",
      "\r\n",
      "    \u001b[37m# Load the store model parameters.\u001b[39;49;00m\r\n",
      "    model_path = os.path.join(model_dir, \u001b[33m'\u001b[39;49;00m\u001b[33mmodel.pth\u001b[39;49;00m\u001b[33m'\u001b[39;49;00m)\r\n",
      "    \u001b[34mwith\u001b[39;49;00m \u001b[36mopen\u001b[39;49;00m(model_path, \u001b[33m'\u001b[39;49;00m\u001b[33mrb\u001b[39;49;00m\u001b[33m'\u001b[39;49;00m) \u001b[34mas\u001b[39;49;00m f:\r\n",
      "        model.load_state_dict(torch.load(f))\r\n",
      "\r\n",
      "    \u001b[37m# Load the saved word_dict.\u001b[39;49;00m\r\n",
      "    word_dict_path = os.path.join(model_dir, \u001b[33m'\u001b[39;49;00m\u001b[33mword_dict.pkl\u001b[39;49;00m\u001b[33m'\u001b[39;49;00m)\r\n",
      "    \u001b[34mwith\u001b[39;49;00m \u001b[36mopen\u001b[39;49;00m(word_dict_path, \u001b[33m'\u001b[39;49;00m\u001b[33mrb\u001b[39;49;00m\u001b[33m'\u001b[39;49;00m) \u001b[34mas\u001b[39;49;00m f:\r\n",
      "        model.word_dict = pickle.load(f)\r\n",
      "\r\n",
      "    model.to(device).eval()\r\n",
      "\r\n",
      "    \u001b[34mprint\u001b[39;49;00m(\u001b[33m\"\u001b[39;49;00m\u001b[33mDone loading model.\u001b[39;49;00m\u001b[33m\"\u001b[39;49;00m)\r\n",
      "    \u001b[34mreturn\u001b[39;49;00m model\r\n",
      "\r\n",
      "\u001b[34mdef\u001b[39;49;00m \u001b[32minput_fn\u001b[39;49;00m(serialized_input_data, content_type):\r\n",
      "    \u001b[34mprint\u001b[39;49;00m(\u001b[33m'\u001b[39;49;00m\u001b[33mDeserializing the input data.\u001b[39;49;00m\u001b[33m'\u001b[39;49;00m)\r\n",
      "    \u001b[34mif\u001b[39;49;00m content_type == \u001b[33m'\u001b[39;49;00m\u001b[33mtext/plain\u001b[39;49;00m\u001b[33m'\u001b[39;49;00m:\r\n",
      "        data = serialized_input_data.decode(\u001b[33m'\u001b[39;49;00m\u001b[33mutf-8\u001b[39;49;00m\u001b[33m'\u001b[39;49;00m)\r\n",
      "        \u001b[34mreturn\u001b[39;49;00m data\r\n",
      "    \u001b[34mraise\u001b[39;49;00m \u001b[36mException\u001b[39;49;00m(\u001b[33m'\u001b[39;49;00m\u001b[33mRequested unsupported ContentType in content_type: \u001b[39;49;00m\u001b[33m'\u001b[39;49;00m + content_type)\r\n",
      "\r\n",
      "\u001b[34mdef\u001b[39;49;00m \u001b[32moutput_fn\u001b[39;49;00m(prediction_output, accept):\r\n",
      "    \u001b[34mprint\u001b[39;49;00m(\u001b[33m'\u001b[39;49;00m\u001b[33mSerializing the generated output.\u001b[39;49;00m\u001b[33m'\u001b[39;49;00m)\r\n",
      "    \u001b[34mreturn\u001b[39;49;00m \u001b[36mstr\u001b[39;49;00m(prediction_output)\r\n",
      "\r\n",
      "\u001b[34mdef\u001b[39;49;00m \u001b[32mpredict_fn\u001b[39;49;00m(input_data, model):\r\n",
      "    \u001b[34mprint\u001b[39;49;00m(\u001b[33m'\u001b[39;49;00m\u001b[33mInferring sentiment of input data.\u001b[39;49;00m\u001b[33m'\u001b[39;49;00m)\r\n",
      "\r\n",
      "    device = torch.device(\u001b[33m\"\u001b[39;49;00m\u001b[33mcuda\u001b[39;49;00m\u001b[33m\"\u001b[39;49;00m \u001b[34mif\u001b[39;49;00m torch.cuda.is_available() \u001b[34melse\u001b[39;49;00m \u001b[33m\"\u001b[39;49;00m\u001b[33mcpu\u001b[39;49;00m\u001b[33m\"\u001b[39;49;00m)\r\n",
      "    \r\n",
      "    \u001b[34mif\u001b[39;49;00m model.word_dict \u001b[35mis\u001b[39;49;00m \u001b[36mNone\u001b[39;49;00m:\r\n",
      "        \u001b[34mraise\u001b[39;49;00m \u001b[36mException\u001b[39;49;00m(\u001b[33m'\u001b[39;49;00m\u001b[33mModel has not been loaded properly, no word_dict.\u001b[39;49;00m\u001b[33m'\u001b[39;49;00m)\r\n",
      "    \r\n",
      "    \u001b[37m# TODO: Process input_data so that it is ready to be sent to our model.\u001b[39;49;00m\r\n",
      "    \u001b[37m#       You should produce two variables:\u001b[39;49;00m\r\n",
      "    \u001b[37m#         data_X   - A sequence of length 500 which represents the converted review\u001b[39;49;00m\r\n",
      "    \u001b[37m#         data_len - The length of the review\u001b[39;49;00m\r\n",
      "\r\n",
      "    \u001b[37m#data_X = None\u001b[39;49;00m\r\n",
      "    \u001b[37m#data_len = None\u001b[39;49;00m\r\n",
      "    data_X,data_len = convert_and_pad(model.word_dict, review_to_words(input_data)); \r\n",
      "\r\n",
      "    \u001b[37m# Using data_X and data_len we construct an appropriate input tensor. Remember\u001b[39;49;00m\r\n",
      "    \u001b[37m# that our model expects input data of the form 'len, review[500]'.\u001b[39;49;00m\r\n",
      "    data_pack = np.hstack((data_len, data_X))\r\n",
      "    data_pack = data_pack.reshape(\u001b[34m1\u001b[39;49;00m, -\u001b[34m1\u001b[39;49;00m)\r\n",
      "    \r\n",
      "    data = torch.from_numpy(data_pack)\r\n",
      "    data = data.to(device)\r\n",
      "\r\n",
      "    \u001b[37m# Make sure to put the model into evaluation mode\u001b[39;49;00m\r\n",
      "    model.eval()\r\n",
      "\r\n",
      "    \u001b[37m# TODO: Compute the result of applying the model to the input data. The variable `result` should\u001b[39;49;00m\r\n",
      "    \u001b[37m#       be a numpy array which contains a single integer which is either 1 or 0\u001b[39;49;00m\r\n",
      "\r\n",
      "    \u001b[37m#result = None\u001b[39;49;00m\r\n",
      "    \u001b[34mwith\u001b[39;49;00m torch.no_grad():\r\n",
      "        output = model.forward(data)\r\n",
      "\r\n",
      "    result = np.round(output.numpy())\r\n",
      "\r\n",
      "    \u001b[34mreturn\u001b[39;49;00m result\r\n"
     ]
    }
   ],
   "source": [
    "!pygmentize serve/predict.py"
   ]
  },
  {
   "cell_type": "markdown",
   "metadata": {},
   "source": [
    "As mentioned earlier, the `model_fn` method is the same as the one provided in the training code and the `input_fn` and `output_fn` methods are very simple and your task will be to complete the `predict_fn` method. Make sure that you save the completed file as `predict.py` in the `serve` directory.\n",
    "\n",
    "**TODO**: Complete the `predict_fn()` method in the `serve/predict.py` file."
   ]
  },
  {
   "cell_type": "markdown",
   "metadata": {},
   "source": [
    "### Deploying the model\n",
    "\n",
    "Now that the custom inference code has been written, we will create and deploy our model. To begin with, we need to construct a new PyTorchModel object which points to the model artifacts created during training and also points to the inference code that we wish to use. Then we can call the deploy method to launch the deployment container.\n",
    "\n",
    "**NOTE**: The default behaviour for a deployed PyTorch model is to assume that any input passed to the predictor is a `numpy` array. In our case we want to send a string so we need to construct a simple wrapper around the `RealTimePredictor` class to accomodate simple strings. In a more complicated situation you may want to provide a serialization object, for example if you wanted to sent image data."
   ]
  },
  {
   "cell_type": "code",
   "execution_count": 221,
   "metadata": {},
   "outputs": [
    {
     "name": "stdout",
     "output_type": "stream",
     "text": [
      "---------------------------------------------------------------------------------------!"
     ]
    }
   ],
   "source": [
    "from sagemaker.predictor import RealTimePredictor\n",
    "from sagemaker.pytorch import PyTorchModel\n",
    "\n",
    "class StringPredictor(RealTimePredictor):\n",
    "    def __init__(self, endpoint_name, sagemaker_session):\n",
    "        super(StringPredictor, self).__init__(endpoint_name, sagemaker_session, content_type='text/plain')\n",
    "\n",
    "model = PyTorchModel(model_data=estimator.model_data,\n",
    "                     role = role,\n",
    "                     framework_version='0.4.0',\n",
    "                     entry_point='predict.py',\n",
    "                     source_dir='serve',\n",
    "                     predictor_cls=StringPredictor)\n",
    "predictor = model.deploy(initial_instance_count=1, instance_type='ml.m4.xlarge')"
   ]
  },
  {
   "cell_type": "markdown",
   "metadata": {},
   "source": [
    "### Testing the model\n",
    "\n",
    "Now that we have deployed our model with the custom inference code, we should test to see if everything is working. Here we test our model by loading the first `250` positive and negative reviews and send them to the endpoint, then collect the results. The reason for only sending some of the data is that the amount of time it takes for our model to process the input and then perform inference is quite long and so testing the entire data set would be prohibitive."
   ]
  },
  {
   "cell_type": "code",
   "execution_count": 222,
   "metadata": {},
   "outputs": [],
   "source": [
    "import glob\n",
    "\n",
    "def test_reviews(data_dir='../data/aclImdb', stop=250):\n",
    "    \n",
    "    results = []\n",
    "    ground = []\n",
    "    \n",
    "    # We make sure to test both positive and negative reviews    \n",
    "    for sentiment in ['pos', 'neg']:\n",
    "        \n",
    "        path = os.path.join(data_dir, 'test', sentiment, '*.txt')\n",
    "        files = glob.glob(path)\n",
    "        \n",
    "        files_read = 0\n",
    "        \n",
    "        print('Starting ', sentiment, ' files')\n",
    "        \n",
    "        # Iterate through the files and send them to the predictor\n",
    "        for f in files:\n",
    "            with open(f) as review:\n",
    "                # First, we store the ground truth (was the review positive or negative)\n",
    "                if sentiment == 'pos':\n",
    "                    ground.append(1)\n",
    "                else:\n",
    "                    ground.append(0)\n",
    "                # Read in the review and convert to 'utf-8' for transmission via HTTP\n",
    "                review_input = review.read().encode('utf-8')\n",
    "                # Send the review to the predictor and store the results\n",
    "                results.append(float(predictor.predict(review_input)))\n",
    "                \n",
    "            # Sending reviews to our endpoint one at a time takes a while so we\n",
    "            # only send a small number of reviews\n",
    "            files_read += 1\n",
    "            if files_read == stop:\n",
    "                break\n",
    "            \n",
    "    return ground, results"
   ]
  },
  {
   "cell_type": "code",
   "execution_count": 223,
   "metadata": {},
   "outputs": [
    {
     "name": "stdout",
     "output_type": "stream",
     "text": [
      "Starting  pos  files\n",
      "Starting  neg  files\n"
     ]
    }
   ],
   "source": [
    "ground, results = test_reviews()"
   ]
  },
  {
   "cell_type": "code",
   "execution_count": 225,
   "metadata": {},
   "outputs": [
    {
     "data": {
      "text/plain": [
       "0.784"
      ]
     },
     "execution_count": 225,
     "metadata": {},
     "output_type": "execute_result"
    }
   ],
   "source": [
    "from sklearn.metrics import accuracy_score\n",
    "accuracy_score(ground, results)"
   ]
  },
  {
   "cell_type": "markdown",
   "metadata": {},
   "source": [
    "As an additional test, we can try sending the `test_review` that we looked at earlier."
   ]
  },
  {
   "cell_type": "code",
   "execution_count": 226,
   "metadata": {},
   "outputs": [
    {
     "data": {
      "text/plain": [
       "b'1.0'"
      ]
     },
     "execution_count": 226,
     "metadata": {},
     "output_type": "execute_result"
    }
   ],
   "source": [
    "predictor.predict(test_review)"
   ]
  },
  {
   "cell_type": "markdown",
   "metadata": {},
   "source": [
    "Now that we know our endpoint is working as expected, we can set up the web page that will interact with it. If you don't have time to finish the project now, make sure to skip down to the end of this notebook and shut down your endpoint. You can deploy it again when you come back."
   ]
  },
  {
   "cell_type": "markdown",
   "metadata": {},
   "source": [
    "## Step 7 (again): Use the model for the web app\n",
    "\n",
    "> **TODO:** This entire section and the next contain tasks for you to complete, mostly using the AWS console.\n",
    "\n",
    "So far we have been accessing our model endpoint by constructing a predictor object which uses the endpoint and then just using the predictor object to perform inference. What if we wanted to create a web app which accessed our model? The way things are set up currently makes that not possible since in order to access a SageMaker endpoint the app would first have to authenticate with AWS using an IAM role which included access to SageMaker endpoints. However, there is an easier way! We just need to use some additional AWS services.\n",
    "\n",
    "<img src=\"Web App Diagram.svg\">\n",
    "\n",
    "The diagram above gives an overview of how the various services will work together. On the far right is the model which we trained above and which is deployed using SageMaker. On the far left is our web app that collects a user's movie review, sends it off and expects a positive or negative sentiment in return.\n",
    "\n",
    "In the middle is where some of the magic happens. We will construct a Lambda function, which you can think of as a straightforward Python function that can be executed whenever a specified event occurs. We will give this function permission to send and recieve data from a SageMaker endpoint.\n",
    "\n",
    "Lastly, the method we will use to execute the Lambda function is a new endpoint that we will create using API Gateway. This endpoint will be a url that listens for data to be sent to it. Once it gets some data it will pass that data on to the Lambda function and then return whatever the Lambda function returns. Essentially it will act as an interface that lets our web app communicate with the Lambda function.\n",
    "\n",
    "### Setting up a Lambda function\n",
    "\n",
    "The first thing we are going to do is set up a Lambda function. This Lambda function will be executed whenever our public API has data sent to it. When it is executed it will receive the data, perform any sort of processing that is required, send the data (the review) to the SageMaker endpoint we've created and then return the result.\n",
    "\n",
    "#### Part A: Create an IAM Role for the Lambda function\n",
    "\n",
    "Since we want the Lambda function to call a SageMaker endpoint, we need to make sure that it has permission to do so. To do this, we will construct a role that we can later give the Lambda function.\n",
    "\n",
    "Using the AWS Console, navigate to the **IAM** page and click on **Roles**. Then, click on **Create role**. Make sure that the **AWS service** is the type of trusted entity selected and choose **Lambda** as the service that will use this role, then click **Next: Permissions**.\n",
    "\n",
    "In the search box type `sagemaker` and select the check box next to the **AmazonSageMakerFullAccess** policy. Then, click on **Next: Review**.\n",
    "\n",
    "Lastly, give this role a name. Make sure you use a name that you will remember later on, for example `LambdaSageMakerRole`. Then, click on **Create role**.\n",
    "\n",
    "#### Part B: Create a Lambda function\n",
    "\n",
    "Now it is time to actually create the Lambda function.\n",
    "\n",
    "Using the AWS Console, navigate to the AWS Lambda page and click on **Create a function**. When you get to the next page, make sure that **Author from scratch** is selected. Now, name your Lambda function, using a name that you will remember later on, for example `sentiment_analysis_func`. Make sure that the **Python 3.6** runtime is selected and then choose the role that you created in the previous part. Then, click on **Create Function**.\n",
    "\n",
    "On the next page you will see some information about the Lambda function you've just created. If you scroll down you should see an editor in which you can write the code that will be executed when your Lambda function is triggered. In our example, we will use the code below. \n",
    "\n",
    "```python\n",
    "# We need to use the low-level library to interact with SageMaker since the SageMaker API\n",
    "# is not available natively through Lambda.\n",
    "import boto3\n",
    "\n",
    "def lambda_handler(event, context):\n",
    "\n",
    "    # The SageMaker runtime is what allows us to invoke the endpoint that we've created.\n",
    "    runtime = boto3.Session().client('sagemaker-runtime')\n",
    "\n",
    "    # Now we use the SageMaker runtime to invoke our endpoint, sending the review we were given\n",
    "    response = runtime.invoke_endpoint(EndpointName = '**ENDPOINT NAME HERE**',    # The name of the endpoint we created\n",
    "                                       ContentType = 'text/plain',                 # The data format that is expected\n",
    "                                       Body = event['body'])                       # The actual review\n",
    "\n",
    "    # The response is an HTTP response whose body contains the result of our inference\n",
    "    result = response['Body'].read().decode('utf-8')\n",
    "\n",
    "    return {\n",
    "        'statusCode' : 200,\n",
    "        'headers' : { 'Content-Type' : 'text/plain', 'Access-Control-Allow-Origin' : '*' },\n",
    "        'body' : result\n",
    "    }\n",
    "```\n",
    "\n",
    "Once you have copy and pasted the code above into the Lambda code editor, replace the `**ENDPOINT NAME HERE**` portion with the name of the endpoint that we deployed earlier. You can determine the name of the endpoint using the code cell below."
   ]
  },
  {
   "cell_type": "code",
   "execution_count": 227,
   "metadata": {},
   "outputs": [
    {
     "data": {
      "text/plain": [
       "'sagemaker-pytorch-2019-08-17-05-51-13-398'"
      ]
     },
     "execution_count": 227,
     "metadata": {},
     "output_type": "execute_result"
    }
   ],
   "source": [
    "predictor.endpoint"
   ]
  },
  {
   "cell_type": "markdown",
   "metadata": {},
   "source": [
    "Once you have added the endpoint name to the Lambda function, click on **Save**. Your Lambda function is now up and running. Next we need to create a way for our web app to execute the Lambda function.\n",
    "\n",
    "### Setting up API Gateway\n",
    "\n",
    "Now that our Lambda function is set up, it is time to create a new API using API Gateway that will trigger the Lambda function we have just created.\n",
    "\n",
    "Using AWS Console, navigate to **Amazon API Gateway** and then click on **Get started**.\n",
    "\n",
    "On the next page, make sure that **New API** is selected and give the new api a name, for example, `sentiment_analysis_api`. Then, click on **Create API**.\n",
    "\n",
    "Now we have created an API, however it doesn't currently do anything. What we want it to do is to trigger the Lambda function that we created earlier.\n",
    "\n",
    "Select the **Actions** dropdown menu and click **Create Method**. A new blank method will be created, select its dropdown menu and select **POST**, then click on the check mark beside it.\n",
    "\n",
    "For the integration point, make sure that **Lambda Function** is selected and click on the **Use Lambda Proxy integration**. This option makes sure that the data that is sent to the API is then sent directly to the Lambda function with no processing. It also means that the return value must be a proper response object as it will also not be processed by API Gateway.\n",
    "\n",
    "Type the name of the Lambda function you created earlier into the **Lambda Function** text entry box and then click on **Save**. Click on **OK** in the pop-up box that then appears, giving permission to API Gateway to invoke the Lambda function you created.\n",
    "\n",
    "The last step in creating the API Gateway is to select the **Actions** dropdown and click on **Deploy API**. You will need to create a new Deployment stage and name it anything you like, for example `prod`.\n",
    "\n",
    "You have now successfully set up a public API to access your SageMaker model. Make sure to copy or write down the URL provided to invoke your newly created public API as this will be needed in the next step. This URL can be found at the top of the page, highlighted in blue next to the text **Invoke URL**."
   ]
  },
  {
   "cell_type": "markdown",
   "metadata": {},
   "source": [
    "## Step 4: Deploying our web app\n",
    "\n",
    "Now that we have a publicly available API, we can start using it in a web app. For our purposes, we have provided a simple static html file which can make use of the public api you created earlier.\n",
    "\n",
    "In the `website` folder there should be a file called `index.html`. Download the file to your computer and open that file up in a text editor of your choice. There should be a line which contains **\\*\\*REPLACE WITH PUBLIC API URL\\*\\***. Replace this string with the url that you wrote down in the last step and then save the file.\n",
    "\n",
    "Now, if you open `index.html` on your local computer, your browser will behave as a local web server and you can use the provided site to interact with your SageMaker model.\n",
    "\n",
    "If you'd like to go further, you can host this html file anywhere you'd like, for example using github or hosting a static site on Amazon's S3. Once you have done this you can share the link with anyone you'd like and have them play with it too!\n",
    "\n",
    "> **Important Note** In order for the web app to communicate with the SageMaker endpoint, the endpoint has to actually be deployed and running. This means that you are paying for it. Make sure that the endpoint is running when you want to use the web app but that you shut it down when you don't need it, otherwise you will end up with a surprisingly large AWS bill.\n",
    "\n",
    "**TODO:** Make sure that you include the edited `index.html` file in your project submission."
   ]
  },
  {
   "cell_type": "markdown",
   "metadata": {},
   "source": [
    "Now that your web app is working, trying playing around with it and see how well it works.\n",
    "\n",
    "**Question**: Give an example of a review that you entered into your web app. What was the predicted sentiment of your example review?\n"
   ]
  },
  {
   "cell_type": "markdown",
   "metadata": {},
   "source": [
    "**Answer:**\n",
    "\n",
    "Review:\n",
    "The movie is good . worth watching once\n",
    "\n",
    "Response:\n",
    "Your review was POSITIVE!\n",
    "\n",
    "\n",
    "Review:\n",
    "very bad movie\n",
    "\n",
    "Response:\n",
    "Your review was NEGATIVE!"
   ]
  },
  {
   "cell_type": "markdown",
   "metadata": {},
   "source": [
    "### Delete the endpoint\n",
    "\n",
    "Remember to always shut down your endpoint if you are no longer using it. You are charged for the length of time that the endpoint is running so if you forget and leave it on you could end up with an unexpectedly large bill."
   ]
  },
  {
   "cell_type": "code",
   "execution_count": 228,
   "metadata": {},
   "outputs": [],
   "source": [
    "predictor.delete_endpoint()"
   ]
  },
  {
   "cell_type": "code",
   "execution_count": null,
   "metadata": {},
   "outputs": [],
   "source": []
  }
 ],
 "metadata": {
  "kernelspec": {
   "display_name": "conda_pytorch_p36",
   "language": "python",
   "name": "conda_pytorch_p36"
  },
  "language_info": {
   "codemirror_mode": {
    "name": "ipython",
    "version": 3
   },
   "file_extension": ".py",
   "mimetype": "text/x-python",
   "name": "python",
   "nbconvert_exporter": "python",
   "pygments_lexer": "ipython3",
   "version": "3.6.5"
  }
 },
 "nbformat": 4,
 "nbformat_minor": 2
}
